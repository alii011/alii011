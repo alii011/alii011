{
  "nbformat": 4,
  "nbformat_minor": 0,
  "metadata": {
    "colab": {
      "name": "model_classeBonusMalus.ipynb",
      "provenance": [],
      "collapsed_sections": []
    },
    "kernelspec": {
      "display_name": "Python 3",
      "name": "python3"
    },
    "language_info": {
      "name": "python"
    }
  },
  "cells": [
    {
      "cell_type": "code",
      "metadata": {
        "colab": {
          "base_uri": "https://localhost:8080/"
        },
        "id": "0dXi0chL9agw",
        "outputId": "d9b5f018-396d-4eeb-96f8-deff26f49d9f"
      },
      "source": [
        "from google.colab import drive\n",
        "drive.mount('/gdrive')"
      ],
      "execution_count": 233,
      "outputs": [
        {
          "output_type": "stream",
          "text": [
            "Drive already mounted at /gdrive; to attempt to forcibly remount, call drive.mount(\"/gdrive\", force_remount=True).\n"
          ],
          "name": "stdout"
        }
      ]
    },
    {
      "cell_type": "code",
      "metadata": {
        "id": "O1PeSHbg9sDh"
      },
      "source": [
        "#importation des librairies nécessaires\n",
        "import numpy as np\n",
        "import pandas as pd\n",
        "import matplotlib.pyplot as plt\n",
        "from matplotlib import rcParams\n",
        "import seaborn as sns\n",
        "from pandas_profiling import ProfileReport"
      ],
      "execution_count": 234,
      "outputs": []
    },
    {
      "cell_type": "code",
      "metadata": {
        "id": "j6kLIzI39yqy"
      },
      "source": [
        "BonusMalus= pd.read_csv(r\"/gdrive/MyDrive/ClassesBonusMalus.csv\")"
      ],
      "execution_count": null,
      "outputs": []
    },
    {
      "cell_type": "code",
      "metadata": {
        "colab": {
          "base_uri": "https://localhost:8080/",
          "height": 568
        },
        "id": "KJNz-sry-N3N",
        "outputId": "18aad72e-bc36-4382-a91e-51ec7868f653"
      },
      "source": [
        "BonusMalus"
      ],
      "execution_count": null,
      "outputs": [
        {
          "output_type": "execute_result",
          "data": {
            "text/html": [
              "<div>\n",
              "<style scoped>\n",
              "    .dataframe tbody tr th:only-of-type {\n",
              "        vertical-align: middle;\n",
              "    }\n",
              "\n",
              "    .dataframe tbody tr th {\n",
              "        vertical-align: top;\n",
              "    }\n",
              "\n",
              "    .dataframe thead th {\n",
              "        text-align: right;\n",
              "    }\n",
              "</style>\n",
              "<table border=\"1\" class=\"dataframe\">\n",
              "  <thead>\n",
              "    <tr style=\"text-align: right;\">\n",
              "      <th></th>\n",
              "      <th>CodeBonusMalus_id</th>\n",
              "      <th>CodePolice_id</th>\n",
              "      <th>CodeVehicule_id</th>\n",
              "      <th>CodeAssure_id</th>\n",
              "      <th>CodeSouscripteur_id</th>\n",
              "      <th>codeUsage</th>\n",
              "      <th>ETAT_VEHICULE</th>\n",
              "      <th>DATE_AFFECTATION</th>\n",
              "      <th>classeBonusMalus</th>\n",
              "      <th>classeBonusMalusCompagnie</th>\n",
              "      <th>coefBonusMalus</th>\n",
              "    </tr>\n",
              "  </thead>\n",
              "  <tbody>\n",
              "    <tr>\n",
              "      <th>0</th>\n",
              "      <td>117346</td>\n",
              "      <td>116167</td>\n",
              "      <td>111858</td>\n",
              "      <td>101772</td>\n",
              "      <td>101691</td>\n",
              "      <td>1</td>\n",
              "      <td>V</td>\n",
              "      <td>2017-07-14 00:00:00.000000</td>\n",
              "      <td>1</td>\n",
              "      <td>1</td>\n",
              "      <td>70</td>\n",
              "    </tr>\n",
              "    <tr>\n",
              "      <th>1</th>\n",
              "      <td>117347</td>\n",
              "      <td>116168</td>\n",
              "      <td>111859</td>\n",
              "      <td>99417</td>\n",
              "      <td>99336</td>\n",
              "      <td>10</td>\n",
              "      <td>V</td>\n",
              "      <td>2017-07-14 00:00:00.000000</td>\n",
              "      <td>1</td>\n",
              "      <td>1</td>\n",
              "      <td>80</td>\n",
              "    </tr>\n",
              "    <tr>\n",
              "      <th>2</th>\n",
              "      <td>117348</td>\n",
              "      <td>116169</td>\n",
              "      <td>111860</td>\n",
              "      <td>101773</td>\n",
              "      <td>101692</td>\n",
              "      <td>1</td>\n",
              "      <td>V</td>\n",
              "      <td>2017-07-14 00:00:00.000000</td>\n",
              "      <td>1</td>\n",
              "      <td>1</td>\n",
              "      <td>70</td>\n",
              "    </tr>\n",
              "    <tr>\n",
              "      <th>3</th>\n",
              "      <td>117349</td>\n",
              "      <td>116170</td>\n",
              "      <td>111861</td>\n",
              "      <td>101774</td>\n",
              "      <td>101693</td>\n",
              "      <td>1</td>\n",
              "      <td>V</td>\n",
              "      <td>2017-07-14 00:00:00.000000</td>\n",
              "      <td>1</td>\n",
              "      <td>1</td>\n",
              "      <td>70</td>\n",
              "    </tr>\n",
              "    <tr>\n",
              "      <th>4</th>\n",
              "      <td>117350</td>\n",
              "      <td>116171</td>\n",
              "      <td>111862</td>\n",
              "      <td>101775</td>\n",
              "      <td>101694</td>\n",
              "      <td>1</td>\n",
              "      <td>V</td>\n",
              "      <td>2017-07-14 00:00:00.000000</td>\n",
              "      <td>2</td>\n",
              "      <td>2</td>\n",
              "      <td>80</td>\n",
              "    </tr>\n",
              "    <tr>\n",
              "      <th>...</th>\n",
              "      <td>...</td>\n",
              "      <td>...</td>\n",
              "      <td>...</td>\n",
              "      <td>...</td>\n",
              "      <td>...</td>\n",
              "      <td>...</td>\n",
              "      <td>...</td>\n",
              "      <td>...</td>\n",
              "      <td>...</td>\n",
              "      <td>...</td>\n",
              "      <td>...</td>\n",
              "    </tr>\n",
              "    <tr>\n",
              "      <th>921531</th>\n",
              "      <td>658899</td>\n",
              "      <td>654359</td>\n",
              "      <td>559180</td>\n",
              "      <td>230555</td>\n",
              "      <td>230480</td>\n",
              "      <td>1</td>\n",
              "      <td>V</td>\n",
              "      <td>2017-12-17 00:00:00.000000</td>\n",
              "      <td>4</td>\n",
              "      <td>4</td>\n",
              "      <td>100</td>\n",
              "    </tr>\n",
              "    <tr>\n",
              "      <th>921532</th>\n",
              "      <td>658900</td>\n",
              "      <td>654360</td>\n",
              "      <td>559181</td>\n",
              "      <td>362916</td>\n",
              "      <td>362943</td>\n",
              "      <td>5</td>\n",
              "      <td>V</td>\n",
              "      <td>2017-05-25 00:00:00.000000</td>\n",
              "      <td>4</td>\n",
              "      <td>4</td>\n",
              "      <td>120</td>\n",
              "    </tr>\n",
              "    <tr>\n",
              "      <th>921533</th>\n",
              "      <td>658901</td>\n",
              "      <td>654361</td>\n",
              "      <td>556851</td>\n",
              "      <td>528931</td>\n",
              "      <td>528936</td>\n",
              "      <td>1</td>\n",
              "      <td>V</td>\n",
              "      <td>2016-10-03 00:00:00.000000</td>\n",
              "      <td>1</td>\n",
              "      <td>1</td>\n",
              "      <td>70</td>\n",
              "    </tr>\n",
              "    <tr>\n",
              "      <th>921534</th>\n",
              "      <td>658902</td>\n",
              "      <td>654362</td>\n",
              "      <td>559182</td>\n",
              "      <td>266358</td>\n",
              "      <td>258175</td>\n",
              "      <td>6</td>\n",
              "      <td>V</td>\n",
              "      <td>2017-12-17 00:00:00.000000</td>\n",
              "      <td>2</td>\n",
              "      <td>2</td>\n",
              "      <td>90</td>\n",
              "    </tr>\n",
              "    <tr>\n",
              "      <th>921535</th>\n",
              "      <td>658903</td>\n",
              "      <td>654363</td>\n",
              "      <td>559183</td>\n",
              "      <td>528932</td>\n",
              "      <td>528937</td>\n",
              "      <td>5</td>\n",
              "      <td>V</td>\n",
              "      <td>2017-12-17 00:00:00.000000</td>\n",
              "      <td>4</td>\n",
              "      <td>4</td>\n",
              "      <td>120</td>\n",
              "    </tr>\n",
              "  </tbody>\n",
              "</table>\n",
              "<p>921536 rows × 11 columns</p>\n",
              "</div>"
            ],
            "text/plain": [
              "        CodeBonusMalus_id  ...  coefBonusMalus\n",
              "0                  117346  ...              70\n",
              "1                  117347  ...              80\n",
              "2                  117348  ...              70\n",
              "3                  117349  ...              70\n",
              "4                  117350  ...              80\n",
              "...                   ...  ...             ...\n",
              "921531             658899  ...             100\n",
              "921532             658900  ...             120\n",
              "921533             658901  ...              70\n",
              "921534             658902  ...              90\n",
              "921535             658903  ...             120\n",
              "\n",
              "[921536 rows x 11 columns]"
            ]
          },
          "metadata": {
            "tags": []
          },
          "execution_count": 4
        }
      ]
    },
    {
      "cell_type": "markdown",
      "metadata": {
        "id": "DrX-UfTn-Tai"
      },
      "source": [
        "# **I-PreProcessing:**"
      ]
    },
    {
      "cell_type": "code",
      "metadata": {
        "colab": {
          "base_uri": "https://localhost:8080/"
        },
        "id": "Muvs19AW-snE",
        "outputId": "8c6a105f-27e6-4f9d-eda1-73e08b73a3ff"
      },
      "source": [
        "BonusMalus.columns"
      ],
      "execution_count": null,
      "outputs": [
        {
          "output_type": "execute_result",
          "data": {
            "text/plain": [
              "Index(['CodeBonusMalus_id', 'CodePolice_id', 'CodeVehicule_id',\n",
              "       'CodeAssure_id', 'CodeSouscripteur_id', 'codeUsage', 'ETAT_VEHICULE',\n",
              "       'DATE_AFFECTATION', 'classeBonusMalus', 'classeBonusMalusCompagnie',\n",
              "       'coefBonusMalus'],\n",
              "      dtype='object')"
            ]
          },
          "metadata": {
            "tags": []
          },
          "execution_count": 5
        }
      ]
    },
    {
      "cell_type": "code",
      "metadata": {
        "colab": {
          "base_uri": "https://localhost:8080/"
        },
        "id": "7hSmFdZd_YcK",
        "outputId": "616748cd-6d45-4801-9edd-d44976be5869"
      },
      "source": [
        "BonusMalus.shape"
      ],
      "execution_count": null,
      "outputs": [
        {
          "output_type": "execute_result",
          "data": {
            "text/plain": [
              "(921536, 11)"
            ]
          },
          "metadata": {
            "tags": []
          },
          "execution_count": 6
        }
      ]
    },
    {
      "cell_type": "code",
      "metadata": {
        "colab": {
          "base_uri": "https://localhost:8080/"
        },
        "id": "_kJbNrhl--ZZ",
        "outputId": "6c519bd5-33a0-4b0f-8b90-ba5f43199368"
      },
      "source": [
        "BonusMalus.isnull().sum()"
      ],
      "execution_count": null,
      "outputs": [
        {
          "output_type": "execute_result",
          "data": {
            "text/plain": [
              "CodeBonusMalus_id            0\n",
              "CodePolice_id                0\n",
              "CodeVehicule_id              0\n",
              "CodeAssure_id                0\n",
              "CodeSouscripteur_id          0\n",
              "codeUsage                    0\n",
              "ETAT_VEHICULE                0\n",
              "DATE_AFFECTATION             0\n",
              "classeBonusMalus             0\n",
              "classeBonusMalusCompagnie    0\n",
              "coefBonusMalus               0\n",
              "dtype: int64"
            ]
          },
          "metadata": {
            "tags": []
          },
          "execution_count": 7
        }
      ]
    },
    {
      "cell_type": "code",
      "metadata": {
        "colab": {
          "base_uri": "https://localhost:8080/"
        },
        "id": "ln88DpJO_I_P",
        "outputId": "155cf7ca-5d22-430c-e4b1-8a8a924f3ecc"
      },
      "source": [
        "BonusMalus[\"classeBonusMalus\"].unique()"
      ],
      "execution_count": null,
      "outputs": [
        {
          "output_type": "execute_result",
          "data": {
            "text/plain": [
              "array([ 1,  2,  3,  6,  7,  8,  4,  9,  5, 11, 10])"
            ]
          },
          "metadata": {
            "tags": []
          },
          "execution_count": 239
        }
      ]
    },
    {
      "cell_type": "markdown",
      "metadata": {
        "id": "WxlYMdgY_svc"
      },
      "source": [
        "Il ya 11 Classes BonusMalus à etudier."
      ]
    },
    {
      "cell_type": "code",
      "metadata": {
        "id": "qw0NZ9M1_0lB"
      },
      "source": [
        "Vehicule_clean = pd.read_csv(r\"/gdrive/MyDrive/Vehicule.csv\")"
      ],
      "execution_count": null,
      "outputs": []
    },
    {
      "cell_type": "code",
      "metadata": {
        "id": "dPE4ozupAc6r"
      },
      "source": [
        "df_merge=pd.merge(Vehicule_clean,BonusMalus,left_on=\"CodeVehicule_id\",right_on=\"CodeVehicule_id\")"
      ],
      "execution_count": null,
      "outputs": []
    },
    {
      "cell_type": "code",
      "metadata": {
        "colab": {
          "base_uri": "https://localhost:8080/",
          "height": 588
        },
        "id": "4mf_t8FzBNrU",
        "outputId": "ff6d02fc-4f3a-4b53-d426-7ea79f7d4a9c"
      },
      "source": [
        "df_merge"
      ],
      "execution_count": null,
      "outputs": [
        {
          "output_type": "execute_result",
          "data": {
            "text/html": [
              "<div>\n",
              "<style scoped>\n",
              "    .dataframe tbody tr th:only-of-type {\n",
              "        vertical-align: middle;\n",
              "    }\n",
              "\n",
              "    .dataframe tbody tr th {\n",
              "        vertical-align: top;\n",
              "    }\n",
              "\n",
              "    .dataframe thead th {\n",
              "        text-align: right;\n",
              "    }\n",
              "</style>\n",
              "<table border=\"1\" class=\"dataframe\">\n",
              "  <thead>\n",
              "    <tr style=\"text-align: right;\">\n",
              "      <th></th>\n",
              "      <th>CodeVehicule_id</th>\n",
              "      <th>codeMarque</th>\n",
              "      <th>puissanceFiscal</th>\n",
              "      <th>typeImmatriculation</th>\n",
              "      <th>energie</th>\n",
              "      <th>dateInsertion</th>\n",
              "      <th>CodeBonusMalus_id</th>\n",
              "      <th>CodePolice_id</th>\n",
              "      <th>CodeAssure_id</th>\n",
              "      <th>CodeSouscripteur_id</th>\n",
              "      <th>codeUsage</th>\n",
              "      <th>ETAT_VEHICULE</th>\n",
              "      <th>DATE_AFFECTATION</th>\n",
              "      <th>classeBonusMalus</th>\n",
              "      <th>classeBonusMalusCompagnie</th>\n",
              "      <th>coefBonusMalus</th>\n",
              "    </tr>\n",
              "  </thead>\n",
              "  <tbody>\n",
              "    <tr>\n",
              "      <th>0</th>\n",
              "      <td>696264</td>\n",
              "      <td>152</td>\n",
              "      <td>5</td>\n",
              "      <td>TU</td>\n",
              "      <td>ESSENCE</td>\n",
              "      <td>2017-10-05</td>\n",
              "      <td>868429</td>\n",
              "      <td>863646</td>\n",
              "      <td>668681</td>\n",
              "      <td>668688</td>\n",
              "      <td>1</td>\n",
              "      <td>V</td>\n",
              "      <td>2017-06-14 00:00:00.000000</td>\n",
              "      <td>5</td>\n",
              "      <td>5</td>\n",
              "      <td>120</td>\n",
              "    </tr>\n",
              "    <tr>\n",
              "      <th>1</th>\n",
              "      <td>696265</td>\n",
              "      <td>107</td>\n",
              "      <td>4</td>\n",
              "      <td>TU</td>\n",
              "      <td>ESSENCE</td>\n",
              "      <td>2017-10-05</td>\n",
              "      <td>868430</td>\n",
              "      <td>863647</td>\n",
              "      <td>668682</td>\n",
              "      <td>668689</td>\n",
              "      <td>1</td>\n",
              "      <td>V</td>\n",
              "      <td>2016-07-06 00:00:00.000000</td>\n",
              "      <td>1</td>\n",
              "      <td>1</td>\n",
              "      <td>70</td>\n",
              "    </tr>\n",
              "    <tr>\n",
              "      <th>2</th>\n",
              "      <td>696266</td>\n",
              "      <td>808</td>\n",
              "      <td>5</td>\n",
              "      <td>TU</td>\n",
              "      <td>ESSENCE</td>\n",
              "      <td>2017-10-05</td>\n",
              "      <td>868431</td>\n",
              "      <td>863648</td>\n",
              "      <td>668683</td>\n",
              "      <td>668690</td>\n",
              "      <td>1</td>\n",
              "      <td>V</td>\n",
              "      <td>2016-04-30 00:00:00.000000</td>\n",
              "      <td>4</td>\n",
              "      <td>4</td>\n",
              "      <td>100</td>\n",
              "    </tr>\n",
              "    <tr>\n",
              "      <th>3</th>\n",
              "      <td>696267</td>\n",
              "      <td>30</td>\n",
              "      <td>8</td>\n",
              "      <td>TU</td>\n",
              "      <td>GASOIL</td>\n",
              "      <td>2017-10-05</td>\n",
              "      <td>868432</td>\n",
              "      <td>863649</td>\n",
              "      <td>668684</td>\n",
              "      <td>668691</td>\n",
              "      <td>5</td>\n",
              "      <td>V</td>\n",
              "      <td>2016-05-08 00:00:00.000000</td>\n",
              "      <td>2</td>\n",
              "      <td>2</td>\n",
              "      <td>90</td>\n",
              "    </tr>\n",
              "    <tr>\n",
              "      <th>4</th>\n",
              "      <td>696268</td>\n",
              "      <td>29</td>\n",
              "      <td>7</td>\n",
              "      <td>TU</td>\n",
              "      <td>GASOIL</td>\n",
              "      <td>2017-10-05</td>\n",
              "      <td>868433</td>\n",
              "      <td>863650</td>\n",
              "      <td>370720</td>\n",
              "      <td>370747</td>\n",
              "      <td>5</td>\n",
              "      <td>V</td>\n",
              "      <td>2016-04-26 00:00:00.000000</td>\n",
              "      <td>2</td>\n",
              "      <td>2</td>\n",
              "      <td>90</td>\n",
              "    </tr>\n",
              "    <tr>\n",
              "      <th>...</th>\n",
              "      <td>...</td>\n",
              "      <td>...</td>\n",
              "      <td>...</td>\n",
              "      <td>...</td>\n",
              "      <td>...</td>\n",
              "      <td>...</td>\n",
              "      <td>...</td>\n",
              "      <td>...</td>\n",
              "      <td>...</td>\n",
              "      <td>...</td>\n",
              "      <td>...</td>\n",
              "      <td>...</td>\n",
              "      <td>...</td>\n",
              "      <td>...</td>\n",
              "      <td>...</td>\n",
              "      <td>...</td>\n",
              "    </tr>\n",
              "    <tr>\n",
              "      <th>862495</th>\n",
              "      <td>685055</td>\n",
              "      <td>107</td>\n",
              "      <td>5</td>\n",
              "      <td>TU</td>\n",
              "      <td>GASOIL</td>\n",
              "      <td>2017-10-05</td>\n",
              "      <td>1436329</td>\n",
              "      <td>1428275</td>\n",
              "      <td>1067914</td>\n",
              "      <td>1067531</td>\n",
              "      <td>1</td>\n",
              "      <td>V</td>\n",
              "      <td>2016-04-01 00:00:00.000000</td>\n",
              "      <td>4</td>\n",
              "      <td>4</td>\n",
              "      <td>100</td>\n",
              "    </tr>\n",
              "    <tr>\n",
              "      <th>862496</th>\n",
              "      <td>685056</td>\n",
              "      <td>376</td>\n",
              "      <td>10</td>\n",
              "      <td>TU</td>\n",
              "      <td>GASOIL</td>\n",
              "      <td>2017-10-05</td>\n",
              "      <td>1316495</td>\n",
              "      <td>1311618</td>\n",
              "      <td>1025698</td>\n",
              "      <td>1025711</td>\n",
              "      <td>2</td>\n",
              "      <td>V</td>\n",
              "      <td>2017-09-14 00:00:00.000000</td>\n",
              "      <td>5</td>\n",
              "      <td>5</td>\n",
              "      <td>150</td>\n",
              "    </tr>\n",
              "    <tr>\n",
              "      <th>862497</th>\n",
              "      <td>685057</td>\n",
              "      <td>29</td>\n",
              "      <td>7</td>\n",
              "      <td>TU</td>\n",
              "      <td>GASOIL</td>\n",
              "      <td>2017-10-05</td>\n",
              "      <td>1090459</td>\n",
              "      <td>1085667</td>\n",
              "      <td>844047</td>\n",
              "      <td>844057</td>\n",
              "      <td>3</td>\n",
              "      <td>V</td>\n",
              "      <td>2017-10-03 00:00:00.000000</td>\n",
              "      <td>5</td>\n",
              "      <td>5</td>\n",
              "      <td>150</td>\n",
              "    </tr>\n",
              "    <tr>\n",
              "      <th>862498</th>\n",
              "      <td>685059</td>\n",
              "      <td>29</td>\n",
              "      <td>5</td>\n",
              "      <td>TU</td>\n",
              "      <td>GASOIL</td>\n",
              "      <td>2017-10-05</td>\n",
              "      <td>872365</td>\n",
              "      <td>867582</td>\n",
              "      <td>657249</td>\n",
              "      <td>657256</td>\n",
              "      <td>5</td>\n",
              "      <td>V</td>\n",
              "      <td>2017-02-07 00:00:00.000000</td>\n",
              "      <td>1</td>\n",
              "      <td>1</td>\n",
              "      <td>80</td>\n",
              "    </tr>\n",
              "    <tr>\n",
              "      <th>862499</th>\n",
              "      <td>685059</td>\n",
              "      <td>29</td>\n",
              "      <td>5</td>\n",
              "      <td>TU</td>\n",
              "      <td>GASOIL</td>\n",
              "      <td>2017-10-05</td>\n",
              "      <td>967471</td>\n",
              "      <td>962688</td>\n",
              "      <td>745277</td>\n",
              "      <td>745285</td>\n",
              "      <td>5</td>\n",
              "      <td>V</td>\n",
              "      <td>2016-06-13 00:00:00.000000</td>\n",
              "      <td>3</td>\n",
              "      <td>3</td>\n",
              "      <td>100</td>\n",
              "    </tr>\n",
              "  </tbody>\n",
              "</table>\n",
              "<p>862500 rows × 16 columns</p>\n",
              "</div>"
            ],
            "text/plain": [
              "        CodeVehicule_id  codeMarque  ...  classeBonusMalusCompagnie coefBonusMalus\n",
              "0                696264         152  ...                          5            120\n",
              "1                696265         107  ...                          1             70\n",
              "2                696266         808  ...                          4            100\n",
              "3                696267          30  ...                          2             90\n",
              "4                696268          29  ...                          2             90\n",
              "...                 ...         ...  ...                        ...            ...\n",
              "862495           685055         107  ...                          4            100\n",
              "862496           685056         376  ...                          5            150\n",
              "862497           685057          29  ...                          5            150\n",
              "862498           685059          29  ...                          1             80\n",
              "862499           685059          29  ...                          3            100\n",
              "\n",
              "[862500 rows x 16 columns]"
            ]
          },
          "metadata": {
            "tags": []
          },
          "execution_count": 242
        }
      ]
    },
    {
      "cell_type": "code",
      "metadata": {
        "colab": {
          "base_uri": "https://localhost:8080/"
        },
        "id": "M7jbbQ2HC3IK",
        "outputId": "23330b57-9cc8-43e1-a89d-16749b53fe84"
      },
      "source": [
        "df_merge.info()"
      ],
      "execution_count": null,
      "outputs": [
        {
          "output_type": "stream",
          "text": [
            "<class 'pandas.core.frame.DataFrame'>\n",
            "Int64Index: 862500 entries, 0 to 862499\n",
            "Data columns (total 16 columns):\n",
            " #   Column                     Non-Null Count   Dtype \n",
            "---  ------                     --------------   ----- \n",
            " 0   CodeVehicule_id            862500 non-null  int64 \n",
            " 1   codeMarque                 862500 non-null  int64 \n",
            " 2   puissanceFiscal            862500 non-null  int64 \n",
            " 3   typeImmatriculation        862500 non-null  object\n",
            " 4   energie                    862500 non-null  object\n",
            " 5   dateInsertion              862500 non-null  object\n",
            " 6   CodeBonusMalus_id          862500 non-null  int64 \n",
            " 7   CodePolice_id              862500 non-null  int64 \n",
            " 8   CodeAssure_id              862500 non-null  int64 \n",
            " 9   CodeSouscripteur_id        862500 non-null  int64 \n",
            " 10  codeUsage                  862500 non-null  int64 \n",
            " 11  ETAT_VEHICULE              862500 non-null  object\n",
            " 12  DATE_AFFECTATION           862500 non-null  object\n",
            " 13  classeBonusMalus           862500 non-null  int64 \n",
            " 14  classeBonusMalusCompagnie  862500 non-null  int64 \n",
            " 15  coefBonusMalus             862500 non-null  int64 \n",
            "dtypes: int64(11), object(5)\n",
            "memory usage: 111.9+ MB\n"
          ],
          "name": "stdout"
        }
      ]
    },
    {
      "cell_type": "code",
      "metadata": {
        "colab": {
          "base_uri": "https://localhost:8080/"
        },
        "id": "hmhpKXjzC_bj",
        "outputId": "8c5c0a05-8514-4ed1-c4c0-ea121fe25625"
      },
      "source": [
        "Police_clean = pd.read_csv(r\"/gdrive/MyDrive/Police.csv\")"
      ],
      "execution_count": null,
      "outputs": [
        {
          "output_type": "stream",
          "text": [
            "/usr/local/lib/python3.7/dist-packages/IPython/core/interactiveshell.py:2718: DtypeWarning: Columns (2) have mixed types.Specify dtype option on import or set low_memory=False.\n",
            "  interactivity=interactivity, compiler=compiler, result=result)\n"
          ],
          "name": "stderr"
        }
      ]
    },
    {
      "cell_type": "code",
      "metadata": {
        "colab": {
          "base_uri": "https://localhost:8080/",
          "height": 399
        },
        "id": "uITlL9d5N1bW",
        "outputId": "a83a125f-4f35-4ba4-b842-49f65edaa0aa"
      },
      "source": [
        "Police_clean"
      ],
      "execution_count": null,
      "outputs": [
        {
          "output_type": "execute_result",
          "data": {
            "text/html": [
              "<div>\n",
              "<style scoped>\n",
              "    .dataframe tbody tr th:only-of-type {\n",
              "        vertical-align: middle;\n",
              "    }\n",
              "\n",
              "    .dataframe tbody tr th {\n",
              "        vertical-align: top;\n",
              "    }\n",
              "\n",
              "    .dataframe thead th {\n",
              "        text-align: right;\n",
              "    }\n",
              "</style>\n",
              "<table border=\"1\" class=\"dataframe\">\n",
              "  <thead>\n",
              "    <tr style=\"text-align: right;\">\n",
              "      <th></th>\n",
              "      <th>CodePolice_id</th>\n",
              "      <th>codeCompagnie</th>\n",
              "      <th>codeAgence</th>\n",
              "      <th>typeIntermediaire</th>\n",
              "      <th>numPolice</th>\n",
              "      <th>naturePolice</th>\n",
              "      <th>typePolice</th>\n",
              "      <th>Etat_Police</th>\n",
              "      <th>dateEffetPolice</th>\n",
              "      <th>dateEcheancePolice</th>\n",
              "    </tr>\n",
              "  </thead>\n",
              "  <tbody>\n",
              "    <tr>\n",
              "      <th>0</th>\n",
              "      <td>545568</td>\n",
              "      <td>1</td>\n",
              "      <td>599</td>\n",
              "      <td>1</td>\n",
              "      <td>20155.0076050/6</td>\n",
              "      <td>R</td>\n",
              "      <td>I</td>\n",
              "      <td>R</td>\n",
              "      <td>2015-10-13</td>\n",
              "      <td>1013.0</td>\n",
              "    </tr>\n",
              "    <tr>\n",
              "      <th>1</th>\n",
              "      <td>545569</td>\n",
              "      <td>1</td>\n",
              "      <td>655</td>\n",
              "      <td>1</td>\n",
              "      <td>20155.0076056/5</td>\n",
              "      <td>R</td>\n",
              "      <td>I</td>\n",
              "      <td>V</td>\n",
              "      <td>2015-10-13</td>\n",
              "      <td>1013.0</td>\n",
              "    </tr>\n",
              "    <tr>\n",
              "      <th>2</th>\n",
              "      <td>545570</td>\n",
              "      <td>1</td>\n",
              "      <td>757</td>\n",
              "      <td>1</td>\n",
              "      <td>20155.0076058/9</td>\n",
              "      <td>R</td>\n",
              "      <td>I</td>\n",
              "      <td>V</td>\n",
              "      <td>2015-10-13</td>\n",
              "      <td>1013.0</td>\n",
              "    </tr>\n",
              "    <tr>\n",
              "      <th>3</th>\n",
              "      <td>545571</td>\n",
              "      <td>1</td>\n",
              "      <td>636</td>\n",
              "      <td>1</td>\n",
              "      <td>20155.0076059/4</td>\n",
              "      <td>R</td>\n",
              "      <td>I</td>\n",
              "      <td>V</td>\n",
              "      <td>2015-10-13</td>\n",
              "      <td>1013.0</td>\n",
              "    </tr>\n",
              "    <tr>\n",
              "      <th>4</th>\n",
              "      <td>545572</td>\n",
              "      <td>1</td>\n",
              "      <td>610</td>\n",
              "      <td>1</td>\n",
              "      <td>20155.0076062/9</td>\n",
              "      <td>R</td>\n",
              "      <td>I</td>\n",
              "      <td>V</td>\n",
              "      <td>2015-10-13</td>\n",
              "      <td>1013.0</td>\n",
              "    </tr>\n",
              "    <tr>\n",
              "      <th>...</th>\n",
              "      <td>...</td>\n",
              "      <td>...</td>\n",
              "      <td>...</td>\n",
              "      <td>...</td>\n",
              "      <td>...</td>\n",
              "      <td>...</td>\n",
              "      <td>...</td>\n",
              "      <td>...</td>\n",
              "      <td>...</td>\n",
              "      <td>...</td>\n",
              "    </tr>\n",
              "    <tr>\n",
              "      <th>937275</th>\n",
              "      <td>437233</td>\n",
              "      <td>1</td>\n",
              "      <td>626</td>\n",
              "      <td>1</td>\n",
              "      <td>201650000043769</td>\n",
              "      <td>R</td>\n",
              "      <td>I</td>\n",
              "      <td>V</td>\n",
              "      <td>2016-05-31</td>\n",
              "      <td>531.0</td>\n",
              "    </tr>\n",
              "    <tr>\n",
              "      <th>937276</th>\n",
              "      <td>437234</td>\n",
              "      <td>1</td>\n",
              "      <td>585</td>\n",
              "      <td>1</td>\n",
              "      <td>201650000043774</td>\n",
              "      <td>R</td>\n",
              "      <td>I</td>\n",
              "      <td>V</td>\n",
              "      <td>2016-05-31</td>\n",
              "      <td>531.0</td>\n",
              "    </tr>\n",
              "    <tr>\n",
              "      <th>937277</th>\n",
              "      <td>437235</td>\n",
              "      <td>1</td>\n",
              "      <td>576</td>\n",
              "      <td>1</td>\n",
              "      <td>201650000043782</td>\n",
              "      <td>R</td>\n",
              "      <td>I</td>\n",
              "      <td>V</td>\n",
              "      <td>2016-05-31</td>\n",
              "      <td>531.0</td>\n",
              "    </tr>\n",
              "    <tr>\n",
              "      <th>937278</th>\n",
              "      <td>437236</td>\n",
              "      <td>1</td>\n",
              "      <td>768</td>\n",
              "      <td>1</td>\n",
              "      <td>201650000043794</td>\n",
              "      <td>R</td>\n",
              "      <td>I</td>\n",
              "      <td>R</td>\n",
              "      <td>2016-05-31</td>\n",
              "      <td>531.0</td>\n",
              "    </tr>\n",
              "    <tr>\n",
              "      <th>937279</th>\n",
              "      <td>437237</td>\n",
              "      <td>1</td>\n",
              "      <td>689</td>\n",
              "      <td>1</td>\n",
              "      <td>201650000043795</td>\n",
              "      <td>R</td>\n",
              "      <td>I</td>\n",
              "      <td>V</td>\n",
              "      <td>2016-05-31</td>\n",
              "      <td>531.0</td>\n",
              "    </tr>\n",
              "  </tbody>\n",
              "</table>\n",
              "<p>937280 rows × 10 columns</p>\n",
              "</div>"
            ],
            "text/plain": [
              "        CodePolice_id  codeCompagnie  ... dateEffetPolice  dateEcheancePolice\n",
              "0              545568              1  ...      2015-10-13              1013.0\n",
              "1              545569              1  ...      2015-10-13              1013.0\n",
              "2              545570              1  ...      2015-10-13              1013.0\n",
              "3              545571              1  ...      2015-10-13              1013.0\n",
              "4              545572              1  ...      2015-10-13              1013.0\n",
              "...               ...            ...  ...             ...                 ...\n",
              "937275         437233              1  ...      2016-05-31               531.0\n",
              "937276         437234              1  ...      2016-05-31               531.0\n",
              "937277         437235              1  ...      2016-05-31               531.0\n",
              "937278         437236              1  ...      2016-05-31               531.0\n",
              "937279         437237              1  ...      2016-05-31               531.0\n",
              "\n",
              "[937280 rows x 10 columns]"
            ]
          },
          "metadata": {
            "tags": []
          },
          "execution_count": 245
        }
      ]
    },
    {
      "cell_type": "code",
      "metadata": {
        "colab": {
          "base_uri": "https://localhost:8080/"
        },
        "id": "laGhIFgLFq8m",
        "outputId": "f7954775-8939-49dd-cb90-047780e2321b"
      },
      "source": [
        "Police_clean.shape"
      ],
      "execution_count": null,
      "outputs": [
        {
          "output_type": "execute_result",
          "data": {
            "text/plain": [
              "(937280, 10)"
            ]
          },
          "metadata": {
            "tags": []
          },
          "execution_count": 246
        }
      ]
    },
    {
      "cell_type": "code",
      "metadata": {
        "colab": {
          "base_uri": "https://localhost:8080/"
        },
        "id": "QvQ5bmkVF4Zy",
        "outputId": "ab490cf1-7ed0-45b4-f08f-ac2e093206a0"
      },
      "source": [
        "Police_clean.info()"
      ],
      "execution_count": null,
      "outputs": [
        {
          "output_type": "stream",
          "text": [
            "<class 'pandas.core.frame.DataFrame'>\n",
            "RangeIndex: 937280 entries, 0 to 937279\n",
            "Data columns (total 10 columns):\n",
            " #   Column              Non-Null Count   Dtype  \n",
            "---  ------              --------------   -----  \n",
            " 0   CodePolice_id       937280 non-null  int64  \n",
            " 1   codeCompagnie       937280 non-null  int64  \n",
            " 2   codeAgence          937280 non-null  object \n",
            " 3   typeIntermediaire   937280 non-null  int64  \n",
            " 4   numPolice           937280 non-null  object \n",
            " 5   naturePolice        937280 non-null  object \n",
            " 6   typePolice          937280 non-null  object \n",
            " 7   Etat_Police         937280 non-null  object \n",
            " 8   dateEffetPolice     937280 non-null  object \n",
            " 9   dateEcheancePolice  845396 non-null  float64\n",
            "dtypes: float64(1), int64(3), object(6)\n",
            "memory usage: 71.5+ MB\n"
          ],
          "name": "stdout"
        }
      ]
    },
    {
      "cell_type": "code",
      "metadata": {
        "colab": {
          "base_uri": "https://localhost:8080/"
        },
        "id": "TX-J3HdnGL9s",
        "outputId": "693866f4-e8ef-471b-9a6f-4eaecdd07d60"
      },
      "source": [
        "Police_clean.isnull().sum()"
      ],
      "execution_count": null,
      "outputs": [
        {
          "output_type": "execute_result",
          "data": {
            "text/plain": [
              "CodePolice_id             0\n",
              "codeCompagnie             0\n",
              "codeAgence                0\n",
              "typeIntermediaire         0\n",
              "numPolice                 0\n",
              "naturePolice              0\n",
              "typePolice                0\n",
              "Etat_Police               0\n",
              "dateEffetPolice           0\n",
              "dateEcheancePolice    91884\n",
              "dtype: int64"
            ]
          },
          "metadata": {
            "tags": []
          },
          "execution_count": 248
        }
      ]
    },
    {
      "cell_type": "code",
      "metadata": {
        "id": "jNhXGkX0GU6r"
      },
      "source": [
        "df_merge2=pd.merge(Police_clean,df_merge,left_on=\"CodePolice_id\",right_on=\"CodePolice_id\")"
      ],
      "execution_count": null,
      "outputs": []
    },
    {
      "cell_type": "code",
      "metadata": {
        "colab": {
          "base_uri": "https://localhost:8080/",
          "height": 588
        },
        "id": "fWgkEJ5KuPN_",
        "outputId": "40b8279d-3dc0-4813-d598-d8c33973add7"
      },
      "source": [
        "df_merge2"
      ],
      "execution_count": null,
      "outputs": [
        {
          "output_type": "execute_result",
          "data": {
            "text/html": [
              "<div>\n",
              "<style scoped>\n",
              "    .dataframe tbody tr th:only-of-type {\n",
              "        vertical-align: middle;\n",
              "    }\n",
              "\n",
              "    .dataframe tbody tr th {\n",
              "        vertical-align: top;\n",
              "    }\n",
              "\n",
              "    .dataframe thead th {\n",
              "        text-align: right;\n",
              "    }\n",
              "</style>\n",
              "<table border=\"1\" class=\"dataframe\">\n",
              "  <thead>\n",
              "    <tr style=\"text-align: right;\">\n",
              "      <th></th>\n",
              "      <th>CodePolice_id</th>\n",
              "      <th>codeCompagnie</th>\n",
              "      <th>codeAgence</th>\n",
              "      <th>typeIntermediaire</th>\n",
              "      <th>numPolice</th>\n",
              "      <th>naturePolice</th>\n",
              "      <th>typePolice</th>\n",
              "      <th>Etat_Police</th>\n",
              "      <th>dateEffetPolice</th>\n",
              "      <th>dateEcheancePolice</th>\n",
              "      <th>CodeVehicule_id</th>\n",
              "      <th>codeMarque</th>\n",
              "      <th>puissanceFiscal</th>\n",
              "      <th>typeImmatriculation</th>\n",
              "      <th>energie</th>\n",
              "      <th>dateInsertion</th>\n",
              "      <th>CodeBonusMalus_id</th>\n",
              "      <th>CodeAssure_id</th>\n",
              "      <th>CodeSouscripteur_id</th>\n",
              "      <th>codeUsage</th>\n",
              "      <th>ETAT_VEHICULE</th>\n",
              "      <th>DATE_AFFECTATION</th>\n",
              "      <th>classeBonusMalus</th>\n",
              "      <th>classeBonusMalusCompagnie</th>\n",
              "      <th>coefBonusMalus</th>\n",
              "    </tr>\n",
              "  </thead>\n",
              "  <tbody>\n",
              "    <tr>\n",
              "      <th>0</th>\n",
              "      <td>545568</td>\n",
              "      <td>1</td>\n",
              "      <td>599</td>\n",
              "      <td>1</td>\n",
              "      <td>20155.0076050/6</td>\n",
              "      <td>R</td>\n",
              "      <td>I</td>\n",
              "      <td>R</td>\n",
              "      <td>2015-10-13</td>\n",
              "      <td>1013.0</td>\n",
              "      <td>467918</td>\n",
              "      <td>29</td>\n",
              "      <td>5</td>\n",
              "      <td>TU</td>\n",
              "      <td>GASOIL</td>\n",
              "      <td>2017-10-05</td>\n",
              "      <td>550108</td>\n",
              "      <td>444953</td>\n",
              "      <td>444957</td>\n",
              "      <td>1</td>\n",
              "      <td>V</td>\n",
              "      <td>2017-10-13 00:00:00.000000</td>\n",
              "      <td>5</td>\n",
              "      <td>5</td>\n",
              "      <td>120</td>\n",
              "    </tr>\n",
              "    <tr>\n",
              "      <th>1</th>\n",
              "      <td>545569</td>\n",
              "      <td>1</td>\n",
              "      <td>655</td>\n",
              "      <td>1</td>\n",
              "      <td>20155.0076056/5</td>\n",
              "      <td>R</td>\n",
              "      <td>I</td>\n",
              "      <td>V</td>\n",
              "      <td>2015-10-13</td>\n",
              "      <td>1013.0</td>\n",
              "      <td>467919</td>\n",
              "      <td>107</td>\n",
              "      <td>8</td>\n",
              "      <td>TU</td>\n",
              "      <td>GASOIL</td>\n",
              "      <td>2017-10-05</td>\n",
              "      <td>550109</td>\n",
              "      <td>444954</td>\n",
              "      <td>444958</td>\n",
              "      <td>5</td>\n",
              "      <td>V</td>\n",
              "      <td>2017-10-13 00:00:00.000000</td>\n",
              "      <td>3</td>\n",
              "      <td>3</td>\n",
              "      <td>100</td>\n",
              "    </tr>\n",
              "    <tr>\n",
              "      <th>2</th>\n",
              "      <td>545570</td>\n",
              "      <td>1</td>\n",
              "      <td>757</td>\n",
              "      <td>1</td>\n",
              "      <td>20155.0076058/9</td>\n",
              "      <td>R</td>\n",
              "      <td>I</td>\n",
              "      <td>V</td>\n",
              "      <td>2015-10-13</td>\n",
              "      <td>1013.0</td>\n",
              "      <td>467920</td>\n",
              "      <td>184</td>\n",
              "      <td>15</td>\n",
              "      <td>TU</td>\n",
              "      <td>GASOIL</td>\n",
              "      <td>2017-10-05</td>\n",
              "      <td>550110</td>\n",
              "      <td>99315</td>\n",
              "      <td>99234</td>\n",
              "      <td>6</td>\n",
              "      <td>V</td>\n",
              "      <td>2016-10-13 00:00:00.000000</td>\n",
              "      <td>1</td>\n",
              "      <td>1</td>\n",
              "      <td>80</td>\n",
              "    </tr>\n",
              "    <tr>\n",
              "      <th>3</th>\n",
              "      <td>545571</td>\n",
              "      <td>1</td>\n",
              "      <td>636</td>\n",
              "      <td>1</td>\n",
              "      <td>20155.0076059/4</td>\n",
              "      <td>R</td>\n",
              "      <td>I</td>\n",
              "      <td>V</td>\n",
              "      <td>2015-10-13</td>\n",
              "      <td>1013.0</td>\n",
              "      <td>467921</td>\n",
              "      <td>30</td>\n",
              "      <td>5</td>\n",
              "      <td>TU</td>\n",
              "      <td>ESSENCE</td>\n",
              "      <td>2017-10-05</td>\n",
              "      <td>550111</td>\n",
              "      <td>444955</td>\n",
              "      <td>444959</td>\n",
              "      <td>1</td>\n",
              "      <td>V</td>\n",
              "      <td>2016-10-13 00:00:00.000000</td>\n",
              "      <td>1</td>\n",
              "      <td>1</td>\n",
              "      <td>70</td>\n",
              "    </tr>\n",
              "    <tr>\n",
              "      <th>4</th>\n",
              "      <td>545572</td>\n",
              "      <td>1</td>\n",
              "      <td>610</td>\n",
              "      <td>1</td>\n",
              "      <td>20155.0076062/9</td>\n",
              "      <td>R</td>\n",
              "      <td>I</td>\n",
              "      <td>V</td>\n",
              "      <td>2015-10-13</td>\n",
              "      <td>1013.0</td>\n",
              "      <td>467922</td>\n",
              "      <td>368</td>\n",
              "      <td>29</td>\n",
              "      <td>TU</td>\n",
              "      <td>GASOIL</td>\n",
              "      <td>2017-10-05</td>\n",
              "      <td>550112</td>\n",
              "      <td>350665</td>\n",
              "      <td>350692</td>\n",
              "      <td>6</td>\n",
              "      <td>V</td>\n",
              "      <td>2017-10-13 00:00:00.000000</td>\n",
              "      <td>2</td>\n",
              "      <td>2</td>\n",
              "      <td>90</td>\n",
              "    </tr>\n",
              "    <tr>\n",
              "      <th>...</th>\n",
              "      <td>...</td>\n",
              "      <td>...</td>\n",
              "      <td>...</td>\n",
              "      <td>...</td>\n",
              "      <td>...</td>\n",
              "      <td>...</td>\n",
              "      <td>...</td>\n",
              "      <td>...</td>\n",
              "      <td>...</td>\n",
              "      <td>...</td>\n",
              "      <td>...</td>\n",
              "      <td>...</td>\n",
              "      <td>...</td>\n",
              "      <td>...</td>\n",
              "      <td>...</td>\n",
              "      <td>...</td>\n",
              "      <td>...</td>\n",
              "      <td>...</td>\n",
              "      <td>...</td>\n",
              "      <td>...</td>\n",
              "      <td>...</td>\n",
              "      <td>...</td>\n",
              "      <td>...</td>\n",
              "      <td>...</td>\n",
              "      <td>...</td>\n",
              "    </tr>\n",
              "    <tr>\n",
              "      <th>500522</th>\n",
              "      <td>437233</td>\n",
              "      <td>1</td>\n",
              "      <td>626</td>\n",
              "      <td>1</td>\n",
              "      <td>201650000043769</td>\n",
              "      <td>R</td>\n",
              "      <td>I</td>\n",
              "      <td>V</td>\n",
              "      <td>2016-05-31</td>\n",
              "      <td>531.0</td>\n",
              "      <td>376338</td>\n",
              "      <td>29</td>\n",
              "      <td>6</td>\n",
              "      <td>TU</td>\n",
              "      <td>ESSENCE</td>\n",
              "      <td>2017-10-05</td>\n",
              "      <td>441743</td>\n",
              "      <td>361896</td>\n",
              "      <td>361923</td>\n",
              "      <td>1</td>\n",
              "      <td>V</td>\n",
              "      <td>2016-05-31 00:00:00.000000</td>\n",
              "      <td>6</td>\n",
              "      <td>6</td>\n",
              "      <td>140</td>\n",
              "    </tr>\n",
              "    <tr>\n",
              "      <th>500523</th>\n",
              "      <td>437234</td>\n",
              "      <td>1</td>\n",
              "      <td>585</td>\n",
              "      <td>1</td>\n",
              "      <td>201650000043774</td>\n",
              "      <td>R</td>\n",
              "      <td>I</td>\n",
              "      <td>V</td>\n",
              "      <td>2016-05-31</td>\n",
              "      <td>531.0</td>\n",
              "      <td>376339</td>\n",
              "      <td>107</td>\n",
              "      <td>4</td>\n",
              "      <td>TU</td>\n",
              "      <td>ESSENCE</td>\n",
              "      <td>2017-10-05</td>\n",
              "      <td>441744</td>\n",
              "      <td>361897</td>\n",
              "      <td>361924</td>\n",
              "      <td>1</td>\n",
              "      <td>V</td>\n",
              "      <td>2016-05-31 00:00:00.000000</td>\n",
              "      <td>1</td>\n",
              "      <td>1</td>\n",
              "      <td>70</td>\n",
              "    </tr>\n",
              "    <tr>\n",
              "      <th>500524</th>\n",
              "      <td>437235</td>\n",
              "      <td>1</td>\n",
              "      <td>576</td>\n",
              "      <td>1</td>\n",
              "      <td>201650000043782</td>\n",
              "      <td>R</td>\n",
              "      <td>I</td>\n",
              "      <td>V</td>\n",
              "      <td>2016-05-31</td>\n",
              "      <td>531.0</td>\n",
              "      <td>376340</td>\n",
              "      <td>119</td>\n",
              "      <td>7</td>\n",
              "      <td>TU</td>\n",
              "      <td>GASOIL</td>\n",
              "      <td>2017-10-05</td>\n",
              "      <td>441745</td>\n",
              "      <td>361898</td>\n",
              "      <td>361925</td>\n",
              "      <td>5</td>\n",
              "      <td>V</td>\n",
              "      <td>2016-05-31 00:00:00.000000</td>\n",
              "      <td>3</td>\n",
              "      <td>3</td>\n",
              "      <td>100</td>\n",
              "    </tr>\n",
              "    <tr>\n",
              "      <th>500525</th>\n",
              "      <td>437236</td>\n",
              "      <td>1</td>\n",
              "      <td>768</td>\n",
              "      <td>1</td>\n",
              "      <td>201650000043794</td>\n",
              "      <td>R</td>\n",
              "      <td>I</td>\n",
              "      <td>R</td>\n",
              "      <td>2016-05-31</td>\n",
              "      <td>531.0</td>\n",
              "      <td>376341</td>\n",
              "      <td>107</td>\n",
              "      <td>6</td>\n",
              "      <td>TU</td>\n",
              "      <td>ESSENCE</td>\n",
              "      <td>2017-10-05</td>\n",
              "      <td>441746</td>\n",
              "      <td>361899</td>\n",
              "      <td>361926</td>\n",
              "      <td>1</td>\n",
              "      <td>V</td>\n",
              "      <td>2016-05-31 00:00:00.000000</td>\n",
              "      <td>5</td>\n",
              "      <td>5</td>\n",
              "      <td>120</td>\n",
              "    </tr>\n",
              "    <tr>\n",
              "      <th>500526</th>\n",
              "      <td>437237</td>\n",
              "      <td>1</td>\n",
              "      <td>689</td>\n",
              "      <td>1</td>\n",
              "      <td>201650000043795</td>\n",
              "      <td>R</td>\n",
              "      <td>I</td>\n",
              "      <td>V</td>\n",
              "      <td>2016-05-31</td>\n",
              "      <td>531.0</td>\n",
              "      <td>376342</td>\n",
              "      <td>119</td>\n",
              "      <td>9</td>\n",
              "      <td>TU</td>\n",
              "      <td>GASOIL</td>\n",
              "      <td>2017-10-05</td>\n",
              "      <td>441747</td>\n",
              "      <td>152003</td>\n",
              "      <td>151925</td>\n",
              "      <td>5</td>\n",
              "      <td>V</td>\n",
              "      <td>2016-05-31 00:00:00.000000</td>\n",
              "      <td>1</td>\n",
              "      <td>1</td>\n",
              "      <td>80</td>\n",
              "    </tr>\n",
              "  </tbody>\n",
              "</table>\n",
              "<p>500527 rows × 25 columns</p>\n",
              "</div>"
            ],
            "text/plain": [
              "        CodePolice_id  codeCompagnie  ... classeBonusMalusCompagnie  coefBonusMalus\n",
              "0              545568              1  ...                         5             120\n",
              "1              545569              1  ...                         3             100\n",
              "2              545570              1  ...                         1              80\n",
              "3              545571              1  ...                         1              70\n",
              "4              545572              1  ...                         2              90\n",
              "...               ...            ...  ...                       ...             ...\n",
              "500522         437233              1  ...                         6             140\n",
              "500523         437234              1  ...                         1              70\n",
              "500524         437235              1  ...                         3             100\n",
              "500525         437236              1  ...                         5             120\n",
              "500526         437237              1  ...                         1              80\n",
              "\n",
              "[500527 rows x 25 columns]"
            ]
          },
          "metadata": {
            "tags": []
          },
          "execution_count": 250
        }
      ]
    },
    {
      "cell_type": "code",
      "metadata": {
        "colab": {
          "base_uri": "https://localhost:8080/"
        },
        "id": "czIz43oxGht7",
        "outputId": "b341ec9e-c242-41cb-aad3-43ac4a610f09"
      },
      "source": [
        "df_merge2.shape"
      ],
      "execution_count": null,
      "outputs": [
        {
          "output_type": "execute_result",
          "data": {
            "text/plain": [
              "(500527, 25)"
            ]
          },
          "metadata": {
            "tags": []
          },
          "execution_count": 251
        }
      ]
    },
    {
      "cell_type": "code",
      "metadata": {
        "id": "ktnxfS_gGr2j"
      },
      "source": [
        "Assure = pd.read_csv(r\"/gdrive/MyDrive/Assure.csv\")"
      ],
      "execution_count": null,
      "outputs": []
    },
    {
      "cell_type": "code",
      "metadata": {
        "colab": {
          "base_uri": "https://localhost:8080/",
          "height": 399
        },
        "id": "SSKUgmAlG25L",
        "outputId": "b578d85b-0b0d-4d3d-ef19-41e3b2e8ed79"
      },
      "source": [
        "Assure"
      ],
      "execution_count": null,
      "outputs": [
        {
          "output_type": "execute_result",
          "data": {
            "text/html": [
              "<div>\n",
              "<style scoped>\n",
              "    .dataframe tbody tr th:only-of-type {\n",
              "        vertical-align: middle;\n",
              "    }\n",
              "\n",
              "    .dataframe tbody tr th {\n",
              "        vertical-align: top;\n",
              "    }\n",
              "\n",
              "    .dataframe thead th {\n",
              "        text-align: right;\n",
              "    }\n",
              "</style>\n",
              "<table border=\"1\" class=\"dataframe\">\n",
              "  <thead>\n",
              "    <tr style=\"text-align: right;\">\n",
              "      <th></th>\n",
              "      <th>CodeAssure_id</th>\n",
              "    </tr>\n",
              "  </thead>\n",
              "  <tbody>\n",
              "    <tr>\n",
              "      <th>0</th>\n",
              "      <td>753885</td>\n",
              "    </tr>\n",
              "    <tr>\n",
              "      <th>1</th>\n",
              "      <td>753886</td>\n",
              "    </tr>\n",
              "    <tr>\n",
              "      <th>2</th>\n",
              "      <td>753887</td>\n",
              "    </tr>\n",
              "    <tr>\n",
              "      <th>3</th>\n",
              "      <td>753888</td>\n",
              "    </tr>\n",
              "    <tr>\n",
              "      <th>4</th>\n",
              "      <td>753889</td>\n",
              "    </tr>\n",
              "    <tr>\n",
              "      <th>...</th>\n",
              "      <td>...</td>\n",
              "    </tr>\n",
              "    <tr>\n",
              "      <th>1041228</th>\n",
              "      <td>753880</td>\n",
              "    </tr>\n",
              "    <tr>\n",
              "      <th>1041229</th>\n",
              "      <td>753881</td>\n",
              "    </tr>\n",
              "    <tr>\n",
              "      <th>1041230</th>\n",
              "      <td>753882</td>\n",
              "    </tr>\n",
              "    <tr>\n",
              "      <th>1041231</th>\n",
              "      <td>753883</td>\n",
              "    </tr>\n",
              "    <tr>\n",
              "      <th>1041232</th>\n",
              "      <td>753884</td>\n",
              "    </tr>\n",
              "  </tbody>\n",
              "</table>\n",
              "<p>1041233 rows × 1 columns</p>\n",
              "</div>"
            ],
            "text/plain": [
              "         CodeAssure_id\n",
              "0               753885\n",
              "1               753886\n",
              "2               753887\n",
              "3               753888\n",
              "4               753889\n",
              "...                ...\n",
              "1041228         753880\n",
              "1041229         753881\n",
              "1041230         753882\n",
              "1041231         753883\n",
              "1041232         753884\n",
              "\n",
              "[1041233 rows x 1 columns]"
            ]
          },
          "metadata": {
            "tags": []
          },
          "execution_count": 253
        }
      ]
    },
    {
      "cell_type": "code",
      "metadata": {
        "id": "jtlvTy5hG-0T"
      },
      "source": [
        "df_merge3=pd.merge(Assure,df_merge2,left_on=\"CodeAssure_id\",right_on=\"CodeAssure_id\")"
      ],
      "execution_count": null,
      "outputs": []
    },
    {
      "cell_type": "code",
      "metadata": {
        "colab": {
          "base_uri": "https://localhost:8080/",
          "height": 588
        },
        "id": "OekpoCyNHCPn",
        "outputId": "b2f6795d-6530-439d-97c2-47613f01d3cd"
      },
      "source": [
        "df_merge3"
      ],
      "execution_count": null,
      "outputs": [
        {
          "output_type": "execute_result",
          "data": {
            "text/html": [
              "<div>\n",
              "<style scoped>\n",
              "    .dataframe tbody tr th:only-of-type {\n",
              "        vertical-align: middle;\n",
              "    }\n",
              "\n",
              "    .dataframe tbody tr th {\n",
              "        vertical-align: top;\n",
              "    }\n",
              "\n",
              "    .dataframe thead th {\n",
              "        text-align: right;\n",
              "    }\n",
              "</style>\n",
              "<table border=\"1\" class=\"dataframe\">\n",
              "  <thead>\n",
              "    <tr style=\"text-align: right;\">\n",
              "      <th></th>\n",
              "      <th>CodeAssure_id</th>\n",
              "      <th>CodePolice_id</th>\n",
              "      <th>codeCompagnie</th>\n",
              "      <th>codeAgence</th>\n",
              "      <th>typeIntermediaire</th>\n",
              "      <th>numPolice</th>\n",
              "      <th>naturePolice</th>\n",
              "      <th>typePolice</th>\n",
              "      <th>Etat_Police</th>\n",
              "      <th>dateEffetPolice</th>\n",
              "      <th>dateEcheancePolice</th>\n",
              "      <th>CodeVehicule_id</th>\n",
              "      <th>codeMarque</th>\n",
              "      <th>puissanceFiscal</th>\n",
              "      <th>typeImmatriculation</th>\n",
              "      <th>energie</th>\n",
              "      <th>dateInsertion</th>\n",
              "      <th>CodeBonusMalus_id</th>\n",
              "      <th>CodeSouscripteur_id</th>\n",
              "      <th>codeUsage</th>\n",
              "      <th>ETAT_VEHICULE</th>\n",
              "      <th>DATE_AFFECTATION</th>\n",
              "      <th>classeBonusMalus</th>\n",
              "      <th>classeBonusMalusCompagnie</th>\n",
              "      <th>coefBonusMalus</th>\n",
              "    </tr>\n",
              "  </thead>\n",
              "  <tbody>\n",
              "    <tr>\n",
              "      <th>0</th>\n",
              "      <td>753885</td>\n",
              "      <td>975337</td>\n",
              "      <td>14</td>\n",
              "      <td>55</td>\n",
              "      <td>2</td>\n",
              "      <td>555111122</td>\n",
              "      <td>R</td>\n",
              "      <td>I</td>\n",
              "      <td>V</td>\n",
              "      <td>2013-08-07</td>\n",
              "      <td>807.0</td>\n",
              "      <td>782161</td>\n",
              "      <td>107</td>\n",
              "      <td>5</td>\n",
              "      <td>TU</td>\n",
              "      <td>ESSENCE</td>\n",
              "      <td>2017-10-05</td>\n",
              "      <td>980120</td>\n",
              "      <td>753893</td>\n",
              "      <td>1</td>\n",
              "      <td>V</td>\n",
              "      <td>2017-08-07 00:00:00.000000</td>\n",
              "      <td>3</td>\n",
              "      <td>3</td>\n",
              "      <td>90</td>\n",
              "    </tr>\n",
              "    <tr>\n",
              "      <th>1</th>\n",
              "      <td>753886</td>\n",
              "      <td>975338</td>\n",
              "      <td>14</td>\n",
              "      <td>630</td>\n",
              "      <td>1</td>\n",
              "      <td>555027531</td>\n",
              "      <td>R</td>\n",
              "      <td>I</td>\n",
              "      <td>V</td>\n",
              "      <td>2013-08-07</td>\n",
              "      <td>807.0</td>\n",
              "      <td>782162</td>\n",
              "      <td>29</td>\n",
              "      <td>5</td>\n",
              "      <td>TU</td>\n",
              "      <td>GASOIL</td>\n",
              "      <td>2017-10-05</td>\n",
              "      <td>980121</td>\n",
              "      <td>753894</td>\n",
              "      <td>1</td>\n",
              "      <td>V</td>\n",
              "      <td>2017-08-07 00:00:00.000000</td>\n",
              "      <td>3</td>\n",
              "      <td>3</td>\n",
              "      <td>90</td>\n",
              "    </tr>\n",
              "    <tr>\n",
              "      <th>2</th>\n",
              "      <td>753887</td>\n",
              "      <td>975339</td>\n",
              "      <td>14</td>\n",
              "      <td>615</td>\n",
              "      <td>1</td>\n",
              "      <td>555026476</td>\n",
              "      <td>R</td>\n",
              "      <td>I</td>\n",
              "      <td>V</td>\n",
              "      <td>2013-02-26</td>\n",
              "      <td>226.0</td>\n",
              "      <td>782163</td>\n",
              "      <td>30</td>\n",
              "      <td>5</td>\n",
              "      <td>TU</td>\n",
              "      <td>GASOIL</td>\n",
              "      <td>2017-10-05</td>\n",
              "      <td>980122</td>\n",
              "      <td>753895</td>\n",
              "      <td>1</td>\n",
              "      <td>V</td>\n",
              "      <td>2017-02-26 00:00:00.000000</td>\n",
              "      <td>3</td>\n",
              "      <td>3</td>\n",
              "      <td>90</td>\n",
              "    </tr>\n",
              "    <tr>\n",
              "      <th>3</th>\n",
              "      <td>753888</td>\n",
              "      <td>975341</td>\n",
              "      <td>14</td>\n",
              "      <td>914</td>\n",
              "      <td>2</td>\n",
              "      <td>555285252</td>\n",
              "      <td>R</td>\n",
              "      <td>I</td>\n",
              "      <td>V</td>\n",
              "      <td>2016-10-13</td>\n",
              "      <td>1013.0</td>\n",
              "      <td>782165</td>\n",
              "      <td>119</td>\n",
              "      <td>4</td>\n",
              "      <td>TU</td>\n",
              "      <td>ESSENCE</td>\n",
              "      <td>2017-10-05</td>\n",
              "      <td>980124</td>\n",
              "      <td>753896</td>\n",
              "      <td>1</td>\n",
              "      <td>V</td>\n",
              "      <td>2016-10-13 00:00:00.000000</td>\n",
              "      <td>2</td>\n",
              "      <td>2</td>\n",
              "      <td>80</td>\n",
              "    </tr>\n",
              "    <tr>\n",
              "      <th>4</th>\n",
              "      <td>753889</td>\n",
              "      <td>975342</td>\n",
              "      <td>14</td>\n",
              "      <td>336</td>\n",
              "      <td>1</td>\n",
              "      <td>555245309</td>\n",
              "      <td>R</td>\n",
              "      <td>I</td>\n",
              "      <td>V</td>\n",
              "      <td>2016-05-17</td>\n",
              "      <td>517.0</td>\n",
              "      <td>77195</td>\n",
              "      <td>29</td>\n",
              "      <td>4</td>\n",
              "      <td>TU</td>\n",
              "      <td>ESSENCE</td>\n",
              "      <td>2017-10-05</td>\n",
              "      <td>980125</td>\n",
              "      <td>753897</td>\n",
              "      <td>1</td>\n",
              "      <td>V</td>\n",
              "      <td>2016-05-17 00:00:00.000000</td>\n",
              "      <td>8</td>\n",
              "      <td>8</td>\n",
              "      <td>200</td>\n",
              "    </tr>\n",
              "    <tr>\n",
              "      <th>...</th>\n",
              "      <td>...</td>\n",
              "      <td>...</td>\n",
              "      <td>...</td>\n",
              "      <td>...</td>\n",
              "      <td>...</td>\n",
              "      <td>...</td>\n",
              "      <td>...</td>\n",
              "      <td>...</td>\n",
              "      <td>...</td>\n",
              "      <td>...</td>\n",
              "      <td>...</td>\n",
              "      <td>...</td>\n",
              "      <td>...</td>\n",
              "      <td>...</td>\n",
              "      <td>...</td>\n",
              "      <td>...</td>\n",
              "      <td>...</td>\n",
              "      <td>...</td>\n",
              "      <td>...</td>\n",
              "      <td>...</td>\n",
              "      <td>...</td>\n",
              "      <td>...</td>\n",
              "      <td>...</td>\n",
              "      <td>...</td>\n",
              "      <td>...</td>\n",
              "    </tr>\n",
              "    <tr>\n",
              "      <th>500522</th>\n",
              "      <td>753880</td>\n",
              "      <td>975330</td>\n",
              "      <td>14</td>\n",
              "      <td>907</td>\n",
              "      <td>1</td>\n",
              "      <td>504064518</td>\n",
              "      <td>R</td>\n",
              "      <td>I</td>\n",
              "      <td>V</td>\n",
              "      <td>2015-11-24</td>\n",
              "      <td>1124.0</td>\n",
              "      <td>782154</td>\n",
              "      <td>323</td>\n",
              "      <td>6</td>\n",
              "      <td>TU</td>\n",
              "      <td>GASOIL</td>\n",
              "      <td>2017-10-05</td>\n",
              "      <td>980113</td>\n",
              "      <td>753888</td>\n",
              "      <td>5</td>\n",
              "      <td>V</td>\n",
              "      <td>2016-11-24 00:00:00.000000</td>\n",
              "      <td>6</td>\n",
              "      <td>6</td>\n",
              "      <td>170</td>\n",
              "    </tr>\n",
              "    <tr>\n",
              "      <th>500523</th>\n",
              "      <td>753881</td>\n",
              "      <td>975331</td>\n",
              "      <td>14</td>\n",
              "      <td>315</td>\n",
              "      <td>1</td>\n",
              "      <td>504062934</td>\n",
              "      <td>R</td>\n",
              "      <td>I</td>\n",
              "      <td>V</td>\n",
              "      <td>2012-01-24</td>\n",
              "      <td>124.0</td>\n",
              "      <td>782155</td>\n",
              "      <td>105</td>\n",
              "      <td>4</td>\n",
              "      <td>TU</td>\n",
              "      <td>ESSENCE</td>\n",
              "      <td>2017-10-05</td>\n",
              "      <td>980114</td>\n",
              "      <td>753889</td>\n",
              "      <td>1</td>\n",
              "      <td>V</td>\n",
              "      <td>2018-01-24 00:00:00.000000</td>\n",
              "      <td>2</td>\n",
              "      <td>2</td>\n",
              "      <td>80</td>\n",
              "    </tr>\n",
              "    <tr>\n",
              "      <th>500524</th>\n",
              "      <td>753882</td>\n",
              "      <td>975332</td>\n",
              "      <td>14</td>\n",
              "      <td>911</td>\n",
              "      <td>1</td>\n",
              "      <td>555021223</td>\n",
              "      <td>R</td>\n",
              "      <td>I</td>\n",
              "      <td>V</td>\n",
              "      <td>2013-03-30</td>\n",
              "      <td>330.0</td>\n",
              "      <td>782156</td>\n",
              "      <td>30</td>\n",
              "      <td>4</td>\n",
              "      <td>TU</td>\n",
              "      <td>ESSENCE</td>\n",
              "      <td>2017-10-05</td>\n",
              "      <td>980115</td>\n",
              "      <td>753890</td>\n",
              "      <td>1</td>\n",
              "      <td>V</td>\n",
              "      <td>2017-03-30 00:00:00.000000</td>\n",
              "      <td>3</td>\n",
              "      <td>3</td>\n",
              "      <td>90</td>\n",
              "    </tr>\n",
              "    <tr>\n",
              "      <th>500525</th>\n",
              "      <td>753883</td>\n",
              "      <td>975334</td>\n",
              "      <td>14</td>\n",
              "      <td>618</td>\n",
              "      <td>1</td>\n",
              "      <td>555026741</td>\n",
              "      <td>R</td>\n",
              "      <td>I</td>\n",
              "      <td>V</td>\n",
              "      <td>2013-03-06</td>\n",
              "      <td>306.0</td>\n",
              "      <td>782158</td>\n",
              "      <td>178</td>\n",
              "      <td>10</td>\n",
              "      <td>TU</td>\n",
              "      <td>GASOIL</td>\n",
              "      <td>2017-10-05</td>\n",
              "      <td>980117</td>\n",
              "      <td>753891</td>\n",
              "      <td>1</td>\n",
              "      <td>V</td>\n",
              "      <td>2016-03-06 00:00:00.000000</td>\n",
              "      <td>1</td>\n",
              "      <td>1</td>\n",
              "      <td>70</td>\n",
              "    </tr>\n",
              "    <tr>\n",
              "      <th>500526</th>\n",
              "      <td>753884</td>\n",
              "      <td>975336</td>\n",
              "      <td>14</td>\n",
              "      <td>248</td>\n",
              "      <td>1</td>\n",
              "      <td>555030972</td>\n",
              "      <td>R</td>\n",
              "      <td>I</td>\n",
              "      <td>V</td>\n",
              "      <td>2014-05-03</td>\n",
              "      <td>503.0</td>\n",
              "      <td>782160</td>\n",
              "      <td>29</td>\n",
              "      <td>5</td>\n",
              "      <td>TU</td>\n",
              "      <td>ESSENCE</td>\n",
              "      <td>2017-10-05</td>\n",
              "      <td>980119</td>\n",
              "      <td>753892</td>\n",
              "      <td>1</td>\n",
              "      <td>V</td>\n",
              "      <td>2016-05-03 00:00:00.000000</td>\n",
              "      <td>4</td>\n",
              "      <td>4</td>\n",
              "      <td>100</td>\n",
              "    </tr>\n",
              "  </tbody>\n",
              "</table>\n",
              "<p>500527 rows × 25 columns</p>\n",
              "</div>"
            ],
            "text/plain": [
              "        CodeAssure_id  CodePolice_id  ...  classeBonusMalusCompagnie coefBonusMalus\n",
              "0              753885         975337  ...                          3             90\n",
              "1              753886         975338  ...                          3             90\n",
              "2              753887         975339  ...                          3             90\n",
              "3              753888         975341  ...                          2             80\n",
              "4              753889         975342  ...                          8            200\n",
              "...               ...            ...  ...                        ...            ...\n",
              "500522         753880         975330  ...                          6            170\n",
              "500523         753881         975331  ...                          2             80\n",
              "500524         753882         975332  ...                          3             90\n",
              "500525         753883         975334  ...                          1             70\n",
              "500526         753884         975336  ...                          4            100\n",
              "\n",
              "[500527 rows x 25 columns]"
            ]
          },
          "metadata": {
            "tags": []
          },
          "execution_count": 14
        }
      ]
    },
    {
      "cell_type": "code",
      "metadata": {
        "colab": {
          "base_uri": "https://localhost:8080/"
        },
        "id": "0GWFr68ev7k0",
        "outputId": "0b28dfb6-d909-4e89-a79f-aafa73346bb6"
      },
      "source": [
        "df_merge3.columns"
      ],
      "execution_count": null,
      "outputs": [
        {
          "output_type": "execute_result",
          "data": {
            "text/plain": [
              "Index(['CodeAssure_id', 'CodePolice_id', 'codeCompagnie', 'codeAgence',\n",
              "       'typeIntermediaire', 'numPolice', 'naturePolice', 'typePolice',\n",
              "       'Etat_Police', 'dateEffetPolice', 'dateEcheancePolice',\n",
              "       'CodeVehicule_id', 'codeMarque', 'puissanceFiscal',\n",
              "       'typeImmatriculation', 'energie', 'dateInsertion', 'CodeBonusMalus_id',\n",
              "       'CodeSouscripteur_id', 'codeUsage', 'ETAT_VEHICULE', 'DATE_AFFECTATION',\n",
              "       'classeBonusMalus', 'classeBonusMalusCompagnie', 'coefBonusMalus',\n",
              "       'fraude'],\n",
              "      dtype='object')"
            ]
          },
          "metadata": {
            "tags": []
          },
          "execution_count": 98
        }
      ]
    },
    {
      "cell_type": "code",
      "metadata": {
        "colab": {
          "base_uri": "https://localhost:8080/"
        },
        "id": "qlkAHBIcXks5",
        "outputId": "f81b6390-9a1d-41e8-8674-bb9532a18c36"
      },
      "source": [
        "Sinistre = pd.read_csv(r\"/gdrive/MyDrive/sinistre_clean2.csv\")"
      ],
      "execution_count": null,
      "outputs": [
        {
          "output_type": "stream",
          "text": [
            "/usr/local/lib/python3.7/dist-packages/IPython/core/interactiveshell.py:2718: DtypeWarning: Columns (10,13,14) have mixed types.Specify dtype option on import or set low_memory=False.\n",
            "  interactivity=interactivity, compiler=compiler, result=result)\n"
          ],
          "name": "stderr"
        }
      ]
    },
    {
      "cell_type": "code",
      "metadata": {
        "colab": {
          "base_uri": "https://localhost:8080/"
        },
        "id": "RRnce1bPX6rD",
        "outputId": "072d6a93-2613-48f4-8c01-f6b1012f6bbb"
      },
      "source": [
        "Sinistre.shape"
      ],
      "execution_count": null,
      "outputs": [
        {
          "output_type": "execute_result",
          "data": {
            "text/plain": [
              "(585267, 23)"
            ]
          },
          "metadata": {
            "tags": []
          },
          "execution_count": 16
        }
      ]
    },
    {
      "cell_type": "code",
      "metadata": {
        "colab": {
          "base_uri": "https://localhost:8080/",
          "height": 436
        },
        "id": "Zv1TSACeYQ0Y",
        "outputId": "dd4d3f4b-e632-4f4c-9b87-5a9ed6462d2f"
      },
      "source": [
        "Sinistre"
      ],
      "execution_count": null,
      "outputs": [
        {
          "output_type": "execute_result",
          "data": {
            "text/html": [
              "<div>\n",
              "<style scoped>\n",
              "    .dataframe tbody tr th:only-of-type {\n",
              "        vertical-align: middle;\n",
              "    }\n",
              "\n",
              "    .dataframe tbody tr th {\n",
              "        vertical-align: top;\n",
              "    }\n",
              "\n",
              "    .dataframe thead th {\n",
              "        text-align: right;\n",
              "    }\n",
              "</style>\n",
              "<table border=\"1\" class=\"dataframe\">\n",
              "  <thead>\n",
              "    <tr style=\"text-align: right;\">\n",
              "      <th></th>\n",
              "      <th>Unnamed: 0</th>\n",
              "      <th>Unnamed: 1</th>\n",
              "      <th>Unnamed: 2</th>\n",
              "      <th>Unnamed: 3</th>\n",
              "      <th>dateDeSurvenanceDuSinistre</th>\n",
              "      <th>heureSurvanceDusinistre</th>\n",
              "      <th>dateOuvertureDuSinistre</th>\n",
              "      <th>lieuDuSinistre</th>\n",
              "      <th>identificationTiers</th>\n",
              "      <th>pourcentadeDeResponsabilite</th>\n",
              "      <th>numeroDePoliceCompagnieAdverse</th>\n",
              "      <th>codeCompagnieAdverse</th>\n",
              "      <th>porcentageCompagnieAdverse</th>\n",
              "      <th>numeroImmatriculationVehiculeAdverse</th>\n",
              "      <th>typeImmatriculationVehiculeAdverse</th>\n",
              "      <th>mouvementDusinistre</th>\n",
              "      <th>natureDuSinistre</th>\n",
              "      <th>Calculer_Sinistre</th>\n",
              "      <th>lieuDuSinistreajuste</th>\n",
              "      <th>heureSurvanceDusinistreajuste</th>\n",
              "      <th>fraud</th>\n",
              "      <th>mois</th>\n",
              "      <th>saison</th>\n",
              "    </tr>\n",
              "  </thead>\n",
              "  <tbody>\n",
              "    <tr>\n",
              "      <th>0</th>\n",
              "      <td>NaN</td>\n",
              "      <td>NaN</td>\n",
              "      <td>NaN</td>\n",
              "      <td>NaN</td>\n",
              "      <td>2017-12-18</td>\n",
              "      <td>0.0</td>\n",
              "      <td>2017-12-18</td>\n",
              "      <td>NaN</td>\n",
              "      <td>NaN</td>\n",
              "      <td>0</td>\n",
              "      <td>834736</td>\n",
              "      <td>11.0</td>\n",
              "      <td>0</td>\n",
              "      <td>1651TU133</td>\n",
              "      <td>TU</td>\n",
              "      <td>2.0</td>\n",
              "      <td>M</td>\n",
              "      <td>1</td>\n",
              "      <td>inconnu</td>\n",
              "      <td>0</td>\n",
              "      <td>0</td>\n",
              "      <td>12</td>\n",
              "      <td>hiver</td>\n",
              "    </tr>\n",
              "    <tr>\n",
              "      <th>1</th>\n",
              "      <td>NaN</td>\n",
              "      <td>NaN</td>\n",
              "      <td>NaN</td>\n",
              "      <td>NaN</td>\n",
              "      <td>2018-02-16</td>\n",
              "      <td>0.0</td>\n",
              "      <td>2018-02-16</td>\n",
              "      <td>NaN</td>\n",
              "      <td>NaN</td>\n",
              "      <td>0</td>\n",
              "      <td>NaN</td>\n",
              "      <td>1.0</td>\n",
              "      <td>0</td>\n",
              "      <td>7046TU163</td>\n",
              "      <td>TU</td>\n",
              "      <td>2.0</td>\n",
              "      <td>M</td>\n",
              "      <td>1</td>\n",
              "      <td>inconnu</td>\n",
              "      <td>0</td>\n",
              "      <td>0</td>\n",
              "      <td>2</td>\n",
              "      <td>hiver</td>\n",
              "    </tr>\n",
              "    <tr>\n",
              "      <th>2</th>\n",
              "      <td>NaN</td>\n",
              "      <td>NaN</td>\n",
              "      <td>NaN</td>\n",
              "      <td>NaN</td>\n",
              "      <td>2017-03-11</td>\n",
              "      <td>0.0</td>\n",
              "      <td>2017-03-27</td>\n",
              "      <td>NaN</td>\n",
              "      <td>NaN</td>\n",
              "      <td>100</td>\n",
              "      <td>10204000027</td>\n",
              "      <td>4.0</td>\n",
              "      <td>0</td>\n",
              "      <td>3626TU159</td>\n",
              "      <td>TU</td>\n",
              "      <td>3.0</td>\n",
              "      <td>M</td>\n",
              "      <td>1</td>\n",
              "      <td>inconnu</td>\n",
              "      <td>0</td>\n",
              "      <td>0</td>\n",
              "      <td>3</td>\n",
              "      <td>printemps</td>\n",
              "    </tr>\n",
              "    <tr>\n",
              "      <th>3</th>\n",
              "      <td>NaN</td>\n",
              "      <td>NaN</td>\n",
              "      <td>NaN</td>\n",
              "      <td>NaN</td>\n",
              "      <td>2017-11-23</td>\n",
              "      <td>0.0</td>\n",
              "      <td>2017-11-27</td>\n",
              "      <td>NaN</td>\n",
              "      <td>NaN</td>\n",
              "      <td>0</td>\n",
              "      <td>101160000565</td>\n",
              "      <td>4.0</td>\n",
              "      <td>0</td>\n",
              "      <td>8312TU163</td>\n",
              "      <td>TU</td>\n",
              "      <td>3.0</td>\n",
              "      <td>M</td>\n",
              "      <td>1</td>\n",
              "      <td>inconnu</td>\n",
              "      <td>0</td>\n",
              "      <td>0</td>\n",
              "      <td>11</td>\n",
              "      <td>automne</td>\n",
              "    </tr>\n",
              "    <tr>\n",
              "      <th>4</th>\n",
              "      <td>NaN</td>\n",
              "      <td>NaN</td>\n",
              "      <td>NaN</td>\n",
              "      <td>NaN</td>\n",
              "      <td>2017-02-23</td>\n",
              "      <td>0.0</td>\n",
              "      <td>2017-03-02</td>\n",
              "      <td>NaN</td>\n",
              "      <td>NaN</td>\n",
              "      <td>0</td>\n",
              "      <td>20075.0336001/3</td>\n",
              "      <td>1.0</td>\n",
              "      <td>0</td>\n",
              "      <td>9213TU96</td>\n",
              "      <td>TU</td>\n",
              "      <td>3.0</td>\n",
              "      <td>M</td>\n",
              "      <td>1</td>\n",
              "      <td>inconnu</td>\n",
              "      <td>0</td>\n",
              "      <td>0</td>\n",
              "      <td>3</td>\n",
              "      <td>printemps</td>\n",
              "    </tr>\n",
              "    <tr>\n",
              "      <th>...</th>\n",
              "      <td>...</td>\n",
              "      <td>...</td>\n",
              "      <td>...</td>\n",
              "      <td>...</td>\n",
              "      <td>...</td>\n",
              "      <td>...</td>\n",
              "      <td>...</td>\n",
              "      <td>...</td>\n",
              "      <td>...</td>\n",
              "      <td>...</td>\n",
              "      <td>...</td>\n",
              "      <td>...</td>\n",
              "      <td>...</td>\n",
              "      <td>...</td>\n",
              "      <td>...</td>\n",
              "      <td>...</td>\n",
              "      <td>...</td>\n",
              "      <td>...</td>\n",
              "      <td>...</td>\n",
              "      <td>...</td>\n",
              "      <td>...</td>\n",
              "      <td>...</td>\n",
              "      <td>...</td>\n",
              "    </tr>\n",
              "    <tr>\n",
              "      <th>585262</th>\n",
              "      <td>NaN</td>\n",
              "      <td>NaN</td>\n",
              "      <td>NaN</td>\n",
              "      <td>NaN</td>\n",
              "      <td>2017-05-24</td>\n",
              "      <td>NaN</td>\n",
              "      <td>2017-05-24</td>\n",
              "      <td>NaN</td>\n",
              "      <td>NaN</td>\n",
              "      <td>100</td>\n",
              "      <td>NaN</td>\n",
              "      <td>NaN</td>\n",
              "      <td>0</td>\n",
              "      <td>NaN</td>\n",
              "      <td>NaN</td>\n",
              "      <td>NaN</td>\n",
              "      <td>M</td>\n",
              "      <td>0</td>\n",
              "      <td>inconnu</td>\n",
              "      <td>0</td>\n",
              "      <td>0</td>\n",
              "      <td>5</td>\n",
              "      <td>printemps</td>\n",
              "    </tr>\n",
              "    <tr>\n",
              "      <th>585263</th>\n",
              "      <td>NaN</td>\n",
              "      <td>NaN</td>\n",
              "      <td>NaN</td>\n",
              "      <td>NaN</td>\n",
              "      <td>2017-05-24</td>\n",
              "      <td>NaN</td>\n",
              "      <td>2017-05-24</td>\n",
              "      <td>NaN</td>\n",
              "      <td>NaN</td>\n",
              "      <td>100</td>\n",
              "      <td>NaN</td>\n",
              "      <td>NaN</td>\n",
              "      <td>0</td>\n",
              "      <td>NaN</td>\n",
              "      <td>NaN</td>\n",
              "      <td>NaN</td>\n",
              "      <td>M</td>\n",
              "      <td>0</td>\n",
              "      <td>inconnu</td>\n",
              "      <td>0</td>\n",
              "      <td>0</td>\n",
              "      <td>5</td>\n",
              "      <td>printemps</td>\n",
              "    </tr>\n",
              "    <tr>\n",
              "      <th>585264</th>\n",
              "      <td>NaN</td>\n",
              "      <td>NaN</td>\n",
              "      <td>NaN</td>\n",
              "      <td>NaN</td>\n",
              "      <td>2017-05-24</td>\n",
              "      <td>NaN</td>\n",
              "      <td>2017-05-24</td>\n",
              "      <td>NaN</td>\n",
              "      <td>NaN</td>\n",
              "      <td>100</td>\n",
              "      <td>NaN</td>\n",
              "      <td>NaN</td>\n",
              "      <td>0</td>\n",
              "      <td>NaN</td>\n",
              "      <td>NaN</td>\n",
              "      <td>NaN</td>\n",
              "      <td>M</td>\n",
              "      <td>0</td>\n",
              "      <td>inconnu</td>\n",
              "      <td>0</td>\n",
              "      <td>0</td>\n",
              "      <td>5</td>\n",
              "      <td>printemps</td>\n",
              "    </tr>\n",
              "    <tr>\n",
              "      <th>585265</th>\n",
              "      <td>NaN</td>\n",
              "      <td>NaN</td>\n",
              "      <td>NaN</td>\n",
              "      <td>NaN</td>\n",
              "      <td>2017-03-17</td>\n",
              "      <td>NaN</td>\n",
              "      <td>2017-03-17</td>\n",
              "      <td>NaN</td>\n",
              "      <td>NaN</td>\n",
              "      <td>0</td>\n",
              "      <td>NaN</td>\n",
              "      <td>NaN</td>\n",
              "      <td>100</td>\n",
              "      <td>NaN</td>\n",
              "      <td>NaN</td>\n",
              "      <td>NaN</td>\n",
              "      <td>M</td>\n",
              "      <td>0</td>\n",
              "      <td>inconnu</td>\n",
              "      <td>0</td>\n",
              "      <td>0</td>\n",
              "      <td>3</td>\n",
              "      <td>printemps</td>\n",
              "    </tr>\n",
              "    <tr>\n",
              "      <th>585266</th>\n",
              "      <td>NaN</td>\n",
              "      <td>NaN</td>\n",
              "      <td>NaN</td>\n",
              "      <td>NaN</td>\n",
              "      <td>2017-03-17</td>\n",
              "      <td>NaN</td>\n",
              "      <td>2017-03-17</td>\n",
              "      <td>NaN</td>\n",
              "      <td>NaN</td>\n",
              "      <td>0</td>\n",
              "      <td>NaN</td>\n",
              "      <td>NaN</td>\n",
              "      <td>100</td>\n",
              "      <td>NaN</td>\n",
              "      <td>NaN</td>\n",
              "      <td>NaN</td>\n",
              "      <td>M</td>\n",
              "      <td>-1</td>\n",
              "      <td>inconnu</td>\n",
              "      <td>0</td>\n",
              "      <td>0</td>\n",
              "      <td>3</td>\n",
              "      <td>printemps</td>\n",
              "    </tr>\n",
              "  </tbody>\n",
              "</table>\n",
              "<p>585267 rows × 23 columns</p>\n",
              "</div>"
            ],
            "text/plain": [
              "        Unnamed: 0  Unnamed: 1  Unnamed: 2  ...  fraud mois     saison\n",
              "0              NaN         NaN         NaN  ...      0   12      hiver\n",
              "1              NaN         NaN         NaN  ...      0    2      hiver\n",
              "2              NaN         NaN         NaN  ...      0    3  printemps\n",
              "3              NaN         NaN         NaN  ...      0   11    automne\n",
              "4              NaN         NaN         NaN  ...      0    3  printemps\n",
              "...            ...         ...         ...  ...    ...  ...        ...\n",
              "585262         NaN         NaN         NaN  ...      0    5  printemps\n",
              "585263         NaN         NaN         NaN  ...      0    5  printemps\n",
              "585264         NaN         NaN         NaN  ...      0    5  printemps\n",
              "585265         NaN         NaN         NaN  ...      0    3  printemps\n",
              "585266         NaN         NaN         NaN  ...      0    3  printemps\n",
              "\n",
              "[585267 rows x 23 columns]"
            ]
          },
          "metadata": {
            "tags": []
          },
          "execution_count": 258
        }
      ]
    },
    {
      "cell_type": "code",
      "metadata": {
        "colab": {
          "base_uri": "https://localhost:8080/"
        },
        "id": "9nufU7vaY6fE",
        "outputId": "d244aac9-5487-411a-adb3-63e056ebe60d"
      },
      "source": [
        "Sinistre.isna().sum()"
      ],
      "execution_count": null,
      "outputs": [
        {
          "output_type": "execute_result",
          "data": {
            "text/plain": [
              "Unnamed: 0                              585267\n",
              "Unnamed: 1                              585267\n",
              "Unnamed: 2                              585267\n",
              "Unnamed: 3                              585267\n",
              "dateDeSurvenanceDuSinistre                   0\n",
              "heureSurvanceDusinistre                  24332\n",
              "dateOuvertureDuSinistre                      0\n",
              "lieuDuSinistre                          361882\n",
              "identificationTiers                     369844\n",
              "pourcentadeDeResponsabilite                  0\n",
              "numeroDePoliceCompagnieAdverse          380121\n",
              "codeCompagnieAdverse                    302615\n",
              "porcentageCompagnieAdverse                   0\n",
              "numeroImmatriculationVehiculeAdverse    364894\n",
              "typeImmatriculationVehiculeAdverse      358613\n",
              "mouvementDusinistre                      24332\n",
              "natureDuSinistre                             0\n",
              "Calculer_Sinistre                            0\n",
              "lieuDuSinistreajuste                         0\n",
              "heureSurvanceDusinistreajuste                0\n",
              "fraud                                        0\n",
              "mois                                         0\n",
              "saison                                       0\n",
              "dtype: int64"
            ]
          },
          "metadata": {
            "tags": []
          },
          "execution_count": 259
        }
      ]
    },
    {
      "cell_type": "code",
      "metadata": {
        "id": "qJ7K9rvJZKDy"
      },
      "source": [
        "Sinistre_clean1 = Sinistre.drop(Sinistre.columns[[0, 1, 2, 3, 8]], axis=1)"
      ],
      "execution_count": null,
      "outputs": []
    },
    {
      "cell_type": "code",
      "metadata": {
        "colab": {
          "base_uri": "https://localhost:8080/",
          "height": 419
        },
        "id": "4-K5O5YKdD8e",
        "outputId": "0d10df4f-cc90-4828-f383-6de39a6eab7a"
      },
      "source": [
        "Sinistre_clean1"
      ],
      "execution_count": null,
      "outputs": [
        {
          "output_type": "execute_result",
          "data": {
            "text/html": [
              "<div>\n",
              "<style scoped>\n",
              "    .dataframe tbody tr th:only-of-type {\n",
              "        vertical-align: middle;\n",
              "    }\n",
              "\n",
              "    .dataframe tbody tr th {\n",
              "        vertical-align: top;\n",
              "    }\n",
              "\n",
              "    .dataframe thead th {\n",
              "        text-align: right;\n",
              "    }\n",
              "</style>\n",
              "<table border=\"1\" class=\"dataframe\">\n",
              "  <thead>\n",
              "    <tr style=\"text-align: right;\">\n",
              "      <th></th>\n",
              "      <th>dateDeSurvenanceDuSinistre</th>\n",
              "      <th>heureSurvanceDusinistre</th>\n",
              "      <th>dateOuvertureDuSinistre</th>\n",
              "      <th>lieuDuSinistre</th>\n",
              "      <th>pourcentadeDeResponsabilite</th>\n",
              "      <th>numeroDePoliceCompagnieAdverse</th>\n",
              "      <th>codeCompagnieAdverse</th>\n",
              "      <th>porcentageCompagnieAdverse</th>\n",
              "      <th>numeroImmatriculationVehiculeAdverse</th>\n",
              "      <th>typeImmatriculationVehiculeAdverse</th>\n",
              "      <th>mouvementDusinistre</th>\n",
              "      <th>natureDuSinistre</th>\n",
              "      <th>Calculer_Sinistre</th>\n",
              "      <th>lieuDuSinistreajuste</th>\n",
              "      <th>heureSurvanceDusinistreajuste</th>\n",
              "      <th>fraud</th>\n",
              "      <th>mois</th>\n",
              "      <th>saison</th>\n",
              "    </tr>\n",
              "  </thead>\n",
              "  <tbody>\n",
              "    <tr>\n",
              "      <th>0</th>\n",
              "      <td>2017-12-18</td>\n",
              "      <td>0.0</td>\n",
              "      <td>2017-12-18</td>\n",
              "      <td>NaN</td>\n",
              "      <td>0</td>\n",
              "      <td>834736</td>\n",
              "      <td>11.0</td>\n",
              "      <td>0</td>\n",
              "      <td>1651TU133</td>\n",
              "      <td>TU</td>\n",
              "      <td>2.0</td>\n",
              "      <td>M</td>\n",
              "      <td>1</td>\n",
              "      <td>inconnu</td>\n",
              "      <td>0</td>\n",
              "      <td>0</td>\n",
              "      <td>12</td>\n",
              "      <td>hiver</td>\n",
              "    </tr>\n",
              "    <tr>\n",
              "      <th>1</th>\n",
              "      <td>2018-02-16</td>\n",
              "      <td>0.0</td>\n",
              "      <td>2018-02-16</td>\n",
              "      <td>NaN</td>\n",
              "      <td>0</td>\n",
              "      <td>NaN</td>\n",
              "      <td>1.0</td>\n",
              "      <td>0</td>\n",
              "      <td>7046TU163</td>\n",
              "      <td>TU</td>\n",
              "      <td>2.0</td>\n",
              "      <td>M</td>\n",
              "      <td>1</td>\n",
              "      <td>inconnu</td>\n",
              "      <td>0</td>\n",
              "      <td>0</td>\n",
              "      <td>2</td>\n",
              "      <td>hiver</td>\n",
              "    </tr>\n",
              "    <tr>\n",
              "      <th>2</th>\n",
              "      <td>2017-03-11</td>\n",
              "      <td>0.0</td>\n",
              "      <td>2017-03-27</td>\n",
              "      <td>NaN</td>\n",
              "      <td>100</td>\n",
              "      <td>10204000027</td>\n",
              "      <td>4.0</td>\n",
              "      <td>0</td>\n",
              "      <td>3626TU159</td>\n",
              "      <td>TU</td>\n",
              "      <td>3.0</td>\n",
              "      <td>M</td>\n",
              "      <td>1</td>\n",
              "      <td>inconnu</td>\n",
              "      <td>0</td>\n",
              "      <td>0</td>\n",
              "      <td>3</td>\n",
              "      <td>printemps</td>\n",
              "    </tr>\n",
              "    <tr>\n",
              "      <th>3</th>\n",
              "      <td>2017-11-23</td>\n",
              "      <td>0.0</td>\n",
              "      <td>2017-11-27</td>\n",
              "      <td>NaN</td>\n",
              "      <td>0</td>\n",
              "      <td>101160000565</td>\n",
              "      <td>4.0</td>\n",
              "      <td>0</td>\n",
              "      <td>8312TU163</td>\n",
              "      <td>TU</td>\n",
              "      <td>3.0</td>\n",
              "      <td>M</td>\n",
              "      <td>1</td>\n",
              "      <td>inconnu</td>\n",
              "      <td>0</td>\n",
              "      <td>0</td>\n",
              "      <td>11</td>\n",
              "      <td>automne</td>\n",
              "    </tr>\n",
              "    <tr>\n",
              "      <th>4</th>\n",
              "      <td>2017-02-23</td>\n",
              "      <td>0.0</td>\n",
              "      <td>2017-03-02</td>\n",
              "      <td>NaN</td>\n",
              "      <td>0</td>\n",
              "      <td>20075.0336001/3</td>\n",
              "      <td>1.0</td>\n",
              "      <td>0</td>\n",
              "      <td>9213TU96</td>\n",
              "      <td>TU</td>\n",
              "      <td>3.0</td>\n",
              "      <td>M</td>\n",
              "      <td>1</td>\n",
              "      <td>inconnu</td>\n",
              "      <td>0</td>\n",
              "      <td>0</td>\n",
              "      <td>3</td>\n",
              "      <td>printemps</td>\n",
              "    </tr>\n",
              "    <tr>\n",
              "      <th>...</th>\n",
              "      <td>...</td>\n",
              "      <td>...</td>\n",
              "      <td>...</td>\n",
              "      <td>...</td>\n",
              "      <td>...</td>\n",
              "      <td>...</td>\n",
              "      <td>...</td>\n",
              "      <td>...</td>\n",
              "      <td>...</td>\n",
              "      <td>...</td>\n",
              "      <td>...</td>\n",
              "      <td>...</td>\n",
              "      <td>...</td>\n",
              "      <td>...</td>\n",
              "      <td>...</td>\n",
              "      <td>...</td>\n",
              "      <td>...</td>\n",
              "      <td>...</td>\n",
              "    </tr>\n",
              "    <tr>\n",
              "      <th>585262</th>\n",
              "      <td>2017-05-24</td>\n",
              "      <td>NaN</td>\n",
              "      <td>2017-05-24</td>\n",
              "      <td>NaN</td>\n",
              "      <td>100</td>\n",
              "      <td>NaN</td>\n",
              "      <td>NaN</td>\n",
              "      <td>0</td>\n",
              "      <td>NaN</td>\n",
              "      <td>NaN</td>\n",
              "      <td>NaN</td>\n",
              "      <td>M</td>\n",
              "      <td>0</td>\n",
              "      <td>inconnu</td>\n",
              "      <td>0</td>\n",
              "      <td>0</td>\n",
              "      <td>5</td>\n",
              "      <td>printemps</td>\n",
              "    </tr>\n",
              "    <tr>\n",
              "      <th>585263</th>\n",
              "      <td>2017-05-24</td>\n",
              "      <td>NaN</td>\n",
              "      <td>2017-05-24</td>\n",
              "      <td>NaN</td>\n",
              "      <td>100</td>\n",
              "      <td>NaN</td>\n",
              "      <td>NaN</td>\n",
              "      <td>0</td>\n",
              "      <td>NaN</td>\n",
              "      <td>NaN</td>\n",
              "      <td>NaN</td>\n",
              "      <td>M</td>\n",
              "      <td>0</td>\n",
              "      <td>inconnu</td>\n",
              "      <td>0</td>\n",
              "      <td>0</td>\n",
              "      <td>5</td>\n",
              "      <td>printemps</td>\n",
              "    </tr>\n",
              "    <tr>\n",
              "      <th>585264</th>\n",
              "      <td>2017-05-24</td>\n",
              "      <td>NaN</td>\n",
              "      <td>2017-05-24</td>\n",
              "      <td>NaN</td>\n",
              "      <td>100</td>\n",
              "      <td>NaN</td>\n",
              "      <td>NaN</td>\n",
              "      <td>0</td>\n",
              "      <td>NaN</td>\n",
              "      <td>NaN</td>\n",
              "      <td>NaN</td>\n",
              "      <td>M</td>\n",
              "      <td>0</td>\n",
              "      <td>inconnu</td>\n",
              "      <td>0</td>\n",
              "      <td>0</td>\n",
              "      <td>5</td>\n",
              "      <td>printemps</td>\n",
              "    </tr>\n",
              "    <tr>\n",
              "      <th>585265</th>\n",
              "      <td>2017-03-17</td>\n",
              "      <td>NaN</td>\n",
              "      <td>2017-03-17</td>\n",
              "      <td>NaN</td>\n",
              "      <td>0</td>\n",
              "      <td>NaN</td>\n",
              "      <td>NaN</td>\n",
              "      <td>100</td>\n",
              "      <td>NaN</td>\n",
              "      <td>NaN</td>\n",
              "      <td>NaN</td>\n",
              "      <td>M</td>\n",
              "      <td>0</td>\n",
              "      <td>inconnu</td>\n",
              "      <td>0</td>\n",
              "      <td>0</td>\n",
              "      <td>3</td>\n",
              "      <td>printemps</td>\n",
              "    </tr>\n",
              "    <tr>\n",
              "      <th>585266</th>\n",
              "      <td>2017-03-17</td>\n",
              "      <td>NaN</td>\n",
              "      <td>2017-03-17</td>\n",
              "      <td>NaN</td>\n",
              "      <td>0</td>\n",
              "      <td>NaN</td>\n",
              "      <td>NaN</td>\n",
              "      <td>100</td>\n",
              "      <td>NaN</td>\n",
              "      <td>NaN</td>\n",
              "      <td>NaN</td>\n",
              "      <td>M</td>\n",
              "      <td>-1</td>\n",
              "      <td>inconnu</td>\n",
              "      <td>0</td>\n",
              "      <td>0</td>\n",
              "      <td>3</td>\n",
              "      <td>printemps</td>\n",
              "    </tr>\n",
              "  </tbody>\n",
              "</table>\n",
              "<p>585267 rows × 18 columns</p>\n",
              "</div>"
            ],
            "text/plain": [
              "       dateDeSurvenanceDuSinistre  heureSurvanceDusinistre  ... mois     saison\n",
              "0                      2017-12-18                      0.0  ...   12      hiver\n",
              "1                      2018-02-16                      0.0  ...    2      hiver\n",
              "2                      2017-03-11                      0.0  ...    3  printemps\n",
              "3                      2017-11-23                      0.0  ...   11    automne\n",
              "4                      2017-02-23                      0.0  ...    3  printemps\n",
              "...                           ...                      ...  ...  ...        ...\n",
              "585262                 2017-05-24                      NaN  ...    5  printemps\n",
              "585263                 2017-05-24                      NaN  ...    5  printemps\n",
              "585264                 2017-05-24                      NaN  ...    5  printemps\n",
              "585265                 2017-03-17                      NaN  ...    3  printemps\n",
              "585266                 2017-03-17                      NaN  ...    3  printemps\n",
              "\n",
              "[585267 rows x 18 columns]"
            ]
          },
          "metadata": {
            "tags": []
          },
          "execution_count": 261
        }
      ]
    },
    {
      "cell_type": "code",
      "metadata": {
        "colab": {
          "base_uri": "https://localhost:8080/"
        },
        "id": "dx6LGOlndTlR",
        "outputId": "996fd000-8a4f-4cfa-d5b5-a0300b7e3f01"
      },
      "source": [
        "Sinistre_clean1.isna().sum()"
      ],
      "execution_count": null,
      "outputs": [
        {
          "output_type": "execute_result",
          "data": {
            "text/plain": [
              "dateDeSurvenanceDuSinistre                   0\n",
              "heureSurvanceDusinistre                  24332\n",
              "dateOuvertureDuSinistre                      0\n",
              "lieuDuSinistre                          361882\n",
              "pourcentadeDeResponsabilite                  0\n",
              "numeroDePoliceCompagnieAdverse          380121\n",
              "codeCompagnieAdverse                    302615\n",
              "porcentageCompagnieAdverse                   0\n",
              "numeroImmatriculationVehiculeAdverse    364894\n",
              "typeImmatriculationVehiculeAdverse      358613\n",
              "mouvementDusinistre                      24332\n",
              "natureDuSinistre                             0\n",
              "Calculer_Sinistre                            0\n",
              "lieuDuSinistreajuste                         0\n",
              "heureSurvanceDusinistreajuste                0\n",
              "fraud                                        0\n",
              "mois                                         0\n",
              "saison                                       0\n",
              "dtype: int64"
            ]
          },
          "metadata": {
            "tags": []
          },
          "execution_count": 262
        }
      ]
    },
    {
      "cell_type": "markdown",
      "metadata": {
        "id": "FFqe8vZwOeDL"
      },
      "source": [
        "# **II-Détection des Fraudes:**"
      ]
    },
    {
      "cell_type": "markdown",
      "metadata": {
        "id": "7Y_hhA77Oytu"
      },
      "source": [
        "**Type De Fraude 1 : coeffcient Bonus Malus**"
      ]
    },
    {
      "cell_type": "code",
      "metadata": {
        "colab": {
          "base_uri": "https://localhost:8080/"
        },
        "id": "LbqblWi9OqPd",
        "outputId": "421bc40c-ad83-43fd-a127-db797364d2ba"
      },
      "source": [
        "len(df_merge3[(df_merge3[\"classeBonusMalus\"]==1 ) & (df_merge3[\"coefBonusMalus\"]!=70 )])"
      ],
      "execution_count": null,
      "outputs": [
        {
          "output_type": "execute_result",
          "data": {
            "text/plain": [
              "52752"
            ]
          },
          "metadata": {
            "tags": []
          },
          "execution_count": 12
        }
      ]
    },
    {
      "cell_type": "code",
      "metadata": {
        "colab": {
          "base_uri": "https://localhost:8080/"
        },
        "id": "K_NLEtwjQGkW",
        "outputId": "b403f85a-f911-4afd-9dbf-163d4d2c5779"
      },
      "source": [
        "len(df_merge3[(df_merge3[\"classeBonusMalus\"]==2 ) & (df_merge3[\"coefBonusMalus\"]!=80 )])"
      ],
      "execution_count": null,
      "outputs": [
        {
          "output_type": "execute_result",
          "data": {
            "text/plain": [
              "30306"
            ]
          },
          "metadata": {
            "tags": []
          },
          "execution_count": 13
        }
      ]
    },
    {
      "cell_type": "code",
      "metadata": {
        "colab": {
          "base_uri": "https://localhost:8080/"
        },
        "id": "Sg0v1A3BQI8j",
        "outputId": "3aa850d7-eff7-458e-dd99-9ba82ff7192a"
      },
      "source": [
        "len(df_merge3[(df_merge3[\"classeBonusMalus\"]==3 ) & (df_merge3[\"coefBonusMalus\"]!=90 )])"
      ],
      "execution_count": null,
      "outputs": [
        {
          "output_type": "execute_result",
          "data": {
            "text/plain": [
              "47987"
            ]
          },
          "metadata": {
            "tags": []
          },
          "execution_count": 14
        }
      ]
    },
    {
      "cell_type": "code",
      "metadata": {
        "colab": {
          "base_uri": "https://localhost:8080/"
        },
        "id": "Q1MZvuU4QJM8",
        "outputId": "70cfc6dc-223d-4c8b-e53e-898b47d3d77f"
      },
      "source": [
        "len(df_merge3[(df_merge3[\"classeBonusMalus\"]==4 ) & (df_merge3[\"coefBonusMalus\"]!=100 )])"
      ],
      "execution_count": null,
      "outputs": [
        {
          "output_type": "execute_result",
          "data": {
            "text/plain": [
              "11540"
            ]
          },
          "metadata": {
            "tags": []
          },
          "execution_count": 15
        }
      ]
    },
    {
      "cell_type": "code",
      "metadata": {
        "colab": {
          "base_uri": "https://localhost:8080/"
        },
        "id": "d8zMvJopQNBr",
        "outputId": "e0fb9a67-7d41-4e5a-feea-3e56428fe242"
      },
      "source": [
        "len(df_merge3[(df_merge3[\"classeBonusMalus\"]==5 ) & (df_merge3[\"coefBonusMalus\"]!=120 )])"
      ],
      "execution_count": null,
      "outputs": [
        {
          "output_type": "execute_result",
          "data": {
            "text/plain": [
              "24516"
            ]
          },
          "metadata": {
            "tags": []
          },
          "execution_count": 16
        }
      ]
    },
    {
      "cell_type": "code",
      "metadata": {
        "colab": {
          "base_uri": "https://localhost:8080/"
        },
        "id": "aOwmrD4JQNKM",
        "outputId": "b8bd1471-39c3-4e22-faaf-abfb64bbf88b"
      },
      "source": [
        "len(df_merge3[(df_merge3[\"classeBonusMalus\"]==6 ) & (df_merge3[\"coefBonusMalus\"]!=140 )])"
      ],
      "execution_count": null,
      "outputs": [
        {
          "output_type": "execute_result",
          "data": {
            "text/plain": [
              "2365"
            ]
          },
          "metadata": {
            "tags": []
          },
          "execution_count": 17
        }
      ]
    },
    {
      "cell_type": "code",
      "metadata": {
        "colab": {
          "base_uri": "https://localhost:8080/"
        },
        "id": "MeBulQdPQNRN",
        "outputId": "285c9b59-b3e1-45ee-9327-31fba12fa313"
      },
      "source": [
        "len(df_merge3[(df_merge3[\"classeBonusMalus\"]==7 ) & (df_merge3[\"coefBonusMalus\"]!=160 )])"
      ],
      "execution_count": null,
      "outputs": [
        {
          "output_type": "execute_result",
          "data": {
            "text/plain": [
              "1193"
            ]
          },
          "metadata": {
            "tags": []
          },
          "execution_count": 18
        }
      ]
    },
    {
      "cell_type": "code",
      "metadata": {
        "colab": {
          "base_uri": "https://localhost:8080/"
        },
        "id": "45_2usyHQNYS",
        "outputId": "7f2a0783-46b8-4f92-d8a8-1e6ea93c1bef"
      },
      "source": [
        "len(df_merge3[(df_merge3[\"classeBonusMalus\"]==8 ) & (df_merge3[\"coefBonusMalus\"]!=200 )])"
      ],
      "execution_count": null,
      "outputs": [
        {
          "output_type": "execute_result",
          "data": {
            "text/plain": [
              "0"
            ]
          },
          "metadata": {
            "tags": []
          },
          "execution_count": 19
        }
      ]
    },
    {
      "cell_type": "code",
      "metadata": {
        "colab": {
          "base_uri": "https://localhost:8080/"
        },
        "id": "ZwvQGD2cQNey",
        "outputId": "2322d99b-15de-4930-d6a8-cee5176b9fc4"
      },
      "source": [
        "len(df_merge3[(df_merge3[\"classeBonusMalus\"]==9 ) & (df_merge3[\"coefBonusMalus\"]!=250 )])"
      ],
      "execution_count": null,
      "outputs": [
        {
          "output_type": "execute_result",
          "data": {
            "text/plain": [
              "3"
            ]
          },
          "metadata": {
            "tags": []
          },
          "execution_count": 20
        }
      ]
    },
    {
      "cell_type": "code",
      "metadata": {
        "colab": {
          "base_uri": "https://localhost:8080/"
        },
        "id": "WDvUodBkQNl6",
        "outputId": "2b1ebe34-c8ac-4321-ee2c-8b88229b01ce"
      },
      "source": [
        "len(df_merge3[(df_merge3[\"classeBonusMalus\"]==10 ) & (df_merge3[\"coefBonusMalus\"]!=300 )])"
      ],
      "execution_count": null,
      "outputs": [
        {
          "output_type": "execute_result",
          "data": {
            "text/plain": [
              "7"
            ]
          },
          "metadata": {
            "tags": []
          },
          "execution_count": 21
        }
      ]
    },
    {
      "cell_type": "code",
      "metadata": {
        "colab": {
          "base_uri": "https://localhost:8080/"
        },
        "id": "JV3ReycxQNss",
        "outputId": "fca4e432-fa67-4ec6-8b3c-dbb63d099eba"
      },
      "source": [
        "len(df_merge3[(df_merge3[\"classeBonusMalus\"]==11 ) & (df_merge3[\"coefBonusMalus\"]!=350 )])"
      ],
      "execution_count": null,
      "outputs": [
        {
          "output_type": "execute_result",
          "data": {
            "text/plain": [
              "2"
            ]
          },
          "metadata": {
            "tags": []
          },
          "execution_count": 22
        }
      ]
    },
    {
      "cell_type": "markdown",
      "metadata": {
        "id": "JJlQXOhjRd7U"
      },
      "source": [
        "**Comparaison de classe Bonus Malus avec Coeff Bonus Malus**"
      ]
    },
    {
      "cell_type": "code",
      "metadata": {
        "id": "y10Ox5smRc7k"
      },
      "source": [
        "df_merge3.loc[(df_merge3[\"classeBonusMalus\"]==1 ) & (df_merge3[\"coefBonusMalus\"]!=70 ),'fraude']=1\n",
        "df_merge3.loc[(df_merge3[\"classeBonusMalus\"]==2 ) & (df_merge3[\"coefBonusMalus\"]!=80 ),'fraude']=1\n",
        "df_merge3.loc[(df_merge3[\"classeBonusMalus\"]==3 ) & (df_merge3[\"coefBonusMalus\"]!=90 ),'fraude']=1\n",
        "df_merge3.loc[(df_merge3[\"classeBonusMalus\"]==4 ) & (df_merge3[\"coefBonusMalus\"]!=100 ),'fraude']=1\n",
        "df_merge3.loc[(df_merge3[\"classeBonusMalus\"]==5 ) & (df_merge3[\"coefBonusMalus\"]!=120 ),'fraude']=1\n",
        "df_merge3.loc[(df_merge3[\"classeBonusMalus\"]==6 ) & (df_merge3[\"coefBonusMalus\"]!=140 ),'fraude']=1\n",
        "df_merge3.loc[(df_merge3[\"classeBonusMalus\"]==7 ) & (df_merge3[\"coefBonusMalus\"]!=160 ),'fraude']=1\n",
        "df_merge3.loc[(df_merge3[\"classeBonusMalus\"]==8 ) & (df_merge3[\"coefBonusMalus\"]!=200 ),'fraude']=1\n",
        "df_merge3.loc[(df_merge3[\"classeBonusMalus\"]==9 ) & (df_merge3[\"coefBonusMalus\"]!=250 ),'fraude']=1\n",
        "df_merge3.loc[(df_merge3[\"classeBonusMalus\"]==10 ) & (df_merge3[\"coefBonusMalus\"]!=300 ),'fraude']=1\n",
        "df_merge3.loc[(df_merge3[\"classeBonusMalus\"]==11 ) & (df_merge3[\"coefBonusMalus\"]!=350 ),'fraude']=1"
      ],
      "execution_count": null,
      "outputs": []
    },
    {
      "cell_type": "code",
      "metadata": {
        "colab": {
          "base_uri": "https://localhost:8080/"
        },
        "id": "P98mnaKESLWT",
        "outputId": "8f78fa39-10bc-4739-d9a9-8eafa8488690"
      },
      "source": [
        "len(df_merge3[df_merge3[\"fraude\"]==1])"
      ],
      "execution_count": null,
      "outputs": [
        {
          "output_type": "execute_result",
          "data": {
            "text/plain": [
              "170671"
            ]
          },
          "metadata": {
            "tags": []
          },
          "execution_count": 24
        }
      ]
    },
    {
      "cell_type": "code",
      "metadata": {
        "id": "ZSqOeMFBRW3p"
      },
      "source": [
        "fig = plt.figure()\n",
        "\n",
        "x = [1,2,3,4,5,6,7,8,9,10,11]\n",
        "y1 = df_merge3[(df_merge3[\"classeBonusMalus\"]==1) & (df_merge3[\"fraude\"]==1)].shape[0]\n",
        "y2 = df_merge3[(df_merge3[\"classeBonusMalus\"]==2) & (df_merge3[\"fraude\"]==1)].shape[0]\n",
        "y3 = df_merge3[(df_merge3[\"classeBonusMalus\"]==3) & (df_merge3[\"fraude\"]==1)].shape[0]\n",
        "y4 = df_merge3[(df_merge3[\"classeBonusMalus\"]==4) & (df_merge3[\"fraude\"]==1)].shape[0]\n",
        "y5 = df_merge3[(df_merge3[\"classeBonusMalus\"]==5) & (df_merge3[\"fraude\"]==1)].shape[0]\n",
        "y6 = df_merge3[(df_merge3[\"classeBonusMalus\"]==6) & (df_merge3[\"fraude\"]==1)].shape[0]\n",
        "y7 = df_merge3[(df_merge3[\"classeBonusMalus\"]==7) & (df_merge3[\"fraude\"]==1)].shape[0]\n",
        "y8 = df_merge3[(df_merge3[\"classeBonusMalus\"]==8) & (df_merge3[\"fraude\"]==1)].shape[0]\n",
        "y9 = df_merge3[(df_merge3[\"classeBonusMalus\"]==9) & (df_merge3[\"fraude\"]==1)].shape[0]\n",
        "y10 = df_merge3[(df_merge3[\"classeBonusMalus\"]==10) & (df_merge3[\"fraude\"]==1)].shape[0]\n",
        "y11 = df_merge3[(df_merge3[\"classeBonusMalus\"]==11) & (df_merge3[\"fraude\"]==1)].shape[0]\n",
        "height = [y1,y2,y3,y4,y5,y6,y7,y8,y9,y10,y11]\n",
        "width = 0.5\n",
        "\n",
        "plt.bar(x, height, width)\n",
        "plt.show()\n",
        "plt.grid()"
      ],
      "execution_count": null,
      "outputs": []
    },
    {
      "cell_type": "code",
      "metadata": {
        "colab": {
          "base_uri": "https://localhost:8080/",
          "height": 265
        },
        "id": "V0GBuCgxTW9d",
        "outputId": "adeec0b9-9fdb-4e4f-e0d7-3d71c60cae48"
      },
      "source": [
        "fig"
      ],
      "execution_count": null,
      "outputs": [
        {
          "output_type": "execute_result",
          "data": {
            "image/png": "[encoded data removed]",
            "text/plain": [
              "<Figure size 432x288 with 1 Axes>"
            ]
          },
          "metadata": {
            "tags": []
          },
          "execution_count": 26
        }
      ]
    },
    {
      "cell_type": "markdown",
      "metadata": {
        "id": "qXW0jjkwfeqf"
      },
      "source": [
        "**Type De Fraude 2: Pourcentage De Responsabilite**"
      ]
    },
    {
      "cell_type": "code",
      "metadata": {
        "id": "9jBaTPosfyPV"
      },
      "source": [
        "Sinistre.drop(columns=[\"fraud\"],inplace=True)"
      ],
      "execution_count": null,
      "outputs": []
    },
    {
      "cell_type": "code",
      "metadata": {
        "id": "eOOwwYl5gN-e"
      },
      "source": [
        "Sinistre[\"fraude2\"]=0"
      ],
      "execution_count": null,
      "outputs": []
    },
    {
      "cell_type": "code",
      "metadata": {
        "id": "AwBWUASHgTpY"
      },
      "source": [
        "Sinistre.loc[(Sinistre[\"pourcentadeDeResponsabilite\"]>100),'fraude2']=1"
      ],
      "execution_count": null,
      "outputs": []
    },
    {
      "cell_type": "code",
      "metadata": {
        "colab": {
          "base_uri": "https://localhost:8080/"
        },
        "id": "4qaUqgZIgeG_",
        "outputId": "fc788740-ad4a-409c-e0e9-7f0a11ca3743"
      },
      "source": [
        "Sinistre[\"fraude2\"].value_counts()"
      ],
      "execution_count": null,
      "outputs": [
        {
          "output_type": "execute_result",
          "data": {
            "text/plain": [
              "0    584189\n",
              "1      1078\n",
              "Name: fraude2, dtype: int64"
            ]
          },
          "metadata": {
            "tags": []
          },
          "execution_count": 30
        }
      ]
    },
    {
      "cell_type": "code",
      "metadata": {
        "colab": {
          "base_uri": "https://localhost:8080/"
        },
        "id": "ZHFKpaCa5yhA",
        "outputId": "8fbdb92f-4ffc-42d7-8e1b-fb52ef5b4579"
      },
      "source": [
        "Sinistre.columns"
      ],
      "execution_count": null,
      "outputs": [
        {
          "output_type": "execute_result",
          "data": {
            "text/plain": [
              "Index(['Unnamed: 0', 'Unnamed: 1', 'Unnamed: 2', 'Unnamed: 3',\n",
              "       'dateDeSurvenanceDuSinistre', 'heureSurvanceDusinistre',\n",
              "       'dateOuvertureDuSinistre', 'lieuDuSinistre', 'identificationTiers',\n",
              "       'pourcentadeDeResponsabilite', 'numeroDePoliceCompagnieAdverse',\n",
              "       'codeCompagnieAdverse', 'porcentageCompagnieAdverse',\n",
              "       'numeroImmatriculationVehiculeAdverse',\n",
              "       'typeImmatriculationVehiculeAdverse', 'mouvementDusinistre',\n",
              "       'natureDuSinistre', 'Calculer_Sinistre', 'lieuDuSinistreajuste',\n",
              "       'heureSurvanceDusinistreajuste', 'mois', 'saison', 'fraude2'],\n",
              "      dtype='object')"
            ]
          },
          "metadata": {
            "tags": []
          },
          "execution_count": 31
        }
      ]
    },
    {
      "cell_type": "markdown",
      "metadata": {
        "id": "ZU40tW7olriS"
      },
      "source": [
        "**Type De Fraude 3: Nombre de véhicules**"
      ]
    },
    {
      "cell_type": "code",
      "metadata": {
        "id": "Js28YPI4hHDr"
      },
      "source": [
        "list_nbr_voiture=df_merge3[\"CodePolice_id\"].value_counts()\n",
        "bd = dict(list_nbr_voiture)\n",
        "df_nbr_voiture = pd.DataFrame(list(bd.items()),columns = ['cga_police_id','nombre_voiture'])"
      ],
      "execution_count": null,
      "outputs": []
    },
    {
      "cell_type": "code",
      "metadata": {
        "colab": {
          "base_uri": "https://localhost:8080/",
          "height": 399
        },
        "id": "EBvZE6uMlm_h",
        "outputId": "ccf77eae-6931-4b41-f8b5-ce8c5c56ecfb"
      },
      "source": [
        "df_nbr_voiture[df_nbr_voiture[\"nombre_voiture\"]>5]"
      ],
      "execution_count": null,
      "outputs": [
        {
          "output_type": "execute_result",
          "data": {
            "text/html": [
              "<div>\n",
              "<style scoped>\n",
              "    .dataframe tbody tr th:only-of-type {\n",
              "        vertical-align: middle;\n",
              "    }\n",
              "\n",
              "    .dataframe tbody tr th {\n",
              "        vertical-align: top;\n",
              "    }\n",
              "\n",
              "    .dataframe thead th {\n",
              "        text-align: right;\n",
              "    }\n",
              "</style>\n",
              "<table border=\"1\" class=\"dataframe\">\n",
              "  <thead>\n",
              "    <tr style=\"text-align: right;\">\n",
              "      <th></th>\n",
              "      <th>cga_police_id</th>\n",
              "      <th>nombre_voiture</th>\n",
              "    </tr>\n",
              "  </thead>\n",
              "  <tbody>\n",
              "    <tr>\n",
              "      <th>0</th>\n",
              "      <td>358106</td>\n",
              "      <td>282</td>\n",
              "    </tr>\n",
              "    <tr>\n",
              "      <th>1</th>\n",
              "      <td>358369</td>\n",
              "      <td>177</td>\n",
              "    </tr>\n",
              "    <tr>\n",
              "      <th>2</th>\n",
              "      <td>358131</td>\n",
              "      <td>132</td>\n",
              "    </tr>\n",
              "    <tr>\n",
              "      <th>3</th>\n",
              "      <td>358387</td>\n",
              "      <td>121</td>\n",
              "    </tr>\n",
              "    <tr>\n",
              "      <th>4</th>\n",
              "      <td>358624</td>\n",
              "      <td>113</td>\n",
              "    </tr>\n",
              "    <tr>\n",
              "      <th>...</th>\n",
              "      <td>...</td>\n",
              "      <td>...</td>\n",
              "    </tr>\n",
              "    <tr>\n",
              "      <th>112</th>\n",
              "      <td>358109</td>\n",
              "      <td>6</td>\n",
              "    </tr>\n",
              "    <tr>\n",
              "      <th>113</th>\n",
              "      <td>357877</td>\n",
              "      <td>6</td>\n",
              "    </tr>\n",
              "    <tr>\n",
              "      <th>114</th>\n",
              "      <td>357867</td>\n",
              "      <td>6</td>\n",
              "    </tr>\n",
              "    <tr>\n",
              "      <th>115</th>\n",
              "      <td>357890</td>\n",
              "      <td>6</td>\n",
              "    </tr>\n",
              "    <tr>\n",
              "      <th>116</th>\n",
              "      <td>1337277</td>\n",
              "      <td>6</td>\n",
              "    </tr>\n",
              "  </tbody>\n",
              "</table>\n",
              "<p>117 rows × 2 columns</p>\n",
              "</div>"
            ],
            "text/plain": [
              "     cga_police_id  nombre_voiture\n",
              "0           358106             282\n",
              "1           358369             177\n",
              "2           358131             132\n",
              "3           358387             121\n",
              "4           358624             113\n",
              "..             ...             ...\n",
              "112         358109               6\n",
              "113         357877               6\n",
              "114         357867               6\n",
              "115         357890               6\n",
              "116        1337277               6\n",
              "\n",
              "[117 rows x 2 columns]"
            ]
          },
          "metadata": {
            "tags": []
          },
          "execution_count": 33
        }
      ]
    },
    {
      "cell_type": "markdown",
      "metadata": {
        "id": "ZYVMlyNyNPdb"
      },
      "source": [
        " Ce qui déclare un nombre de véhicules >= 6 : Fraudeur"
      ]
    },
    {
      "cell_type": "markdown",
      "metadata": {
        "id": "beAFNMT49CIK"
      },
      "source": [
        "# **Préparation de Data final**\n",
        "\n",
        "---\n",
        "\n",
        "\n",
        "\n",
        "---\n",
        "\n"
      ]
    },
    {
      "cell_type": "code",
      "metadata": {
        "id": "TU2mQ-HS9BCJ"
      },
      "source": [
        "df_concat =  pd.concat([BonusMalus,Sinistre_clean1,Police_clean], axis=1)"
      ],
      "execution_count": null,
      "outputs": []
    },
    {
      "cell_type": "code",
      "metadata": {
        "colab": {
          "base_uri": "https://localhost:8080/"
        },
        "id": "uff9v4gD9UiU",
        "outputId": "53bae0b4-ddb0-4a70-b0c9-810451fdfeea"
      },
      "source": [
        "df_concat.shape"
      ],
      "execution_count": null,
      "outputs": [
        {
          "output_type": "execute_result",
          "data": {
            "text/plain": [
              "(937280, 39)"
            ]
          },
          "metadata": {
            "tags": []
          },
          "execution_count": 35
        }
      ]
    },
    {
      "cell_type": "code",
      "metadata": {
        "colab": {
          "base_uri": "https://localhost:8080/",
          "height": 504
        },
        "id": "mB0sOGAB9Yrc",
        "outputId": "6b027090-e1d8-4fbd-bb6d-3c94d63877ee"
      },
      "source": [
        "df_concat"
      ],
      "execution_count": null,
      "outputs": [
        {
          "output_type": "execute_result",
          "data": {
            "text/html": [
              "<div>\n",
              "<style scoped>\n",
              "    .dataframe tbody tr th:only-of-type {\n",
              "        vertical-align: middle;\n",
              "    }\n",
              "\n",
              "    .dataframe tbody tr th {\n",
              "        vertical-align: top;\n",
              "    }\n",
              "\n",
              "    .dataframe thead th {\n",
              "        text-align: right;\n",
              "    }\n",
              "</style>\n",
              "<table border=\"1\" class=\"dataframe\">\n",
              "  <thead>\n",
              "    <tr style=\"text-align: right;\">\n",
              "      <th></th>\n",
              "      <th>CodeBonusMalus_id</th>\n",
              "      <th>CodePolice_id</th>\n",
              "      <th>CodeVehicule_id</th>\n",
              "      <th>CodeAssure_id</th>\n",
              "      <th>CodeSouscripteur_id</th>\n",
              "      <th>codeUsage</th>\n",
              "      <th>ETAT_VEHICULE</th>\n",
              "      <th>DATE_AFFECTATION</th>\n",
              "      <th>classeBonusMalus</th>\n",
              "      <th>classeBonusMalusCompagnie</th>\n",
              "      <th>coefBonusMalus</th>\n",
              "      <th>dateDeSurvenanceDuSinistre</th>\n",
              "      <th>heureSurvanceDusinistre</th>\n",
              "      <th>dateOuvertureDuSinistre</th>\n",
              "      <th>lieuDuSinistre</th>\n",
              "      <th>pourcentadeDeResponsabilite</th>\n",
              "      <th>numeroDePoliceCompagnieAdverse</th>\n",
              "      <th>codeCompagnieAdverse</th>\n",
              "      <th>porcentageCompagnieAdverse</th>\n",
              "      <th>numeroImmatriculationVehiculeAdverse</th>\n",
              "      <th>typeImmatriculationVehiculeAdverse</th>\n",
              "      <th>mouvementDusinistre</th>\n",
              "      <th>natureDuSinistre</th>\n",
              "      <th>Calculer_Sinistre</th>\n",
              "      <th>lieuDuSinistreajuste</th>\n",
              "      <th>heureSurvanceDusinistreajuste</th>\n",
              "      <th>fraud</th>\n",
              "      <th>mois</th>\n",
              "      <th>saison</th>\n",
              "      <th>CodePolice_id</th>\n",
              "      <th>codeCompagnie</th>\n",
              "      <th>codeAgence</th>\n",
              "      <th>typeIntermediaire</th>\n",
              "      <th>numPolice</th>\n",
              "      <th>naturePolice</th>\n",
              "      <th>typePolice</th>\n",
              "      <th>Etat_Police</th>\n",
              "      <th>dateEffetPolice</th>\n",
              "      <th>dateEcheancePolice</th>\n",
              "    </tr>\n",
              "  </thead>\n",
              "  <tbody>\n",
              "    <tr>\n",
              "      <th>0</th>\n",
              "      <td>117346.0</td>\n",
              "      <td>116167.0</td>\n",
              "      <td>111858.0</td>\n",
              "      <td>101772.0</td>\n",
              "      <td>101691.0</td>\n",
              "      <td>1.0</td>\n",
              "      <td>V</td>\n",
              "      <td>2017-07-14 00:00:00.000000</td>\n",
              "      <td>1.0</td>\n",
              "      <td>1.0</td>\n",
              "      <td>70.0</td>\n",
              "      <td>2017-12-18</td>\n",
              "      <td>0.0</td>\n",
              "      <td>2017-12-18</td>\n",
              "      <td>NaN</td>\n",
              "      <td>0.0</td>\n",
              "      <td>834736</td>\n",
              "      <td>11.0</td>\n",
              "      <td>0.0</td>\n",
              "      <td>1651TU133</td>\n",
              "      <td>TU</td>\n",
              "      <td>2.0</td>\n",
              "      <td>M</td>\n",
              "      <td>1.0</td>\n",
              "      <td>inconnu</td>\n",
              "      <td>0.0</td>\n",
              "      <td>0.0</td>\n",
              "      <td>12.0</td>\n",
              "      <td>hiver</td>\n",
              "      <td>545568</td>\n",
              "      <td>1</td>\n",
              "      <td>599</td>\n",
              "      <td>1</td>\n",
              "      <td>20155.0076050/6</td>\n",
              "      <td>R</td>\n",
              "      <td>I</td>\n",
              "      <td>R</td>\n",
              "      <td>2015-10-13</td>\n",
              "      <td>1013.0</td>\n",
              "    </tr>\n",
              "    <tr>\n",
              "      <th>1</th>\n",
              "      <td>117347.0</td>\n",
              "      <td>116168.0</td>\n",
              "      <td>111859.0</td>\n",
              "      <td>99417.0</td>\n",
              "      <td>99336.0</td>\n",
              "      <td>10.0</td>\n",
              "      <td>V</td>\n",
              "      <td>2017-07-14 00:00:00.000000</td>\n",
              "      <td>1.0</td>\n",
              "      <td>1.0</td>\n",
              "      <td>80.0</td>\n",
              "      <td>2018-02-16</td>\n",
              "      <td>0.0</td>\n",
              "      <td>2018-02-16</td>\n",
              "      <td>NaN</td>\n",
              "      <td>0.0</td>\n",
              "      <td>NaN</td>\n",
              "      <td>1.0</td>\n",
              "      <td>0.0</td>\n",
              "      <td>7046TU163</td>\n",
              "      <td>TU</td>\n",
              "      <td>2.0</td>\n",
              "      <td>M</td>\n",
              "      <td>1.0</td>\n",
              "      <td>inconnu</td>\n",
              "      <td>0.0</td>\n",
              "      <td>0.0</td>\n",
              "      <td>2.0</td>\n",
              "      <td>hiver</td>\n",
              "      <td>545569</td>\n",
              "      <td>1</td>\n",
              "      <td>655</td>\n",
              "      <td>1</td>\n",
              "      <td>20155.0076056/5</td>\n",
              "      <td>R</td>\n",
              "      <td>I</td>\n",
              "      <td>V</td>\n",
              "      <td>2015-10-13</td>\n",
              "      <td>1013.0</td>\n",
              "    </tr>\n",
              "    <tr>\n",
              "      <th>2</th>\n",
              "      <td>117348.0</td>\n",
              "      <td>116169.0</td>\n",
              "      <td>111860.0</td>\n",
              "      <td>101773.0</td>\n",
              "      <td>101692.0</td>\n",
              "      <td>1.0</td>\n",
              "      <td>V</td>\n",
              "      <td>2017-07-14 00:00:00.000000</td>\n",
              "      <td>1.0</td>\n",
              "      <td>1.0</td>\n",
              "      <td>70.0</td>\n",
              "      <td>2017-03-11</td>\n",
              "      <td>0.0</td>\n",
              "      <td>2017-03-27</td>\n",
              "      <td>NaN</td>\n",
              "      <td>100.0</td>\n",
              "      <td>10204000027</td>\n",
              "      <td>4.0</td>\n",
              "      <td>0.0</td>\n",
              "      <td>3626TU159</td>\n",
              "      <td>TU</td>\n",
              "      <td>3.0</td>\n",
              "      <td>M</td>\n",
              "      <td>1.0</td>\n",
              "      <td>inconnu</td>\n",
              "      <td>0.0</td>\n",
              "      <td>0.0</td>\n",
              "      <td>3.0</td>\n",
              "      <td>printemps</td>\n",
              "      <td>545570</td>\n",
              "      <td>1</td>\n",
              "      <td>757</td>\n",
              "      <td>1</td>\n",
              "      <td>20155.0076058/9</td>\n",
              "      <td>R</td>\n",
              "      <td>I</td>\n",
              "      <td>V</td>\n",
              "      <td>2015-10-13</td>\n",
              "      <td>1013.0</td>\n",
              "    </tr>\n",
              "    <tr>\n",
              "      <th>3</th>\n",
              "      <td>117349.0</td>\n",
              "      <td>116170.0</td>\n",
              "      <td>111861.0</td>\n",
              "      <td>101774.0</td>\n",
              "      <td>101693.0</td>\n",
              "      <td>1.0</td>\n",
              "      <td>V</td>\n",
              "      <td>2017-07-14 00:00:00.000000</td>\n",
              "      <td>1.0</td>\n",
              "      <td>1.0</td>\n",
              "      <td>70.0</td>\n",
              "      <td>2017-11-23</td>\n",
              "      <td>0.0</td>\n",
              "      <td>2017-11-27</td>\n",
              "      <td>NaN</td>\n",
              "      <td>0.0</td>\n",
              "      <td>101160000565</td>\n",
              "      <td>4.0</td>\n",
              "      <td>0.0</td>\n",
              "      <td>8312TU163</td>\n",
              "      <td>TU</td>\n",
              "      <td>3.0</td>\n",
              "      <td>M</td>\n",
              "      <td>1.0</td>\n",
              "      <td>inconnu</td>\n",
              "      <td>0.0</td>\n",
              "      <td>0.0</td>\n",
              "      <td>11.0</td>\n",
              "      <td>automne</td>\n",
              "      <td>545571</td>\n",
              "      <td>1</td>\n",
              "      <td>636</td>\n",
              "      <td>1</td>\n",
              "      <td>20155.0076059/4</td>\n",
              "      <td>R</td>\n",
              "      <td>I</td>\n",
              "      <td>V</td>\n",
              "      <td>2015-10-13</td>\n",
              "      <td>1013.0</td>\n",
              "    </tr>\n",
              "    <tr>\n",
              "      <th>4</th>\n",
              "      <td>117350.0</td>\n",
              "      <td>116171.0</td>\n",
              "      <td>111862.0</td>\n",
              "      <td>101775.0</td>\n",
              "      <td>101694.0</td>\n",
              "      <td>1.0</td>\n",
              "      <td>V</td>\n",
              "      <td>2017-07-14 00:00:00.000000</td>\n",
              "      <td>2.0</td>\n",
              "      <td>2.0</td>\n",
              "      <td>80.0</td>\n",
              "      <td>2017-02-23</td>\n",
              "      <td>0.0</td>\n",
              "      <td>2017-03-02</td>\n",
              "      <td>NaN</td>\n",
              "      <td>0.0</td>\n",
              "      <td>20075.0336001/3</td>\n",
              "      <td>1.0</td>\n",
              "      <td>0.0</td>\n",
              "      <td>9213TU96</td>\n",
              "      <td>TU</td>\n",
              "      <td>3.0</td>\n",
              "      <td>M</td>\n",
              "      <td>1.0</td>\n",
              "      <td>inconnu</td>\n",
              "      <td>0.0</td>\n",
              "      <td>0.0</td>\n",
              "      <td>3.0</td>\n",
              "      <td>printemps</td>\n",
              "      <td>545572</td>\n",
              "      <td>1</td>\n",
              "      <td>610</td>\n",
              "      <td>1</td>\n",
              "      <td>20155.0076062/9</td>\n",
              "      <td>R</td>\n",
              "      <td>I</td>\n",
              "      <td>V</td>\n",
              "      <td>2015-10-13</td>\n",
              "      <td>1013.0</td>\n",
              "    </tr>\n",
              "    <tr>\n",
              "      <th>...</th>\n",
              "      <td>...</td>\n",
              "      <td>...</td>\n",
              "      <td>...</td>\n",
              "      <td>...</td>\n",
              "      <td>...</td>\n",
              "      <td>...</td>\n",
              "      <td>...</td>\n",
              "      <td>...</td>\n",
              "      <td>...</td>\n",
              "      <td>...</td>\n",
              "      <td>...</td>\n",
              "      <td>...</td>\n",
              "      <td>...</td>\n",
              "      <td>...</td>\n",
              "      <td>...</td>\n",
              "      <td>...</td>\n",
              "      <td>...</td>\n",
              "      <td>...</td>\n",
              "      <td>...</td>\n",
              "      <td>...</td>\n",
              "      <td>...</td>\n",
              "      <td>...</td>\n",
              "      <td>...</td>\n",
              "      <td>...</td>\n",
              "      <td>...</td>\n",
              "      <td>...</td>\n",
              "      <td>...</td>\n",
              "      <td>...</td>\n",
              "      <td>...</td>\n",
              "      <td>...</td>\n",
              "      <td>...</td>\n",
              "      <td>...</td>\n",
              "      <td>...</td>\n",
              "      <td>...</td>\n",
              "      <td>...</td>\n",
              "      <td>...</td>\n",
              "      <td>...</td>\n",
              "      <td>...</td>\n",
              "      <td>...</td>\n",
              "    </tr>\n",
              "    <tr>\n",
              "      <th>937275</th>\n",
              "      <td>NaN</td>\n",
              "      <td>NaN</td>\n",
              "      <td>NaN</td>\n",
              "      <td>NaN</td>\n",
              "      <td>NaN</td>\n",
              "      <td>NaN</td>\n",
              "      <td>NaN</td>\n",
              "      <td>NaN</td>\n",
              "      <td>NaN</td>\n",
              "      <td>NaN</td>\n",
              "      <td>NaN</td>\n",
              "      <td>NaN</td>\n",
              "      <td>NaN</td>\n",
              "      <td>NaN</td>\n",
              "      <td>NaN</td>\n",
              "      <td>NaN</td>\n",
              "      <td>NaN</td>\n",
              "      <td>NaN</td>\n",
              "      <td>NaN</td>\n",
              "      <td>NaN</td>\n",
              "      <td>NaN</td>\n",
              "      <td>NaN</td>\n",
              "      <td>NaN</td>\n",
              "      <td>NaN</td>\n",
              "      <td>NaN</td>\n",
              "      <td>NaN</td>\n",
              "      <td>NaN</td>\n",
              "      <td>NaN</td>\n",
              "      <td>NaN</td>\n",
              "      <td>437233</td>\n",
              "      <td>1</td>\n",
              "      <td>626</td>\n",
              "      <td>1</td>\n",
              "      <td>201650000043769</td>\n",
              "      <td>R</td>\n",
              "      <td>I</td>\n",
              "      <td>V</td>\n",
              "      <td>2016-05-31</td>\n",
              "      <td>531.0</td>\n",
              "    </tr>\n",
              "    <tr>\n",
              "      <th>937276</th>\n",
              "      <td>NaN</td>\n",
              "      <td>NaN</td>\n",
              "      <td>NaN</td>\n",
              "      <td>NaN</td>\n",
              "      <td>NaN</td>\n",
              "      <td>NaN</td>\n",
              "      <td>NaN</td>\n",
              "      <td>NaN</td>\n",
              "      <td>NaN</td>\n",
              "      <td>NaN</td>\n",
              "      <td>NaN</td>\n",
              "      <td>NaN</td>\n",
              "      <td>NaN</td>\n",
              "      <td>NaN</td>\n",
              "      <td>NaN</td>\n",
              "      <td>NaN</td>\n",
              "      <td>NaN</td>\n",
              "      <td>NaN</td>\n",
              "      <td>NaN</td>\n",
              "      <td>NaN</td>\n",
              "      <td>NaN</td>\n",
              "      <td>NaN</td>\n",
              "      <td>NaN</td>\n",
              "      <td>NaN</td>\n",
              "      <td>NaN</td>\n",
              "      <td>NaN</td>\n",
              "      <td>NaN</td>\n",
              "      <td>NaN</td>\n",
              "      <td>NaN</td>\n",
              "      <td>437234</td>\n",
              "      <td>1</td>\n",
              "      <td>585</td>\n",
              "      <td>1</td>\n",
              "      <td>201650000043774</td>\n",
              "      <td>R</td>\n",
              "      <td>I</td>\n",
              "      <td>V</td>\n",
              "      <td>2016-05-31</td>\n",
              "      <td>531.0</td>\n",
              "    </tr>\n",
              "    <tr>\n",
              "      <th>937277</th>\n",
              "      <td>NaN</td>\n",
              "      <td>NaN</td>\n",
              "      <td>NaN</td>\n",
              "      <td>NaN</td>\n",
              "      <td>NaN</td>\n",
              "      <td>NaN</td>\n",
              "      <td>NaN</td>\n",
              "      <td>NaN</td>\n",
              "      <td>NaN</td>\n",
              "      <td>NaN</td>\n",
              "      <td>NaN</td>\n",
              "      <td>NaN</td>\n",
              "      <td>NaN</td>\n",
              "      <td>NaN</td>\n",
              "      <td>NaN</td>\n",
              "      <td>NaN</td>\n",
              "      <td>NaN</td>\n",
              "      <td>NaN</td>\n",
              "      <td>NaN</td>\n",
              "      <td>NaN</td>\n",
              "      <td>NaN</td>\n",
              "      <td>NaN</td>\n",
              "      <td>NaN</td>\n",
              "      <td>NaN</td>\n",
              "      <td>NaN</td>\n",
              "      <td>NaN</td>\n",
              "      <td>NaN</td>\n",
              "      <td>NaN</td>\n",
              "      <td>NaN</td>\n",
              "      <td>437235</td>\n",
              "      <td>1</td>\n",
              "      <td>576</td>\n",
              "      <td>1</td>\n",
              "      <td>201650000043782</td>\n",
              "      <td>R</td>\n",
              "      <td>I</td>\n",
              "      <td>V</td>\n",
              "      <td>2016-05-31</td>\n",
              "      <td>531.0</td>\n",
              "    </tr>\n",
              "    <tr>\n",
              "      <th>937278</th>\n",
              "      <td>NaN</td>\n",
              "      <td>NaN</td>\n",
              "      <td>NaN</td>\n",
              "      <td>NaN</td>\n",
              "      <td>NaN</td>\n",
              "      <td>NaN</td>\n",
              "      <td>NaN</td>\n",
              "      <td>NaN</td>\n",
              "      <td>NaN</td>\n",
              "      <td>NaN</td>\n",
              "      <td>NaN</td>\n",
              "      <td>NaN</td>\n",
              "      <td>NaN</td>\n",
              "      <td>NaN</td>\n",
              "      <td>NaN</td>\n",
              "      <td>NaN</td>\n",
              "      <td>NaN</td>\n",
              "      <td>NaN</td>\n",
              "      <td>NaN</td>\n",
              "      <td>NaN</td>\n",
              "      <td>NaN</td>\n",
              "      <td>NaN</td>\n",
              "      <td>NaN</td>\n",
              "      <td>NaN</td>\n",
              "      <td>NaN</td>\n",
              "      <td>NaN</td>\n",
              "      <td>NaN</td>\n",
              "      <td>NaN</td>\n",
              "      <td>NaN</td>\n",
              "      <td>437236</td>\n",
              "      <td>1</td>\n",
              "      <td>768</td>\n",
              "      <td>1</td>\n",
              "      <td>201650000043794</td>\n",
              "      <td>R</td>\n",
              "      <td>I</td>\n",
              "      <td>R</td>\n",
              "      <td>2016-05-31</td>\n",
              "      <td>531.0</td>\n",
              "    </tr>\n",
              "    <tr>\n",
              "      <th>937279</th>\n",
              "      <td>NaN</td>\n",
              "      <td>NaN</td>\n",
              "      <td>NaN</td>\n",
              "      <td>NaN</td>\n",
              "      <td>NaN</td>\n",
              "      <td>NaN</td>\n",
              "      <td>NaN</td>\n",
              "      <td>NaN</td>\n",
              "      <td>NaN</td>\n",
              "      <td>NaN</td>\n",
              "      <td>NaN</td>\n",
              "      <td>NaN</td>\n",
              "      <td>NaN</td>\n",
              "      <td>NaN</td>\n",
              "      <td>NaN</td>\n",
              "      <td>NaN</td>\n",
              "      <td>NaN</td>\n",
              "      <td>NaN</td>\n",
              "      <td>NaN</td>\n",
              "      <td>NaN</td>\n",
              "      <td>NaN</td>\n",
              "      <td>NaN</td>\n",
              "      <td>NaN</td>\n",
              "      <td>NaN</td>\n",
              "      <td>NaN</td>\n",
              "      <td>NaN</td>\n",
              "      <td>NaN</td>\n",
              "      <td>NaN</td>\n",
              "      <td>NaN</td>\n",
              "      <td>437237</td>\n",
              "      <td>1</td>\n",
              "      <td>689</td>\n",
              "      <td>1</td>\n",
              "      <td>201650000043795</td>\n",
              "      <td>R</td>\n",
              "      <td>I</td>\n",
              "      <td>V</td>\n",
              "      <td>2016-05-31</td>\n",
              "      <td>531.0</td>\n",
              "    </tr>\n",
              "  </tbody>\n",
              "</table>\n",
              "<p>937280 rows × 39 columns</p>\n",
              "</div>"
            ],
            "text/plain": [
              "        CodeBonusMalus_id  CodePolice_id  ...  dateEffetPolice  dateEcheancePolice\n",
              "0                117346.0       116167.0  ...       2015-10-13              1013.0\n",
              "1                117347.0       116168.0  ...       2015-10-13              1013.0\n",
              "2                117348.0       116169.0  ...       2015-10-13              1013.0\n",
              "3                117349.0       116170.0  ...       2015-10-13              1013.0\n",
              "4                117350.0       116171.0  ...       2015-10-13              1013.0\n",
              "...                   ...            ...  ...              ...                 ...\n",
              "937275                NaN            NaN  ...       2016-05-31               531.0\n",
              "937276                NaN            NaN  ...       2016-05-31               531.0\n",
              "937277                NaN            NaN  ...       2016-05-31               531.0\n",
              "937278                NaN            NaN  ...       2016-05-31               531.0\n",
              "937279                NaN            NaN  ...       2016-05-31               531.0\n",
              "\n",
              "[937280 rows x 39 columns]"
            ]
          },
          "metadata": {
            "tags": []
          },
          "execution_count": 37
        }
      ]
    },
    {
      "cell_type": "code",
      "metadata": {
        "id": "LW57w-Fn9arv"
      },
      "source": [
        "df = df_concat.dropna()"
      ],
      "execution_count": null,
      "outputs": []
    },
    {
      "cell_type": "code",
      "metadata": {
        "colab": {
          "base_uri": "https://localhost:8080/"
        },
        "id": "fXw4jzG7xL0Q",
        "outputId": "bb75c525-f110-46c0-ad58-1c966fe02e16"
      },
      "source": [
        "df_concat.columns"
      ],
      "execution_count": null,
      "outputs": [
        {
          "output_type": "execute_result",
          "data": {
            "text/plain": [
              "Index(['CodeBonusMalus_id', 'CodePolice_id', 'CodeVehicule_id',\n",
              "       'CodeAssure_id', 'CodeSouscripteur_id', 'codeUsage', 'ETAT_VEHICULE',\n",
              "       'DATE_AFFECTATION', 'classeBonusMalus', 'classeBonusMalusCompagnie',\n",
              "       'coefBonusMalus', 'dateDeSurvenanceDuSinistre',\n",
              "       'heureSurvanceDusinistre', 'dateOuvertureDuSinistre', 'lieuDuSinistre',\n",
              "       'pourcentadeDeResponsabilite', 'numeroDePoliceCompagnieAdverse',\n",
              "       'codeCompagnieAdverse', 'porcentageCompagnieAdverse',\n",
              "       'numeroImmatriculationVehiculeAdverse',\n",
              "       'typeImmatriculationVehiculeAdverse', 'mouvementDusinistre',\n",
              "       'natureDuSinistre', 'Calculer_Sinistre', 'lieuDuSinistreajuste',\n",
              "       'heureSurvanceDusinistreajuste', 'fraud', 'mois', 'saison',\n",
              "       'CodePolice_id', 'codeCompagnie', 'codeAgence', 'typeIntermediaire',\n",
              "       'numPolice', 'naturePolice', 'typePolice', 'Etat_Police',\n",
              "       'dateEffetPolice', 'dateEcheancePolice'],\n",
              "      dtype='object')"
            ]
          },
          "metadata": {
            "tags": []
          },
          "execution_count": 100
        }
      ]
    },
    {
      "cell_type": "code",
      "metadata": {
        "colab": {
          "base_uri": "https://localhost:8080/"
        },
        "id": "hNkx-Mhw9dMi",
        "outputId": "38722c41-5023-4656-8f16-243557a171a6"
      },
      "source": [
        "df[\"natureDuSinistre\"].value_counts()"
      ],
      "execution_count": null,
      "outputs": [
        {
          "output_type": "execute_result",
          "data": {
            "text/plain": [
              "M    123549\n",
              "C      1352\n",
              "Name: natureDuSinistre, dtype: int64"
            ]
          },
          "metadata": {
            "tags": []
          },
          "execution_count": 37
        }
      ]
    },
    {
      "cell_type": "code",
      "metadata": {
        "colab": {
          "base_uri": "https://localhost:8080/"
        },
        "id": "lyFSSqs79iZ8",
        "outputId": "33728ad4-9d54-494e-e32d-5012f86d399b"
      },
      "source": [
        "conditionlist1 = [\n",
        "    (df[\"natureDuSinistre\"]==\"M\"),\n",
        "    (df[\"natureDuSinistre\"]==\"C\"),\n",
        "     \n",
        "    ]\n",
        "choicelist1 = [1, 0]\n",
        "df['natureDuSinistre'] = np.select(conditionlist1, choicelist1, default='Not Specified')"
      ],
      "execution_count": null,
      "outputs": [
        {
          "output_type": "stream",
          "text": [
            "/usr/local/lib/python3.7/dist-packages/ipykernel_launcher.py:7: SettingWithCopyWarning: \n",
            "A value is trying to be set on a copy of a slice from a DataFrame.\n",
            "Try using .loc[row_indexer,col_indexer] = value instead\n",
            "\n",
            "See the caveats in the documentation: https://pandas.pydata.org/pandas-docs/stable/user_guide/indexing.html#returning-a-view-versus-a-copy\n",
            "  import sys\n"
          ],
          "name": "stderr"
        }
      ]
    },
    {
      "cell_type": "code",
      "metadata": {
        "colab": {
          "base_uri": "https://localhost:8080/"
        },
        "id": "TaM0eRUb9lF2",
        "outputId": "6a7bbef5-b52f-4567-e967-224698235503"
      },
      "source": [
        "df[\"natureDuSinistre\"].value_counts()"
      ],
      "execution_count": null,
      "outputs": [
        {
          "output_type": "execute_result",
          "data": {
            "text/plain": [
              "1    123549\n",
              "0      1352\n",
              "Name: natureDuSinistre, dtype: int64"
            ]
          },
          "metadata": {
            "tags": []
          },
          "execution_count": 39
        }
      ]
    },
    {
      "cell_type": "code",
      "metadata": {
        "colab": {
          "base_uri": "https://localhost:8080/"
        },
        "id": "DiddxCeY9nho",
        "outputId": "0960d95c-fe3e-4695-d1b8-6f8c4fe53d8e"
      },
      "source": [
        "df[\"naturePolice\"].value_counts()"
      ],
      "execution_count": null,
      "outputs": [
        {
          "output_type": "execute_result",
          "data": {
            "text/plain": [
              "R    124901\n",
              "Name: naturePolice, dtype: int64"
            ]
          },
          "metadata": {
            "tags": []
          },
          "execution_count": 40
        }
      ]
    },
    {
      "cell_type": "code",
      "metadata": {
        "colab": {
          "base_uri": "https://localhost:8080/"
        },
        "id": "ykQ6rWxh9qlS",
        "outputId": "af6e98ae-0b89-47ae-c0b9-9a1a037df0d5"
      },
      "source": [
        "df[\"typePolice\"].value_counts()"
      ],
      "execution_count": null,
      "outputs": [
        {
          "output_type": "execute_result",
          "data": {
            "text/plain": [
              "I    124745\n",
              "F       156\n",
              "Name: typePolice, dtype: int64"
            ]
          },
          "metadata": {
            "tags": []
          },
          "execution_count": 41
        }
      ]
    },
    {
      "cell_type": "code",
      "metadata": {
        "colab": {
          "base_uri": "https://localhost:8080/"
        },
        "id": "K7Mc7q4F9vdJ",
        "outputId": "7fd240ec-60ce-41a0-a70c-b7e549497922"
      },
      "source": [
        "df[\"Etat_Police\"].value_counts()"
      ],
      "execution_count": null,
      "outputs": [
        {
          "output_type": "execute_result",
          "data": {
            "text/plain": [
              "V    98295\n",
              "R    26138\n",
              "S      468\n",
              "Name: Etat_Police, dtype: int64"
            ]
          },
          "metadata": {
            "tags": []
          },
          "execution_count": 42
        }
      ]
    },
    {
      "cell_type": "code",
      "metadata": {
        "colab": {
          "base_uri": "https://localhost:8080/"
        },
        "id": "KA7maq-e9yVT",
        "outputId": "9408fcc5-ea0d-49a9-bfa2-7d09e2e8314a"
      },
      "source": [
        "conditionlist2 = [\n",
        "    (df[\"naturePolice\"]==\"R\"),\n",
        "     \n",
        "    ]\n",
        "choicelist2 = [0]\n",
        "df['naturePolice'] = np.select(conditionlist2, choicelist2, default='Not Specified')"
      ],
      "execution_count": null,
      "outputs": [
        {
          "output_type": "stream",
          "text": [
            "/usr/local/lib/python3.7/dist-packages/ipykernel_launcher.py:6: SettingWithCopyWarning: \n",
            "A value is trying to be set on a copy of a slice from a DataFrame.\n",
            "Try using .loc[row_indexer,col_indexer] = value instead\n",
            "\n",
            "See the caveats in the documentation: https://pandas.pydata.org/pandas-docs/stable/user_guide/indexing.html#returning-a-view-versus-a-copy\n",
            "  \n"
          ],
          "name": "stderr"
        }
      ]
    },
    {
      "cell_type": "code",
      "metadata": {
        "colab": {
          "base_uri": "https://localhost:8080/"
        },
        "id": "Hu2cLc-F9zR2",
        "outputId": "c24bf173-1fba-402f-b9ec-d4597cdc201d"
      },
      "source": [
        "conditionlist3 = [\n",
        "    (df[\"typePolice\"]==\"F\"),\n",
        "    (df[\"typePolice\"]==\"I\"),\n",
        "     \n",
        "    ]\n",
        "choicelist3 = [1, 0]\n",
        "df['typePolice'] = np.select(conditionlist3, choicelist3, default='Not Specified')"
      ],
      "execution_count": null,
      "outputs": [
        {
          "output_type": "stream",
          "text": [
            "/usr/local/lib/python3.7/dist-packages/ipykernel_launcher.py:7: SettingWithCopyWarning: \n",
            "A value is trying to be set on a copy of a slice from a DataFrame.\n",
            "Try using .loc[row_indexer,col_indexer] = value instead\n",
            "\n",
            "See the caveats in the documentation: https://pandas.pydata.org/pandas-docs/stable/user_guide/indexing.html#returning-a-view-versus-a-copy\n",
            "  import sys\n"
          ],
          "name": "stderr"
        }
      ]
    },
    {
      "cell_type": "code",
      "metadata": {
        "colab": {
          "base_uri": "https://localhost:8080/"
        },
        "id": "ewJHX2BT92No",
        "outputId": "6e499246-55e5-42c4-f183-0477d91f4671"
      },
      "source": [
        "conditionlist4 = [\n",
        "    (df[\"Etat_Police\"]==\"V\"),\n",
        "    (df[\"Etat_Police\"]==\"R\"),\n",
        "    (df[\"Etat_Police\"]==\"S\"),\n",
        "     \n",
        "    ]\n",
        "choicelist4 = [1, 0, 2]\n",
        "df['Etat_Police'] = np.select(conditionlist4, choicelist4, default='Not Specified')"
      ],
      "execution_count": null,
      "outputs": [
        {
          "output_type": "stream",
          "text": [
            "/usr/local/lib/python3.7/dist-packages/ipykernel_launcher.py:8: SettingWithCopyWarning: \n",
            "A value is trying to be set on a copy of a slice from a DataFrame.\n",
            "Try using .loc[row_indexer,col_indexer] = value instead\n",
            "\n",
            "See the caveats in the documentation: https://pandas.pydata.org/pandas-docs/stable/user_guide/indexing.html#returning-a-view-versus-a-copy\n",
            "  \n"
          ],
          "name": "stderr"
        }
      ]
    },
    {
      "cell_type": "code",
      "metadata": {
        "colab": {
          "base_uri": "https://localhost:8080/"
        },
        "id": "Tv5KSLp094zr",
        "outputId": "6d60a7f5-fbb4-4880-e800-53df4795aee9"
      },
      "source": [
        "conditionlist5 = [\n",
        "    (df[\"classeBonusMalus\"]>8),\n",
        "    (df[\"classeBonusMalus\"]<=8),\n",
        "     \n",
        "    ]\n",
        "choicelist5 = [1, 0]\n",
        "df['MauvaiseClasseBM'] = np.select(conditionlist5, choicelist5, default='Not Specified')"
      ],
      "execution_count": null,
      "outputs": [
        {
          "output_type": "stream",
          "text": [
            "/usr/local/lib/python3.7/dist-packages/ipykernel_launcher.py:7: SettingWithCopyWarning: \n",
            "A value is trying to be set on a copy of a slice from a DataFrame.\n",
            "Try using .loc[row_indexer,col_indexer] = value instead\n",
            "\n",
            "See the caveats in the documentation: https://pandas.pydata.org/pandas-docs/stable/user_guide/indexing.html#returning-a-view-versus-a-copy\n",
            "  import sys\n"
          ],
          "name": "stderr"
        }
      ]
    },
    {
      "cell_type": "code",
      "metadata": {
        "colab": {
          "base_uri": "https://localhost:8080/"
        },
        "id": "13jQOBVl-MZS",
        "outputId": "c316f34a-5588-4442-f3b5-46c60251853b"
      },
      "source": [
        "conditionlist6 = [\n",
        "\n",
        "(df[\"classeBonusMalus\"]==1 ) & (df[\"coefBonusMalus\"]!=70 ),\n",
        "(df[\"classeBonusMalus\"]==2 ) & (df[\"coefBonusMalus\"]!=80 ),\n",
        "(df[\"classeBonusMalus\"]==3 ) & (df[\"coefBonusMalus\"]!=90 ),\n",
        "(df[\"classeBonusMalus\"]==4 ) & (df[\"coefBonusMalus\"]!=100),\n",
        "(df[\"classeBonusMalus\"]==5 ) & (df[\"coefBonusMalus\"]!=120 ),\n",
        "(df[\"classeBonusMalus\"]==6 ) & (df[\"coefBonusMalus\"]!=140 ),\n",
        "(df[\"classeBonusMalus\"]==7 ) & (df[\"coefBonusMalus\"]!=160 ),\n",
        "(df[\"classeBonusMalus\"]==8 ) & (df[\"coefBonusMalus\"]!=200 ),\n",
        "(df[\"classeBonusMalus\"]==9 ) & (df[\"coefBonusMalus\"]!=250 ),\n",
        "(df[\"classeBonusMalus\"]==10 ) & (df[\"coefBonusMalus\"]!=300),\n",
        "(df[\"classeBonusMalus\"]==11 ) & (df[\"coefBonusMalus\"]!=350),\n",
        "(df[\"classeBonusMalus\"]==1 ) & (df[\"coefBonusMalus\"]==70 ),\n",
        "(df[\"classeBonusMalus\"]==2 ) & (df[\"coefBonusMalus\"]==80 ),\n",
        "(df[\"classeBonusMalus\"]==3 ) & (df[\"coefBonusMalus\"]==90 ),\n",
        "(df[\"classeBonusMalus\"]==4 ) & (df[\"coefBonusMalus\"]==100),\n",
        "(df[\"classeBonusMalus\"]==5 ) & (df[\"coefBonusMalus\"]==120 ),\n",
        "(df[\"classeBonusMalus\"]==6 ) & (df[\"coefBonusMalus\"]==140 ),\n",
        "(df[\"classeBonusMalus\"]==7 ) & (df[\"coefBonusMalus\"]==160 ),\n",
        "(df[\"classeBonusMalus\"]==8 ) & (df[\"coefBonusMalus\"]==200 ),\n",
        "(df[\"classeBonusMalus\"]==9 ) & (df[\"coefBonusMalus\"]==250 ),\n",
        "(df[\"classeBonusMalus\"]==10 ) & (df[\"coefBonusMalus\"]==300),\n",
        "(df[\"classeBonusMalus\"]==11 ) & (df[\"coefBonusMalus\"]==350),\n",
        "     \n",
        "    ]\n",
        "choicelist6 = [1,1,1,1,1,1,1,1,1,1,1,0,0,0,0,0,0,0,0,0,0,0]\n",
        "df['FraudeurClasseBM'] = np.select(conditionlist6, choicelist6, default='Not Specified')"
      ],
      "execution_count": null,
      "outputs": [
        {
          "output_type": "stream",
          "text": [
            "/usr/local/lib/python3.7/dist-packages/ipykernel_launcher.py:28: SettingWithCopyWarning: \n",
            "A value is trying to be set on a copy of a slice from a DataFrame.\n",
            "Try using .loc[row_indexer,col_indexer] = value instead\n",
            "\n",
            "See the caveats in the documentation: https://pandas.pydata.org/pandas-docs/stable/user_guide/indexing.html#returning-a-view-versus-a-copy\n"
          ],
          "name": "stderr"
        }
      ]
    },
    {
      "cell_type": "code",
      "metadata": {
        "colab": {
          "base_uri": "https://localhost:8080/"
        },
        "id": "qv_MdoGV-fiW",
        "outputId": "8633529e-7977-4d5e-b7e4-395f07b7b950"
      },
      "source": [
        "conditionlist7 = [\n",
        "    (df[\"MauvaiseClasseBM\"]=='1') & (df[\"FraudeurClasseBM\"]=='1')| (df[\"MauvaiseClasseBM\"]=='0') & (df[\"FraudeurClasseBM\"]=='1'),\n",
        "    (df[\"MauvaiseClasseBM\"]=='0') & (df[\"FraudeurClasseBM\"]=='0')|(df[\"MauvaiseClasseBM\"]=='1') & (df[\"FraudeurClasseBM\"]=='0'),\n",
        "     \n",
        "    ]\n",
        "choicelist7 = ['1', '0']\n",
        "df['Fraude1'] = np.select(conditionlist7, choicelist7, default='Not Specified')"
      ],
      "execution_count": null,
      "outputs": [
        {
          "output_type": "stream",
          "text": [
            "/usr/local/lib/python3.7/dist-packages/ipykernel_launcher.py:7: SettingWithCopyWarning: \n",
            "A value is trying to be set on a copy of a slice from a DataFrame.\n",
            "Try using .loc[row_indexer,col_indexer] = value instead\n",
            "\n",
            "See the caveats in the documentation: https://pandas.pydata.org/pandas-docs/stable/user_guide/indexing.html#returning-a-view-versus-a-copy\n",
            "  import sys\n"
          ],
          "name": "stderr"
        }
      ]
    },
    {
      "cell_type": "code",
      "metadata": {
        "colab": {
          "base_uri": "https://localhost:8080/"
        },
        "id": "xiAgF5q5AW5t",
        "outputId": "f68181fb-d5b7-4eb3-9d75-77dd9dc4e3d8"
      },
      "source": [
        "conditionlist8 = [\n",
        "    (df[\"pourcentadeDeResponsabilite\"]>100),\n",
        "    (df[\"pourcentadeDeResponsabilite\"]<=100),\n",
        "     \n",
        "    ]\n",
        "choicelist8 = [1, 0]\n",
        "df['Fraude2'] = np.select(conditionlist8, choicelist8, default='Not Specified')"
      ],
      "execution_count": null,
      "outputs": [
        {
          "output_type": "stream",
          "text": [
            "/usr/local/lib/python3.7/dist-packages/ipykernel_launcher.py:7: SettingWithCopyWarning: \n",
            "A value is trying to be set on a copy of a slice from a DataFrame.\n",
            "Try using .loc[row_indexer,col_indexer] = value instead\n",
            "\n",
            "See the caveats in the documentation: https://pandas.pydata.org/pandas-docs/stable/user_guide/indexing.html#returning-a-view-versus-a-copy\n",
            "  import sys\n"
          ],
          "name": "stderr"
        }
      ]
    },
    {
      "cell_type": "code",
      "metadata": {
        "colab": {
          "base_uri": "https://localhost:8080/"
        },
        "id": "4HMjL5PcA-Kf",
        "outputId": "93f319d6-f5eb-4190-f4a6-77a2dcc75db7"
      },
      "source": [
        "conditionlist9 = [\n",
        "    (df[\"Fraude1\"]=='1') | (df[\"Fraude2\"]=='1'),\n",
        "    (df[\"Fraude1\"]=='0') & (df[\"Fraude2\"]=='0'),\n",
        "     \n",
        "    ]\n",
        "choicelist9 = ['1', '0']\n",
        "df['PotentielFraudeur'] = np.select(conditionlist9, choicelist9, default='Not Specified')"
      ],
      "execution_count": null,
      "outputs": [
        {
          "output_type": "stream",
          "text": [
            "/usr/local/lib/python3.7/dist-packages/ipykernel_launcher.py:7: SettingWithCopyWarning: \n",
            "A value is trying to be set on a copy of a slice from a DataFrame.\n",
            "Try using .loc[row_indexer,col_indexer] = value instead\n",
            "\n",
            "See the caveats in the documentation: https://pandas.pydata.org/pandas-docs/stable/user_guide/indexing.html#returning-a-view-versus-a-copy\n",
            "  import sys\n"
          ],
          "name": "stderr"
        }
      ]
    },
    {
      "cell_type": "code",
      "metadata": {
        "colab": {
          "base_uri": "https://localhost:8080/"
        },
        "id": "52YPnyNF97az",
        "outputId": "fe74ecbf-7b04-4743-d391-ac82a7b44902"
      },
      "source": [
        "print(df)"
      ],
      "execution_count": null,
      "outputs": [
        {
          "output_type": "stream",
          "text": [
            "        CodeBonusMalus_id  CodePolice_id  ...  Fraude2  PotentielFraudeur\n",
            "11707            129053.0       127874.0  ...        0                  0\n",
            "11712            129058.0       127879.0  ...        0                  0\n",
            "11727            129073.0       127894.0  ...        0                  1\n",
            "11735            129081.0       127902.0  ...        0                  0\n",
            "11743            129089.0       127910.0  ...        0                  0\n",
            "...                   ...            ...  ...      ...                ...\n",
            "543873          1431974.0      1425852.0  ...        0                  1\n",
            "543875          1431976.0      1425852.0  ...        0                  1\n",
            "545157          1433258.0      1425909.0  ...        0                  1\n",
            "545158          1433259.0      1425909.0  ...        0                  1\n",
            "545159          1433260.0      1425909.0  ...        0                  1\n",
            "\n",
            "[124901 rows x 44 columns]\n"
          ],
          "name": "stdout"
        }
      ]
    },
    {
      "cell_type": "code",
      "metadata": {
        "colab": {
          "base_uri": "https://localhost:8080/"
        },
        "id": "dlEcf5OSAAqh",
        "outputId": "c3789168-fd61-4a7f-a8d0-9dc5fdc630b1"
      },
      "source": [
        "df.columns"
      ],
      "execution_count": null,
      "outputs": [
        {
          "output_type": "execute_result",
          "data": {
            "text/plain": [
              "Index(['CodeBonusMalus_id', 'CodePolice_id', 'CodeVehicule_id',\n",
              "       'CodeAssure_id', 'CodeSouscripteur_id', 'codeUsage', 'ETAT_VEHICULE',\n",
              "       'DATE_AFFECTATION', 'classeBonusMalus', 'classeBonusMalusCompagnie',\n",
              "       'coefBonusMalus', 'dateDeSurvenanceDuSinistre',\n",
              "       'heureSurvanceDusinistre', 'dateOuvertureDuSinistre', 'lieuDuSinistre',\n",
              "       'pourcentadeDeResponsabilite', 'numeroDePoliceCompagnieAdverse',\n",
              "       'codeCompagnieAdverse', 'porcentageCompagnieAdverse',\n",
              "       'numeroImmatriculationVehiculeAdverse',\n",
              "       'typeImmatriculationVehiculeAdverse', 'mouvementDusinistre',\n",
              "       'natureDuSinistre', 'Calculer_Sinistre', 'lieuDuSinistreajuste',\n",
              "       'heureSurvanceDusinistreajuste', 'fraud', 'mois', 'saison',\n",
              "       'CodePolice_id', 'codeCompagnie', 'codeAgence', 'typeIntermediaire',\n",
              "       'numPolice', 'naturePolice', 'typePolice', 'Etat_Police',\n",
              "       'dateEffetPolice', 'dateEcheancePolice', 'MauvaiseClasseBM',\n",
              "       'FraudeurClasseBM', 'Fraude1', 'Fraude2', 'PotentielFraudeur'],\n",
              "      dtype='object')"
            ]
          },
          "metadata": {
            "tags": []
          },
          "execution_count": 55
        }
      ]
    },
    {
      "cell_type": "code",
      "metadata": {
        "id": "NDeLT4sd0uY0"
      },
      "source": [
        "df.to_csv(r\"/gdrive/MyDrive/data_Model.csv\",index=False)"
      ],
      "execution_count": null,
      "outputs": []
    },
    {
      "cell_type": "markdown",
      "metadata": {
        "id": "-zkmGhnOM5R0"
      },
      "source": [
        "# **III-Modélisation:**"
      ]
    },
    {
      "cell_type": "code",
      "metadata": {
        "id": "FGCP0giLLKbv"
      },
      "source": [
        "DataModel = df[['pourcentadeDeResponsabilite','natureDuSinistre','heureSurvanceDusinistreajuste','typePolice','codeUsage','Etat_Police','MauvaiseClasseBM','coefBonusMalus','FraudeurClasseBM','PotentielFraudeur','classeBonusMalus']]\n"
      ],
      "execution_count": 256,
      "outputs": []
    },
    {
      "cell_type": "code",
      "metadata": {
        "colab": {
          "base_uri": "https://localhost:8080/"
        },
        "id": "bPNdvL2NC5VU",
        "outputId": "3c74ce9d-f26b-4050-b086-0e081b2848c6"
      },
      "source": [
        "DataModel.columns"
      ],
      "execution_count": 257,
      "outputs": [
        {
          "output_type": "execute_result",
          "data": {
            "text/plain": [
              "Index(['pourcentadeDeResponsabilite', 'natureDuSinistre',\n",
              "       'heureSurvanceDusinistreajuste', 'typePolice', 'codeUsage',\n",
              "       'Etat_Police', 'MauvaiseClasseBM', 'coefBonusMalus', 'FraudeurClasseBM',\n",
              "       'PotentielFraudeur', 'classeBonusMalus'],\n",
              "      dtype='object')"
            ]
          },
          "metadata": {
            "tags": []
          },
          "execution_count": 257
        }
      ]
    },
    {
      "cell_type": "code",
      "metadata": {
        "id": "4btjV-ieDCRv"
      },
      "source": [
        "#Partition de la dataframe en une variable à expliquer et des variable explicatives\n",
        "X= DataModel.iloc[:,0:-1]\n",
        "Y= DataModel.iloc[:,-1]"
      ],
      "execution_count": 258,
      "outputs": []
    },
    {
      "cell_type": "code",
      "metadata": {
        "colab": {
          "base_uri": "https://localhost:8080/",
          "height": 399
        },
        "id": "URR7__nYDIIq",
        "outputId": "cba3b267-056e-49df-de75-a91ed016025b"
      },
      "source": [
        "X"
      ],
      "execution_count": 259,
      "outputs": [
        {
          "output_type": "execute_result",
          "data": {
            "text/html": [
              "<div>\n",
              "<style scoped>\n",
              "    .dataframe tbody tr th:only-of-type {\n",
              "        vertical-align: middle;\n",
              "    }\n",
              "\n",
              "    .dataframe tbody tr th {\n",
              "        vertical-align: top;\n",
              "    }\n",
              "\n",
              "    .dataframe thead th {\n",
              "        text-align: right;\n",
              "    }\n",
              "</style>\n",
              "<table border=\"1\" class=\"dataframe\">\n",
              "  <thead>\n",
              "    <tr style=\"text-align: right;\">\n",
              "      <th></th>\n",
              "      <th>pourcentadeDeResponsabilite</th>\n",
              "      <th>natureDuSinistre</th>\n",
              "      <th>heureSurvanceDusinistreajuste</th>\n",
              "      <th>typePolice</th>\n",
              "      <th>codeUsage</th>\n",
              "      <th>Etat_Police</th>\n",
              "      <th>MauvaiseClasseBM</th>\n",
              "      <th>coefBonusMalus</th>\n",
              "      <th>FraudeurClasseBM</th>\n",
              "      <th>PotentielFraudeur</th>\n",
              "    </tr>\n",
              "  </thead>\n",
              "  <tbody>\n",
              "    <tr>\n",
              "      <th>11707</th>\n",
              "      <td>100.0</td>\n",
              "      <td>1</td>\n",
              "      <td>0.0</td>\n",
              "      <td>0</td>\n",
              "      <td>1.0</td>\n",
              "      <td>1</td>\n",
              "      <td>0</td>\n",
              "      <td>100.0</td>\n",
              "      <td>0</td>\n",
              "      <td>0</td>\n",
              "    </tr>\n",
              "    <tr>\n",
              "      <th>11712</th>\n",
              "      <td>0.0</td>\n",
              "      <td>1</td>\n",
              "      <td>10.0</td>\n",
              "      <td>0</td>\n",
              "      <td>1.0</td>\n",
              "      <td>1</td>\n",
              "      <td>0</td>\n",
              "      <td>90.0</td>\n",
              "      <td>0</td>\n",
              "      <td>0</td>\n",
              "    </tr>\n",
              "    <tr>\n",
              "      <th>11727</th>\n",
              "      <td>100.0</td>\n",
              "      <td>1</td>\n",
              "      <td>0.0</td>\n",
              "      <td>0</td>\n",
              "      <td>4.0</td>\n",
              "      <td>1</td>\n",
              "      <td>0</td>\n",
              "      <td>200.0</td>\n",
              "      <td>1</td>\n",
              "      <td>1</td>\n",
              "    </tr>\n",
              "    <tr>\n",
              "      <th>11735</th>\n",
              "      <td>0.0</td>\n",
              "      <td>1</td>\n",
              "      <td>16.0</td>\n",
              "      <td>0</td>\n",
              "      <td>1.0</td>\n",
              "      <td>1</td>\n",
              "      <td>0</td>\n",
              "      <td>90.0</td>\n",
              "      <td>0</td>\n",
              "      <td>0</td>\n",
              "    </tr>\n",
              "    <tr>\n",
              "      <th>11743</th>\n",
              "      <td>100.0</td>\n",
              "      <td>1</td>\n",
              "      <td>0.0</td>\n",
              "      <td>0</td>\n",
              "      <td>1.0</td>\n",
              "      <td>1</td>\n",
              "      <td>0</td>\n",
              "      <td>160.0</td>\n",
              "      <td>0</td>\n",
              "      <td>0</td>\n",
              "    </tr>\n",
              "    <tr>\n",
              "      <th>...</th>\n",
              "      <td>...</td>\n",
              "      <td>...</td>\n",
              "      <td>...</td>\n",
              "      <td>...</td>\n",
              "      <td>...</td>\n",
              "      <td>...</td>\n",
              "      <td>...</td>\n",
              "      <td>...</td>\n",
              "      <td>...</td>\n",
              "      <td>...</td>\n",
              "    </tr>\n",
              "    <tr>\n",
              "      <th>543873</th>\n",
              "      <td>100.0</td>\n",
              "      <td>1</td>\n",
              "      <td>0.0</td>\n",
              "      <td>0</td>\n",
              "      <td>16.0</td>\n",
              "      <td>1</td>\n",
              "      <td>0</td>\n",
              "      <td>100.0</td>\n",
              "      <td>1</td>\n",
              "      <td>1</td>\n",
              "    </tr>\n",
              "    <tr>\n",
              "      <th>543875</th>\n",
              "      <td>100.0</td>\n",
              "      <td>1</td>\n",
              "      <td>0.0</td>\n",
              "      <td>0</td>\n",
              "      <td>16.0</td>\n",
              "      <td>1</td>\n",
              "      <td>0</td>\n",
              "      <td>100.0</td>\n",
              "      <td>1</td>\n",
              "      <td>1</td>\n",
              "    </tr>\n",
              "    <tr>\n",
              "      <th>545157</th>\n",
              "      <td>100.0</td>\n",
              "      <td>1</td>\n",
              "      <td>0.0</td>\n",
              "      <td>0</td>\n",
              "      <td>9.0</td>\n",
              "      <td>1</td>\n",
              "      <td>0</td>\n",
              "      <td>80.0</td>\n",
              "      <td>1</td>\n",
              "      <td>1</td>\n",
              "    </tr>\n",
              "    <tr>\n",
              "      <th>545158</th>\n",
              "      <td>100.0</td>\n",
              "      <td>1</td>\n",
              "      <td>0.0</td>\n",
              "      <td>0</td>\n",
              "      <td>6.0</td>\n",
              "      <td>1</td>\n",
              "      <td>0</td>\n",
              "      <td>80.0</td>\n",
              "      <td>1</td>\n",
              "      <td>1</td>\n",
              "    </tr>\n",
              "    <tr>\n",
              "      <th>545159</th>\n",
              "      <td>100.0</td>\n",
              "      <td>1</td>\n",
              "      <td>0.0</td>\n",
              "      <td>0</td>\n",
              "      <td>5.0</td>\n",
              "      <td>1</td>\n",
              "      <td>0</td>\n",
              "      <td>80.0</td>\n",
              "      <td>1</td>\n",
              "      <td>1</td>\n",
              "    </tr>\n",
              "  </tbody>\n",
              "</table>\n",
              "<p>124901 rows × 10 columns</p>\n",
              "</div>"
            ],
            "text/plain": [
              "        pourcentadeDeResponsabilite  ... PotentielFraudeur\n",
              "11707                         100.0  ...                 0\n",
              "11712                           0.0  ...                 0\n",
              "11727                         100.0  ...                 1\n",
              "11735                           0.0  ...                 0\n",
              "11743                         100.0  ...                 0\n",
              "...                             ...  ...               ...\n",
              "543873                        100.0  ...                 1\n",
              "543875                        100.0  ...                 1\n",
              "545157                        100.0  ...                 1\n",
              "545158                        100.0  ...                 1\n",
              "545159                        100.0  ...                 1\n",
              "\n",
              "[124901 rows x 10 columns]"
            ]
          },
          "metadata": {
            "tags": []
          },
          "execution_count": 259
        }
      ]
    },
    {
      "cell_type": "code",
      "metadata": {
        "colab": {
          "base_uri": "https://localhost:8080/"
        },
        "id": "yNWUICnq4iX4",
        "outputId": "2c898e44-6106-42af-e396-0e15ffbf0c82"
      },
      "source": [
        "Y"
      ],
      "execution_count": 241,
      "outputs": [
        {
          "output_type": "execute_result",
          "data": {
            "text/plain": [
              "11707     4.0\n",
              "11712     3.0\n",
              "11727     7.0\n",
              "11735     3.0\n",
              "11743     7.0\n",
              "         ... \n",
              "543873    3.0\n",
              "543875    3.0\n",
              "545157    1.0\n",
              "545158    1.0\n",
              "545159    1.0\n",
              "Name: classeBonusMalus, Length: 124901, dtype: float64"
            ]
          },
          "metadata": {
            "tags": []
          },
          "execution_count": 241
        }
      ]
    },
    {
      "cell_type": "code",
      "metadata": {
        "colab": {
          "base_uri": "https://localhost:8080/"
        },
        "id": "MEPL-9L0DNtu",
        "outputId": "6a4613d4-e862-4b87-d3a5-379acb466952"
      },
      "source": [
        "Y.value_counts()"
      ],
      "execution_count": 242,
      "outputs": [
        {
          "output_type": "execute_result",
          "data": {
            "text/plain": [
              "1.0     27682\n",
              "3.0     25565\n",
              "4.0     24277\n",
              "2.0     15344\n",
              "8.0     12976\n",
              "5.0     10767\n",
              "6.0      6132\n",
              "7.0      1216\n",
              "9.0       776\n",
              "10.0      137\n",
              "11.0       29\n",
              "Name: classeBonusMalus, dtype: int64"
            ]
          },
          "metadata": {
            "tags": []
          },
          "execution_count": 242
        }
      ]
    },
    {
      "cell_type": "code",
      "metadata": {
        "id": "2kTbZRoADVjv"
      },
      "source": [
        "from sklearn.model_selection import train_test_split\n",
        "from sklearn.metrics import classification_report,confusion_matrix\n",
        "#Importaion du StandardScaler\n",
        "from sklearn.preprocessing import StandardScaler\n",
        "from sklearn import metrics"
      ],
      "execution_count": 243,
      "outputs": []
    },
    {
      "cell_type": "code",
      "metadata": {
        "id": "NpWBdgIO8OaQ"
      },
      "source": [
        "from sklearn.metrics import mean_absolute_error, mean_squared_error, median_absolute_error, r2_score"
      ],
      "execution_count": 244,
      "outputs": []
    },
    {
      "cell_type": "code",
      "metadata": {
        "id": "djhbuAEZDX-O"
      },
      "source": [
        "X_train, X_test, Y_train, Y_test = train_test_split(X, Y, test_size=0.2,random_state=42,stratify=Y)"
      ],
      "execution_count": 260,
      "outputs": []
    },
    {
      "cell_type": "markdown",
      "metadata": {
        "id": "_7sRltMPVu7x"
      },
      "source": [
        "# **1/DecisionTree**"
      ]
    },
    {
      "cell_type": "code",
      "metadata": {
        "id": "ETdN9_t4D8Nv"
      },
      "source": [
        "from sklearn.tree import DecisionTreeClassifier\n",
        "dt = DecisionTreeClassifier()\n",
        "dt.fit(X_train, Y_train)\n",
        "y_pred_dt = dt.predict(X_test)\n"
      ],
      "execution_count": 272,
      "outputs": []
    },
    {
      "cell_type": "code",
      "metadata": {
        "colab": {
          "base_uri": "https://localhost:8080/"
        },
        "id": "OPBeyndUVC8z",
        "outputId": "9da21a59-0cea-49f0-cee4-c0523091051e"
      },
      "source": [
        "y_pred_dt"
      ],
      "execution_count": null,
      "outputs": [
        {
          "output_type": "execute_result",
          "data": {
            "text/plain": [
              "array([4., 1., 5., ..., 1., 3., 1.])"
            ]
          },
          "metadata": {
            "tags": []
          },
          "execution_count": 210
        }
      ]
    },
    {
      "cell_type": "code",
      "metadata": {
        "colab": {
          "base_uri": "https://localhost:8080/"
        },
        "id": "M7DqP5UY6u5b",
        "outputId": "db7e70e3-1b19-4a62-b864-fd4b1ad8eae7"
      },
      "source": [
        "print('train_score = ',dt.score(X_train,Y_train)) \n",
        "print('test_score = ',dt.score(X_test,Y_test)) \n",
        "print('R2 = ',r2_score(Y_test, y_pred_dt))\n",
        "print('RMSE = ', np.sqrt(mean_squared_error(Y_test, y_pred_dt)))\n",
        "print('MAE = ', mean_absolute_error(Y_test, y_pred_dt))"
      ],
      "execution_count": 279,
      "outputs": [
        {
          "output_type": "stream",
          "text": [
            "train_score =  0.9999899919935948\n",
            "test_score =  0.9998799087306353\n",
            "R2 =  0.9999068863759688\n",
            "RMSE =  0.02098415245696848\n",
            "MAE =  0.00020015211560786198\n"
          ],
          "name": "stdout"
        }
      ]
    },
    {
      "cell_type": "markdown",
      "metadata": {
        "id": "qBZG6jdAbSdl"
      },
      "source": [
        "# **2/LogisticRegression**"
      ]
    },
    {
      "cell_type": "code",
      "metadata": {
        "id": "OJ2GKZcfWKs5"
      },
      "source": [
        "from sklearn.linear_model import LogisticRegression\n",
        "lr= LogisticRegression()\n",
        "lr.fit(X_train, Y_train)\n",
        "y_pred_lr = lr.predict(X_test)"
      ],
      "execution_count": null,
      "outputs": []
    },
    {
      "cell_type": "code",
      "metadata": {
        "colab": {
          "base_uri": "https://localhost:8080/"
        },
        "id": "woo67cRzKbyK",
        "outputId": "8fb0a4d4-282c-45e0-f0ea-95eeb277ec94"
      },
      "source": [
        "print('train_score = ',lr.score(X_train,Y_train)) \n",
        "print('test_score = ',lr.score(X_test,Y_test)) \n",
        "print('R2 = ',r2_score(Y_test, y_pred_lr))\n",
        "print('RMSE = ', np.sqrt(mean_squared_error(Y_test, y_pred_lr)))\n",
        "print('MAE = ', mean_absolute_error(Y_test, y_pred_lr))"
      ],
      "execution_count": 280,
      "outputs": [
        {
          "output_type": "stream",
          "text": [
            "train_score =  0.4604983987189752\n",
            "test_score =  0.4578279492414235\n",
            "R2 =  0.598807253549245\n",
            "RMSE =  1.377404045241237\n",
            "MAE =  0.9340298626956487\n"
          ],
          "name": "stdout"
        }
      ]
    },
    {
      "cell_type": "markdown",
      "metadata": {
        "id": "dRnzJu1vbagO"
      },
      "source": [
        "# **3/RandomForestClassifier**"
      ]
    },
    {
      "cell_type": "code",
      "metadata": {
        "colab": {
          "base_uri": "https://localhost:8080/"
        },
        "id": "T-ZgndZnX3mZ",
        "outputId": "9886ef2d-cc86-4e81-c07c-57d5ae157a6c"
      },
      "source": [
        "from sklearn.ensemble import RandomForestClassifier\n",
        "RF = RandomForestClassifier()\n",
        "RF.fit(X_train, Y_train)\n",
        "y_pred_RF = RF.predict(X_test)\n",
        "print('Accuracy of DecisionTree on training set: {:.12f}'.format(RF.score(X_train, Y_train)))\n",
        "print('Accuracy of DecisionTree on test set: {:.12f}'.format(RF.score(X_test, Y_test)))"
      ],
      "execution_count": 270,
      "outputs": [
        {
          "output_type": "stream",
          "text": [
            "Accuracy of DecisionTree on training set: 0.999989991994\n",
            "Accuracy of DecisionTree on test set: 0.999439574076\n"
          ],
          "name": "stdout"
        }
      ]
    },
    {
      "cell_type": "code",
      "metadata": {
        "colab": {
          "base_uri": "https://localhost:8080/"
        },
        "id": "akZnWchmK9ux",
        "outputId": "ff0b9981-eddb-4f18-ad46-bdd0ddbe2bf9"
      },
      "source": [
        "print('train_score = ',RF.score(X_train,Y_train)) \n",
        "print('test_score = ',RF.score(X_test,Y_test)) \n",
        "print('R2 = ',r2_score(Y_test, y_pred_RF))\n",
        "print('RMSE = ', np.sqrt(mean_squared_error(Y_test, y_pred_RF)))\n",
        "print('MAE = ', mean_absolute_error(Y_test, y_pred_RF))"
      ],
      "execution_count": 281,
      "outputs": [
        {
          "output_type": "stream",
          "text": [
            "train_score =  0.9999899919935948\n",
            "test_score =  0.999439574076298\n",
            "R2 =  0.9997883781272019\n",
            "RMSE =  0.03163480011062674\n",
            "MAE =  0.0006805171930667307\n"
          ],
          "name": "stdout"
        }
      ]
    },
    {
      "cell_type": "markdown",
      "metadata": {
        "id": "o0t5Kkwqbhmf"
      },
      "source": [
        "# **4/GaussianNB**"
      ]
    },
    {
      "cell_type": "code",
      "metadata": {
        "id": "zl-8jOVIanZC"
      },
      "source": [
        "from sklearn.naive_bayes import GaussianNB\n",
        "GNB = GaussianNB()\n",
        "GNB.fit(X_train, Y_train)\n",
        "y_pred_GNB = GNB.predict(X_test)"
      ],
      "execution_count": 276,
      "outputs": []
    },
    {
      "cell_type": "code",
      "metadata": {
        "colab": {
          "base_uri": "https://localhost:8080/"
        },
        "id": "ZjlTwqmBOwzS",
        "outputId": "cf317cb9-2949-4d69-d703-f65aaef376a0"
      },
      "source": [
        "print('train_score = ',GNB.score(X_train,Y_train)) \n",
        "print('test_score = ',GNB.score(X_test,Y_test)) \n",
        "print('R2 = ',r2_score(Y_test, y_pred_GNB))\n",
        "print('RMSE = ', np.sqrt(mean_squared_error(Y_test, y_pred_GNB)))\n",
        "print('MAE = ', mean_absolute_error(Y_test, y_pred_GNB))"
      ],
      "execution_count": 282,
      "outputs": [
        {
          "output_type": "stream",
          "text": [
            "train_score =  0.6996397117694155\n",
            "test_score =  0.6984107922020736\n",
            "R2 =  0.9308335070946488\n",
            "RMSE =  0.5719165912319453\n",
            "MAE =  0.3064328889956367\n"
          ],
          "name": "stdout"
        }
      ]
    },
    {
      "cell_type": "markdown",
      "metadata": {
        "id": "Vq9SrYJh3w9y"
      },
      "source": [
        "# **VI-Matrice de corrélation:**"
      ]
    },
    {
      "cell_type": "code",
      "metadata": {
        "colab": {
          "base_uri": "https://localhost:8080/"
        },
        "id": "dw-6m3SA3_iX",
        "outputId": "983d4bca-a65a-4e64-8473-f4edca70a1d1"
      },
      "source": [
        "data= pd.read_csv(r\"/gdrive/MyDrive/data_Model.csv\")"
      ],
      "execution_count": 251,
      "outputs": [
        {
          "output_type": "stream",
          "text": [
            "/usr/local/lib/python3.7/dist-packages/IPython/core/interactiveshell.py:2718: DtypeWarning: Columns (31) have mixed types.Specify dtype option on import or set low_memory=False.\n",
            "  interactivity=interactivity, compiler=compiler, result=result)\n"
          ],
          "name": "stderr"
        }
      ]
    },
    {
      "cell_type": "code",
      "metadata": {
        "id": "v615_KKZHgao"
      },
      "source": [
        " MatriceBonusMalus_df = data[['pourcentadeDeResponsabilite',\n",
        "                      'natureDuSinistre',\n",
        "                      'typePolice',\n",
        "                      'classeBonusMalus',\n",
        "                      'MauvaiseClasseBM',\n",
        "                      'coefBonusMalus',\n",
        "                      'PotentielFraudeur',\n",
        "                      'FraudeurClasseBM']]"
      ],
      "execution_count": 252,
      "outputs": []
    },
    {
      "cell_type": "code",
      "metadata": {
        "colab": {
          "base_uri": "https://localhost:8080/",
          "height": 399
        },
        "id": "pFkPcRniKOu8",
        "outputId": "9055b5b2-00ad-41cf-b5bd-f18c5d68ad76"
      },
      "source": [
        "MatriceBonusMalus_df"
      ],
      "execution_count": 253,
      "outputs": [
        {
          "output_type": "execute_result",
          "data": {
            "text/html": [
              "<div>\n",
              "<style scoped>\n",
              "    .dataframe tbody tr th:only-of-type {\n",
              "        vertical-align: middle;\n",
              "    }\n",
              "\n",
              "    .dataframe tbody tr th {\n",
              "        vertical-align: top;\n",
              "    }\n",
              "\n",
              "    .dataframe thead th {\n",
              "        text-align: right;\n",
              "    }\n",
              "</style>\n",
              "<table border=\"1\" class=\"dataframe\">\n",
              "  <thead>\n",
              "    <tr style=\"text-align: right;\">\n",
              "      <th></th>\n",
              "      <th>pourcentadeDeResponsabilite</th>\n",
              "      <th>natureDuSinistre</th>\n",
              "      <th>typePolice</th>\n",
              "      <th>classeBonusMalus</th>\n",
              "      <th>MauvaiseClasseBM</th>\n",
              "      <th>coefBonusMalus</th>\n",
              "      <th>PotentielFraudeur</th>\n",
              "      <th>FraudeurClasseBM</th>\n",
              "    </tr>\n",
              "  </thead>\n",
              "  <tbody>\n",
              "    <tr>\n",
              "      <th>0</th>\n",
              "      <td>100.0</td>\n",
              "      <td>1</td>\n",
              "      <td>0</td>\n",
              "      <td>4.0</td>\n",
              "      <td>0</td>\n",
              "      <td>100.0</td>\n",
              "      <td>0</td>\n",
              "      <td>0</td>\n",
              "    </tr>\n",
              "    <tr>\n",
              "      <th>1</th>\n",
              "      <td>0.0</td>\n",
              "      <td>1</td>\n",
              "      <td>0</td>\n",
              "      <td>3.0</td>\n",
              "      <td>0</td>\n",
              "      <td>90.0</td>\n",
              "      <td>0</td>\n",
              "      <td>0</td>\n",
              "    </tr>\n",
              "    <tr>\n",
              "      <th>2</th>\n",
              "      <td>100.0</td>\n",
              "      <td>1</td>\n",
              "      <td>0</td>\n",
              "      <td>7.0</td>\n",
              "      <td>0</td>\n",
              "      <td>200.0</td>\n",
              "      <td>1</td>\n",
              "      <td>1</td>\n",
              "    </tr>\n",
              "    <tr>\n",
              "      <th>3</th>\n",
              "      <td>0.0</td>\n",
              "      <td>1</td>\n",
              "      <td>0</td>\n",
              "      <td>3.0</td>\n",
              "      <td>0</td>\n",
              "      <td>90.0</td>\n",
              "      <td>0</td>\n",
              "      <td>0</td>\n",
              "    </tr>\n",
              "    <tr>\n",
              "      <th>4</th>\n",
              "      <td>100.0</td>\n",
              "      <td>1</td>\n",
              "      <td>0</td>\n",
              "      <td>7.0</td>\n",
              "      <td>0</td>\n",
              "      <td>160.0</td>\n",
              "      <td>0</td>\n",
              "      <td>0</td>\n",
              "    </tr>\n",
              "    <tr>\n",
              "      <th>...</th>\n",
              "      <td>...</td>\n",
              "      <td>...</td>\n",
              "      <td>...</td>\n",
              "      <td>...</td>\n",
              "      <td>...</td>\n",
              "      <td>...</td>\n",
              "      <td>...</td>\n",
              "      <td>...</td>\n",
              "    </tr>\n",
              "    <tr>\n",
              "      <th>124896</th>\n",
              "      <td>100.0</td>\n",
              "      <td>1</td>\n",
              "      <td>0</td>\n",
              "      <td>3.0</td>\n",
              "      <td>0</td>\n",
              "      <td>100.0</td>\n",
              "      <td>1</td>\n",
              "      <td>1</td>\n",
              "    </tr>\n",
              "    <tr>\n",
              "      <th>124897</th>\n",
              "      <td>100.0</td>\n",
              "      <td>1</td>\n",
              "      <td>0</td>\n",
              "      <td>3.0</td>\n",
              "      <td>0</td>\n",
              "      <td>100.0</td>\n",
              "      <td>1</td>\n",
              "      <td>1</td>\n",
              "    </tr>\n",
              "    <tr>\n",
              "      <th>124898</th>\n",
              "      <td>100.0</td>\n",
              "      <td>1</td>\n",
              "      <td>0</td>\n",
              "      <td>1.0</td>\n",
              "      <td>0</td>\n",
              "      <td>80.0</td>\n",
              "      <td>1</td>\n",
              "      <td>1</td>\n",
              "    </tr>\n",
              "    <tr>\n",
              "      <th>124899</th>\n",
              "      <td>100.0</td>\n",
              "      <td>1</td>\n",
              "      <td>0</td>\n",
              "      <td>1.0</td>\n",
              "      <td>0</td>\n",
              "      <td>80.0</td>\n",
              "      <td>1</td>\n",
              "      <td>1</td>\n",
              "    </tr>\n",
              "    <tr>\n",
              "      <th>124900</th>\n",
              "      <td>100.0</td>\n",
              "      <td>1</td>\n",
              "      <td>0</td>\n",
              "      <td>1.0</td>\n",
              "      <td>0</td>\n",
              "      <td>80.0</td>\n",
              "      <td>1</td>\n",
              "      <td>1</td>\n",
              "    </tr>\n",
              "  </tbody>\n",
              "</table>\n",
              "<p>124901 rows × 8 columns</p>\n",
              "</div>"
            ],
            "text/plain": [
              "        pourcentadeDeResponsabilite  ...  FraudeurClasseBM\n",
              "0                             100.0  ...                 0\n",
              "1                               0.0  ...                 0\n",
              "2                             100.0  ...                 1\n",
              "3                               0.0  ...                 0\n",
              "4                             100.0  ...                 0\n",
              "...                             ...  ...               ...\n",
              "124896                        100.0  ...                 1\n",
              "124897                        100.0  ...                 1\n",
              "124898                        100.0  ...                 1\n",
              "124899                        100.0  ...                 1\n",
              "124900                        100.0  ...                 1\n",
              "\n",
              "[124901 rows x 8 columns]"
            ]
          },
          "metadata": {
            "tags": []
          },
          "execution_count": 253
        }
      ]
    },
    {
      "cell_type": "code",
      "metadata": {
        "colab": {
          "base_uri": "https://localhost:8080/"
        },
        "id": "cEPRz1AWJrt3",
        "outputId": "93a6f6ce-8ae6-4092-fe42-ade2c400ae75"
      },
      "source": [
        "corr_df = MatriceBonusMalus_df.corr()\n",
        "print(\"The correlation DataFrame is:\")\n",
        "print(corr_df, \"\\n\")"
      ],
      "execution_count": 254,
      "outputs": [
        {
          "output_type": "stream",
          "text": [
            "The correlation DataFrame is:\n",
            "                             pourcentadeDeResponsabilite  ...  FraudeurClasseBM\n",
            "pourcentadeDeResponsabilite                     1.000000  ...          0.000242\n",
            "natureDuSinistre                               -0.022511  ...         -0.005960\n",
            "typePolice                                     -0.001926  ...          0.001040\n",
            "classeBonusMalus                               -0.019682  ...         -0.279424\n",
            "MauvaiseClasseBM                               -0.002252  ...         -0.066865\n",
            "coefBonusMalus                                 -0.016861  ...         -0.111912\n",
            "PotentielFraudeur                               0.000242  ...          1.000000\n",
            "FraudeurClasseBM                                0.000242  ...          1.000000\n",
            "\n",
            "[8 rows x 8 columns] \n",
            "\n"
          ],
          "name": "stdout"
        }
      ]
    },
    {
      "cell_type": "code",
      "metadata": {
        "colab": {
          "base_uri": "https://localhost:8080/",
          "height": 282
        },
        "id": "beZDlVhJJ8BX",
        "outputId": "c36d6283-ec29-4fe9-b07e-01e628f70867"
      },
      "source": [
        "corr_df"
      ],
      "execution_count": 255,
      "outputs": [
        {
          "output_type": "execute_result",
          "data": {
            "text/html": [
              "<div>\n",
              "<style scoped>\n",
              "    .dataframe tbody tr th:only-of-type {\n",
              "        vertical-align: middle;\n",
              "    }\n",
              "\n",
              "    .dataframe tbody tr th {\n",
              "        vertical-align: top;\n",
              "    }\n",
              "\n",
              "    .dataframe thead th {\n",
              "        text-align: right;\n",
              "    }\n",
              "</style>\n",
              "<table border=\"1\" class=\"dataframe\">\n",
              "  <thead>\n",
              "    <tr style=\"text-align: right;\">\n",
              "      <th></th>\n",
              "      <th>pourcentadeDeResponsabilite</th>\n",
              "      <th>natureDuSinistre</th>\n",
              "      <th>typePolice</th>\n",
              "      <th>classeBonusMalus</th>\n",
              "      <th>MauvaiseClasseBM</th>\n",
              "      <th>coefBonusMalus</th>\n",
              "      <th>PotentielFraudeur</th>\n",
              "      <th>FraudeurClasseBM</th>\n",
              "    </tr>\n",
              "  </thead>\n",
              "  <tbody>\n",
              "    <tr>\n",
              "      <th>pourcentadeDeResponsabilite</th>\n",
              "      <td>1.000000</td>\n",
              "      <td>-0.022511</td>\n",
              "      <td>-0.001926</td>\n",
              "      <td>-0.019682</td>\n",
              "      <td>-0.002252</td>\n",
              "      <td>-0.016861</td>\n",
              "      <td>0.000242</td>\n",
              "      <td>0.000242</td>\n",
              "    </tr>\n",
              "    <tr>\n",
              "      <th>natureDuSinistre</th>\n",
              "      <td>-0.022511</td>\n",
              "      <td>1.000000</td>\n",
              "      <td>0.003699</td>\n",
              "      <td>0.007360</td>\n",
              "      <td>-0.002507</td>\n",
              "      <td>0.004759</td>\n",
              "      <td>-0.005960</td>\n",
              "      <td>-0.005960</td>\n",
              "    </tr>\n",
              "    <tr>\n",
              "      <th>typePolice</th>\n",
              "      <td>-0.001926</td>\n",
              "      <td>0.003699</td>\n",
              "      <td>1.000000</td>\n",
              "      <td>-0.005034</td>\n",
              "      <td>-0.000463</td>\n",
              "      <td>-0.002521</td>\n",
              "      <td>0.001040</td>\n",
              "      <td>0.001040</td>\n",
              "    </tr>\n",
              "    <tr>\n",
              "      <th>classeBonusMalus</th>\n",
              "      <td>-0.019682</td>\n",
              "      <td>0.007360</td>\n",
              "      <td>-0.005034</td>\n",
              "      <td>1.000000</td>\n",
              "      <td>0.226627</td>\n",
              "      <td>0.950560</td>\n",
              "      <td>-0.279424</td>\n",
              "      <td>-0.279424</td>\n",
              "    </tr>\n",
              "    <tr>\n",
              "      <th>MauvaiseClasseBM</th>\n",
              "      <td>-0.002252</td>\n",
              "      <td>-0.002507</td>\n",
              "      <td>-0.000463</td>\n",
              "      <td>0.226627</td>\n",
              "      <td>1.000000</td>\n",
              "      <td>0.323194</td>\n",
              "      <td>-0.066865</td>\n",
              "      <td>-0.066865</td>\n",
              "    </tr>\n",
              "    <tr>\n",
              "      <th>coefBonusMalus</th>\n",
              "      <td>-0.016861</td>\n",
              "      <td>0.004759</td>\n",
              "      <td>-0.002521</td>\n",
              "      <td>0.950560</td>\n",
              "      <td>0.323194</td>\n",
              "      <td>1.000000</td>\n",
              "      <td>-0.111912</td>\n",
              "      <td>-0.111912</td>\n",
              "    </tr>\n",
              "    <tr>\n",
              "      <th>PotentielFraudeur</th>\n",
              "      <td>0.000242</td>\n",
              "      <td>-0.005960</td>\n",
              "      <td>0.001040</td>\n",
              "      <td>-0.279424</td>\n",
              "      <td>-0.066865</td>\n",
              "      <td>-0.111912</td>\n",
              "      <td>1.000000</td>\n",
              "      <td>1.000000</td>\n",
              "    </tr>\n",
              "    <tr>\n",
              "      <th>FraudeurClasseBM</th>\n",
              "      <td>0.000242</td>\n",
              "      <td>-0.005960</td>\n",
              "      <td>0.001040</td>\n",
              "      <td>-0.279424</td>\n",
              "      <td>-0.066865</td>\n",
              "      <td>-0.111912</td>\n",
              "      <td>1.000000</td>\n",
              "      <td>1.000000</td>\n",
              "    </tr>\n",
              "  </tbody>\n",
              "</table>\n",
              "</div>"
            ],
            "text/plain": [
              "                             pourcentadeDeResponsabilite  ...  FraudeurClasseBM\n",
              "pourcentadeDeResponsabilite                     1.000000  ...          0.000242\n",
              "natureDuSinistre                               -0.022511  ...         -0.005960\n",
              "typePolice                                     -0.001926  ...          0.001040\n",
              "classeBonusMalus                               -0.019682  ...         -0.279424\n",
              "MauvaiseClasseBM                               -0.002252  ...         -0.066865\n",
              "coefBonusMalus                                 -0.016861  ...         -0.111912\n",
              "PotentielFraudeur                               0.000242  ...          1.000000\n",
              "FraudeurClasseBM                                0.000242  ...          1.000000\n",
              "\n",
              "[8 rows x 8 columns]"
            ]
          },
          "metadata": {
            "tags": []
          },
          "execution_count": 255
        }
      ]
    }
  ]
}