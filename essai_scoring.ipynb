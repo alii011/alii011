{
  "nbformat": 4,
  "nbformat_minor": 0,
  "metadata": {
    "colab": {
      "name": "essai_scoring.ipynb",
      "provenance": [],
      "collapsed_sections": []
    },
    "kernelspec": {
      "name": "python3",
      "display_name": "Python 3"
    },
    "language_info": {
      "name": "python"
    }
  },
  "cells": [
    {
      "cell_type": "code",
      "metadata": {
        "colab": {
          "base_uri": "https://localhost:8080/"
        },
        "id": "HXKStESPp31D",
        "outputId": "9d460469-c574-4f3e-d209-3d5bcbd2f9f3"
      },
      "source": [
        "from google.colab import drive\n",
        "drive.mount('/gdrive')"
      ],
      "execution_count": null,
      "outputs": [
        {
          "output_type": "stream",
          "text": [
            "Mounted at /gdrive\n"
          ],
          "name": "stdout"
        }
      ]
    },
    {
      "cell_type": "code",
      "metadata": {
        "id": "ExJhXX5DqWSa"
      },
      "source": [
        "import pandas as pd\n",
        "import numpy as np"
      ],
      "execution_count": null,
      "outputs": []
    },
    {
      "cell_type": "code",
      "metadata": {
        "id": "Tty56mo_qY9g"
      },
      "source": [
        "df = pd.read_csv(r\"/gdrive/MyDrive/data_score.csv\")"
      ],
      "execution_count": null,
      "outputs": []
    },
    {
      "cell_type": "code",
      "metadata": {
        "colab": {
          "base_uri": "https://localhost:8080/",
          "height": 194
        },
        "id": "oyMrZo3_qxJI",
        "outputId": "371c1654-2966-48de-f596-27f602f74459"
      },
      "source": [
        "df.head()"
      ],
      "execution_count": null,
      "outputs": [
        {
          "output_type": "execute_result",
          "data": {
            "text/html": [
              "<div>\n",
              "<style scoped>\n",
              "    .dataframe tbody tr th:only-of-type {\n",
              "        vertical-align: middle;\n",
              "    }\n",
              "\n",
              "    .dataframe tbody tr th {\n",
              "        vertical-align: top;\n",
              "    }\n",
              "\n",
              "    .dataframe thead th {\n",
              "        text-align: right;\n",
              "    }\n",
              "</style>\n",
              "<table border=\"1\" class=\"dataframe\">\n",
              "  <thead>\n",
              "    <tr style=\"text-align: right;\">\n",
              "      <th></th>\n",
              "      <th>ID</th>\n",
              "      <th>C1</th>\n",
              "      <th>C2</th>\n",
              "      <th>C3</th>\n",
              "      <th>C4</th>\n",
              "      <th>C5</th>\n",
              "      <th>score</th>\n",
              "    </tr>\n",
              "  </thead>\n",
              "  <tbody>\n",
              "    <tr>\n",
              "      <th>0</th>\n",
              "      <td>MYNB48764759382421</td>\n",
              "      <td>1</td>\n",
              "      <td>1</td>\n",
              "      <td>5</td>\n",
              "      <td>1</td>\n",
              "      <td>1</td>\n",
              "      <td>80</td>\n",
              "    </tr>\n",
              "    <tr>\n",
              "      <th>1</th>\n",
              "      <td>ZIRW92411578156593</td>\n",
              "      <td>1</td>\n",
              "      <td>1</td>\n",
              "      <td>5</td>\n",
              "      <td>1</td>\n",
              "      <td>0</td>\n",
              "      <td>50</td>\n",
              "    </tr>\n",
              "    <tr>\n",
              "      <th>2</th>\n",
              "      <td>POQI08016097535139</td>\n",
              "      <td>0</td>\n",
              "      <td>1</td>\n",
              "      <td>2</td>\n",
              "      <td>0</td>\n",
              "      <td>1</td>\n",
              "      <td>79</td>\n",
              "    </tr>\n",
              "    <tr>\n",
              "      <th>3</th>\n",
              "      <td>HZEZ87115871484185</td>\n",
              "      <td>1</td>\n",
              "      <td>0</td>\n",
              "      <td>5</td>\n",
              "      <td>1</td>\n",
              "      <td>1</td>\n",
              "      <td>85</td>\n",
              "    </tr>\n",
              "    <tr>\n",
              "      <th>4</th>\n",
              "      <td>GZTR94719659342320</td>\n",
              "      <td>1</td>\n",
              "      <td>0</td>\n",
              "      <td>5</td>\n",
              "      <td>0</td>\n",
              "      <td>0</td>\n",
              "      <td>75</td>\n",
              "    </tr>\n",
              "  </tbody>\n",
              "</table>\n",
              "</div>"
            ],
            "text/plain": [
              "                   ID  C1  C2  C3  C4  C5  score\n",
              "0  MYNB48764759382421   1   1   5   1   1     80\n",
              "1  ZIRW92411578156593   1   1   5   1   0     50\n",
              "2  POQI08016097535139   0   1   2   0   1     79\n",
              "3  HZEZ87115871484185   1   0   5   1   1     85\n",
              "4  GZTR94719659342320   1   0   5   0   0     75"
            ]
          },
          "metadata": {
            "tags": []
          },
          "execution_count": 5
        }
      ]
    },
    {
      "cell_type": "markdown",
      "metadata": {
        "id": "EJnR0A8pwyGX"
      },
      "source": [
        "# **I-Classification**"
      ]
    },
    {
      "cell_type": "code",
      "metadata": {
        "id": "L9rHJ77Zq7WA"
      },
      "source": [
        "fraudeur = df[df[\"score\"]>=75]\n",
        "non_fraudeur = df[df[\"score\"]<75]"
      ],
      "execution_count": null,
      "outputs": []
    },
    {
      "cell_type": "code",
      "metadata": {
        "colab": {
          "base_uri": "https://localhost:8080/"
        },
        "id": "pK6tC7a6rQCm",
        "outputId": "aac075f0-4680-4969-e434-8177add8b1b8"
      },
      "source": [
        "print(fraudeur.shape,non_fraudeur.shape)"
      ],
      "execution_count": null,
      "outputs": [
        {
          "output_type": "stream",
          "text": [
            "(2934, 7) (2066, 7)\n"
          ],
          "name": "stdout"
        }
      ]
    },
    {
      "cell_type": "code",
      "metadata": {
        "id": "rtu1h5T0rbkX"
      },
      "source": [
        "df1=df.drop([\"ID\"], axis = 1)"
      ],
      "execution_count": null,
      "outputs": []
    },
    {
      "cell_type": "code",
      "metadata": {
        "colab": {
          "base_uri": "https://localhost:8080/",
          "height": 399
        },
        "id": "Pqh9O7YUrgld",
        "outputId": "6798fa33-8140-4f6e-d5b6-42fa11d437cb"
      },
      "source": [
        "df1"
      ],
      "execution_count": null,
      "outputs": [
        {
          "output_type": "execute_result",
          "data": {
            "text/html": [
              "<div>\n",
              "<style scoped>\n",
              "    .dataframe tbody tr th:only-of-type {\n",
              "        vertical-align: middle;\n",
              "    }\n",
              "\n",
              "    .dataframe tbody tr th {\n",
              "        vertical-align: top;\n",
              "    }\n",
              "\n",
              "    .dataframe thead th {\n",
              "        text-align: right;\n",
              "    }\n",
              "</style>\n",
              "<table border=\"1\" class=\"dataframe\">\n",
              "  <thead>\n",
              "    <tr style=\"text-align: right;\">\n",
              "      <th></th>\n",
              "      <th>C1</th>\n",
              "      <th>C2</th>\n",
              "      <th>C3</th>\n",
              "      <th>C4</th>\n",
              "      <th>C5</th>\n",
              "      <th>score</th>\n",
              "    </tr>\n",
              "  </thead>\n",
              "  <tbody>\n",
              "    <tr>\n",
              "      <th>0</th>\n",
              "      <td>1</td>\n",
              "      <td>1</td>\n",
              "      <td>5</td>\n",
              "      <td>1</td>\n",
              "      <td>1</td>\n",
              "      <td>80</td>\n",
              "    </tr>\n",
              "    <tr>\n",
              "      <th>1</th>\n",
              "      <td>1</td>\n",
              "      <td>1</td>\n",
              "      <td>5</td>\n",
              "      <td>1</td>\n",
              "      <td>0</td>\n",
              "      <td>50</td>\n",
              "    </tr>\n",
              "    <tr>\n",
              "      <th>2</th>\n",
              "      <td>0</td>\n",
              "      <td>1</td>\n",
              "      <td>2</td>\n",
              "      <td>0</td>\n",
              "      <td>1</td>\n",
              "      <td>79</td>\n",
              "    </tr>\n",
              "    <tr>\n",
              "      <th>3</th>\n",
              "      <td>1</td>\n",
              "      <td>0</td>\n",
              "      <td>5</td>\n",
              "      <td>1</td>\n",
              "      <td>1</td>\n",
              "      <td>85</td>\n",
              "    </tr>\n",
              "    <tr>\n",
              "      <th>4</th>\n",
              "      <td>1</td>\n",
              "      <td>0</td>\n",
              "      <td>5</td>\n",
              "      <td>0</td>\n",
              "      <td>0</td>\n",
              "      <td>75</td>\n",
              "    </tr>\n",
              "    <tr>\n",
              "      <th>...</th>\n",
              "      <td>...</td>\n",
              "      <td>...</td>\n",
              "      <td>...</td>\n",
              "      <td>...</td>\n",
              "      <td>...</td>\n",
              "      <td>...</td>\n",
              "    </tr>\n",
              "    <tr>\n",
              "      <th>4995</th>\n",
              "      <td>1</td>\n",
              "      <td>1</td>\n",
              "      <td>4</td>\n",
              "      <td>1</td>\n",
              "      <td>0</td>\n",
              "      <td>50</td>\n",
              "    </tr>\n",
              "    <tr>\n",
              "      <th>4996</th>\n",
              "      <td>1</td>\n",
              "      <td>0</td>\n",
              "      <td>5</td>\n",
              "      <td>1</td>\n",
              "      <td>0</td>\n",
              "      <td>79</td>\n",
              "    </tr>\n",
              "    <tr>\n",
              "      <th>4997</th>\n",
              "      <td>1</td>\n",
              "      <td>0</td>\n",
              "      <td>4</td>\n",
              "      <td>1</td>\n",
              "      <td>1</td>\n",
              "      <td>79</td>\n",
              "    </tr>\n",
              "    <tr>\n",
              "      <th>4998</th>\n",
              "      <td>1</td>\n",
              "      <td>1</td>\n",
              "      <td>3</td>\n",
              "      <td>0</td>\n",
              "      <td>0</td>\n",
              "      <td>79</td>\n",
              "    </tr>\n",
              "    <tr>\n",
              "      <th>4999</th>\n",
              "      <td>1</td>\n",
              "      <td>1</td>\n",
              "      <td>2</td>\n",
              "      <td>1</td>\n",
              "      <td>0</td>\n",
              "      <td>19</td>\n",
              "    </tr>\n",
              "  </tbody>\n",
              "</table>\n",
              "<p>5000 rows × 6 columns</p>\n",
              "</div>"
            ],
            "text/plain": [
              "      C1  C2  C3  C4  C5  score\n",
              "0      1   1   5   1   1     80\n",
              "1      1   1   5   1   0     50\n",
              "2      0   1   2   0   1     79\n",
              "3      1   0   5   1   1     85\n",
              "4      1   0   5   0   0     75\n",
              "...   ..  ..  ..  ..  ..    ...\n",
              "4995   1   1   4   1   0     50\n",
              "4996   1   0   5   1   0     79\n",
              "4997   1   0   4   1   1     79\n",
              "4998   1   1   3   0   0     79\n",
              "4999   1   1   2   1   0     19\n",
              "\n",
              "[5000 rows x 6 columns]"
            ]
          },
          "metadata": {
            "tags": []
          },
          "execution_count": 9
        }
      ]
    },
    {
      "cell_type": "code",
      "metadata": {
        "id": "jrg9YUubri-O"
      },
      "source": [
        "conditionlist1 = [\n",
        "    (df1[\"score\"]>=75),\n",
        "    (df1[\"score\"]<75),\n",
        "     \n",
        "    ]\n",
        "choicelist = [1,0]\n",
        "df1['classe'] = np.select(conditionlist1, choicelist, default='Not Specified')"
      ],
      "execution_count": null,
      "outputs": []
    },
    {
      "cell_type": "code",
      "metadata": {
        "colab": {
          "base_uri": "https://localhost:8080/"
        },
        "id": "hJCeOfsUry-r",
        "outputId": "2ad4a446-88ab-4abd-d411-33c85cd85f39"
      },
      "source": [
        "print(df1)"
      ],
      "execution_count": null,
      "outputs": [
        {
          "output_type": "stream",
          "text": [
            "      C1  C2  C3  C4  C5  score classe\n",
            "0      1   1   5   1   1     80      1\n",
            "1      1   1   5   1   0     50      0\n",
            "2      0   1   2   0   1     79      1\n",
            "3      1   0   5   1   1     85      1\n",
            "4      1   0   5   0   0     75      1\n",
            "...   ..  ..  ..  ..  ..    ...    ...\n",
            "4995   1   1   4   1   0     50      0\n",
            "4996   1   0   5   1   0     79      1\n",
            "4997   1   0   4   1   1     79      1\n",
            "4998   1   1   3   0   0     79      1\n",
            "4999   1   1   2   1   0     19      0\n",
            "\n",
            "[5000 rows x 7 columns]\n"
          ],
          "name": "stdout"
        }
      ]
    },
    {
      "cell_type": "markdown",
      "metadata": {
        "id": "iCXZEXA3xAJN"
      },
      "source": [
        "# **II-Modelisation**"
      ]
    },
    {
      "cell_type": "code",
      "metadata": {
        "id": "0HBxD3Ler2jp"
      },
      "source": [
        "DataModel = df1[['C1','C2','C3','C4','C5','classe']]"
      ],
      "execution_count": null,
      "outputs": []
    },
    {
      "cell_type": "code",
      "metadata": {
        "id": "G6wct1m8r61L"
      },
      "source": [
        "#Partition de la dataframe en une variable à expliquer et des variable explicatives\n",
        "X= DataModel.iloc[:,0:-1]\n",
        "Y= DataModel.iloc[:,-1]"
      ],
      "execution_count": null,
      "outputs": []
    },
    {
      "cell_type": "code",
      "metadata": {
        "colab": {
          "base_uri": "https://localhost:8080/",
          "height": 399
        },
        "id": "fmxWGOqCsFFf",
        "outputId": "d33bcc46-8ee3-41c5-a9f1-4746ee9147bb"
      },
      "source": [
        "X"
      ],
      "execution_count": null,
      "outputs": [
        {
          "output_type": "execute_result",
          "data": {
            "text/html": [
              "<div>\n",
              "<style scoped>\n",
              "    .dataframe tbody tr th:only-of-type {\n",
              "        vertical-align: middle;\n",
              "    }\n",
              "\n",
              "    .dataframe tbody tr th {\n",
              "        vertical-align: top;\n",
              "    }\n",
              "\n",
              "    .dataframe thead th {\n",
              "        text-align: right;\n",
              "    }\n",
              "</style>\n",
              "<table border=\"1\" class=\"dataframe\">\n",
              "  <thead>\n",
              "    <tr style=\"text-align: right;\">\n",
              "      <th></th>\n",
              "      <th>C1</th>\n",
              "      <th>C2</th>\n",
              "      <th>C3</th>\n",
              "      <th>C4</th>\n",
              "      <th>C5</th>\n",
              "    </tr>\n",
              "  </thead>\n",
              "  <tbody>\n",
              "    <tr>\n",
              "      <th>0</th>\n",
              "      <td>1</td>\n",
              "      <td>1</td>\n",
              "      <td>5</td>\n",
              "      <td>1</td>\n",
              "      <td>1</td>\n",
              "    </tr>\n",
              "    <tr>\n",
              "      <th>1</th>\n",
              "      <td>1</td>\n",
              "      <td>1</td>\n",
              "      <td>5</td>\n",
              "      <td>1</td>\n",
              "      <td>0</td>\n",
              "    </tr>\n",
              "    <tr>\n",
              "      <th>2</th>\n",
              "      <td>0</td>\n",
              "      <td>1</td>\n",
              "      <td>2</td>\n",
              "      <td>0</td>\n",
              "      <td>1</td>\n",
              "    </tr>\n",
              "    <tr>\n",
              "      <th>3</th>\n",
              "      <td>1</td>\n",
              "      <td>0</td>\n",
              "      <td>5</td>\n",
              "      <td>1</td>\n",
              "      <td>1</td>\n",
              "    </tr>\n",
              "    <tr>\n",
              "      <th>4</th>\n",
              "      <td>1</td>\n",
              "      <td>0</td>\n",
              "      <td>5</td>\n",
              "      <td>0</td>\n",
              "      <td>0</td>\n",
              "    </tr>\n",
              "    <tr>\n",
              "      <th>...</th>\n",
              "      <td>...</td>\n",
              "      <td>...</td>\n",
              "      <td>...</td>\n",
              "      <td>...</td>\n",
              "      <td>...</td>\n",
              "    </tr>\n",
              "    <tr>\n",
              "      <th>4995</th>\n",
              "      <td>1</td>\n",
              "      <td>1</td>\n",
              "      <td>4</td>\n",
              "      <td>1</td>\n",
              "      <td>0</td>\n",
              "    </tr>\n",
              "    <tr>\n",
              "      <th>4996</th>\n",
              "      <td>1</td>\n",
              "      <td>0</td>\n",
              "      <td>5</td>\n",
              "      <td>1</td>\n",
              "      <td>0</td>\n",
              "    </tr>\n",
              "    <tr>\n",
              "      <th>4997</th>\n",
              "      <td>1</td>\n",
              "      <td>0</td>\n",
              "      <td>4</td>\n",
              "      <td>1</td>\n",
              "      <td>1</td>\n",
              "    </tr>\n",
              "    <tr>\n",
              "      <th>4998</th>\n",
              "      <td>1</td>\n",
              "      <td>1</td>\n",
              "      <td>3</td>\n",
              "      <td>0</td>\n",
              "      <td>0</td>\n",
              "    </tr>\n",
              "    <tr>\n",
              "      <th>4999</th>\n",
              "      <td>1</td>\n",
              "      <td>1</td>\n",
              "      <td>2</td>\n",
              "      <td>1</td>\n",
              "      <td>0</td>\n",
              "    </tr>\n",
              "  </tbody>\n",
              "</table>\n",
              "<p>5000 rows × 5 columns</p>\n",
              "</div>"
            ],
            "text/plain": [
              "      C1  C2  C3  C4  C5\n",
              "0      1   1   5   1   1\n",
              "1      1   1   5   1   0\n",
              "2      0   1   2   0   1\n",
              "3      1   0   5   1   1\n",
              "4      1   0   5   0   0\n",
              "...   ..  ..  ..  ..  ..\n",
              "4995   1   1   4   1   0\n",
              "4996   1   0   5   1   0\n",
              "4997   1   0   4   1   1\n",
              "4998   1   1   3   0   0\n",
              "4999   1   1   2   1   0\n",
              "\n",
              "[5000 rows x 5 columns]"
            ]
          },
          "metadata": {
            "tags": []
          },
          "execution_count": 14
        }
      ]
    },
    {
      "cell_type": "code",
      "metadata": {
        "colab": {
          "base_uri": "https://localhost:8080/"
        },
        "id": "xOtYhW77sHQ_",
        "outputId": "f60d7784-cdb0-4f86-a408-5a0eecfd5bc7"
      },
      "source": [
        "Y.value_counts()"
      ],
      "execution_count": null,
      "outputs": [
        {
          "output_type": "execute_result",
          "data": {
            "text/plain": [
              "1    2934\n",
              "0    2066\n",
              "Name: classe, dtype: int64"
            ]
          },
          "metadata": {
            "tags": []
          },
          "execution_count": 15
        }
      ]
    },
    {
      "cell_type": "code",
      "metadata": {
        "id": "YNdmY927sJF2"
      },
      "source": [
        "from sklearn.model_selection import train_test_split\n",
        "from sklearn.metrics import classification_report,confusion_matrix\n",
        "#Importaion du StandardScaler\n",
        "from sklearn.preprocessing import StandardScaler\n",
        "from sklearn import metrics\n",
        "from sklearn.metrics import recall_score"
      ],
      "execution_count": null,
      "outputs": []
    },
    {
      "cell_type": "code",
      "metadata": {
        "id": "4iPCH76dsOrV"
      },
      "source": [
        "X_train, X_test, Y_train, Y_test = train_test_split(X, Y, test_size=0.2,random_state=42,stratify=Y)"
      ],
      "execution_count": null,
      "outputs": []
    },
    {
      "cell_type": "markdown",
      "metadata": {
        "id": "DzVi9ppfxGfm"
      },
      "source": [
        "# **1-Decision Tree**"
      ]
    },
    {
      "cell_type": "code",
      "metadata": {
        "colab": {
          "base_uri": "https://localhost:8080/"
        },
        "id": "Kywz91XfsSVr",
        "outputId": "ab06d444-8b17-4b15-885a-df971ae66bd2"
      },
      "source": [
        "from sklearn.tree import DecisionTreeClassifier\n",
        "dt = DecisionTreeClassifier()\n",
        "dt.fit(X_train, Y_train)\n",
        "y_pred_dt = dt.predict(X_test)\n",
        "print('Accuracy of DecisionTree on training set: {:.8f}'.format(dt.score(X_train, Y_train)))\n",
        "print('Accuracy of DecisionTree on test set: {:.8f}'.format(dt.score(X_test, Y_test)))"
      ],
      "execution_count": null,
      "outputs": [
        {
          "output_type": "stream",
          "text": [
            "Accuracy of DecisionTree on training set: 0.97300000\n",
            "Accuracy of DecisionTree on test set: 0.96600000\n"
          ],
          "name": "stdout"
        }
      ]
    },
    {
      "cell_type": "code",
      "metadata": {
        "colab": {
          "base_uri": "https://localhost:8080/"
        },
        "id": "Vsv9uwzdBcn4",
        "outputId": "409db421-3d61-4f13-e09b-470474e91bd7"
      },
      "source": [
        "print(classification_report(y_pred_dt, Y_test))"
      ],
      "execution_count": null,
      "outputs": [
        {
          "output_type": "stream",
          "text": [
            "              precision    recall  f1-score   support\n",
            "\n",
            "           0       0.92      0.99      0.96       385\n",
            "           1       0.99      0.95      0.97       615\n",
            "\n",
            "    accuracy                           0.97      1000\n",
            "   macro avg       0.96      0.97      0.96      1000\n",
            "weighted avg       0.97      0.97      0.97      1000\n",
            "\n"
          ],
          "name": "stdout"
        }
      ]
    },
    {
      "cell_type": "markdown",
      "metadata": {
        "id": "L9TRwJK8xWzd"
      },
      "source": [
        "# **2-Logistic Regression**"
      ]
    },
    {
      "cell_type": "code",
      "metadata": {
        "colab": {
          "base_uri": "https://localhost:8080/"
        },
        "id": "9sNRcbRksY68",
        "outputId": "4b94b546-8e0b-4a99-8211-36d23252cd63"
      },
      "source": [
        "from sklearn.linear_model import LogisticRegression\n",
        "lr= LogisticRegression()\n",
        "lr.fit(X_train, Y_train)\n",
        "y_pred_lr = lr.predict(X_test)\n",
        "print('Accuracy of LogisticRegression on training set: {:.8f}'.format(lr.score(X_train, Y_train)))\n",
        "print('Accuracy of LogisticRegression on test set: {:.8f}'.format(lr.score(X_test, Y_test)))"
      ],
      "execution_count": null,
      "outputs": [
        {
          "output_type": "stream",
          "text": [
            "Accuracy of LogisticRegression on training set: 0.95350000\n",
            "Accuracy of LogisticRegression on test set: 0.93200000\n"
          ],
          "name": "stdout"
        }
      ]
    },
    {
      "cell_type": "code",
      "metadata": {
        "colab": {
          "base_uri": "https://localhost:8080/"
        },
        "id": "jUzcQumSBk67",
        "outputId": "12658f1c-a335-4f25-e5fc-bd551174afaa"
      },
      "source": [
        "print(classification_report(y_pred_lr, Y_test))"
      ],
      "execution_count": null,
      "outputs": [
        {
          "output_type": "stream",
          "text": [
            "              precision    recall  f1-score   support\n",
            "\n",
            "           0       0.98      0.87      0.92       461\n",
            "           1       0.90      0.98      0.94       539\n",
            "\n",
            "    accuracy                           0.93      1000\n",
            "   macro avg       0.94      0.93      0.93      1000\n",
            "weighted avg       0.94      0.93      0.93      1000\n",
            "\n"
          ],
          "name": "stdout"
        }
      ]
    },
    {
      "cell_type": "markdown",
      "metadata": {
        "id": "BfsYSzbXxeFM"
      },
      "source": [
        "# **3-Gaussian NB**"
      ]
    },
    {
      "cell_type": "code",
      "metadata": {
        "colab": {
          "base_uri": "https://localhost:8080/"
        },
        "id": "b406VSIKseFj",
        "outputId": "84ea966e-ac87-4d9b-c1e6-d341e7905632"
      },
      "source": [
        "from sklearn.naive_bayes import GaussianNB\n",
        "GNB = GaussianNB()\n",
        "GNB.fit(X_train, Y_train)\n",
        "y_pred_GNB = GNB.predict(X_test)\n",
        "print('Accuracy of GaussianNB on training set: {:.8f}'.format(GNB.score(X_train, Y_train)))\n",
        "print('Accuracy of GaussianNB  on test set: {:.8f}'.format(GNB.score(X_test, Y_test)))"
      ],
      "execution_count": null,
      "outputs": [
        {
          "output_type": "stream",
          "text": [
            "Accuracy of GaussianNB on training set: 0.89550000\n",
            "Accuracy of GaussianNB  on test set: 0.88600000\n"
          ],
          "name": "stdout"
        }
      ]
    },
    {
      "cell_type": "code",
      "metadata": {
        "colab": {
          "base_uri": "https://localhost:8080/"
        },
        "id": "pyQUgju3CDtP",
        "outputId": "71a89c6d-e8bf-4795-a9c5-09f7b32d3284"
      },
      "source": [
        "print(classification_report(y_pred_GNB, Y_test))"
      ],
      "execution_count": null,
      "outputs": [
        {
          "output_type": "stream",
          "text": [
            "              precision    recall  f1-score   support\n",
            "\n",
            "           0       0.96      0.80      0.87       491\n",
            "           1       0.84      0.96      0.90       509\n",
            "\n",
            "    accuracy                           0.89      1000\n",
            "   macro avg       0.90      0.88      0.88      1000\n",
            "weighted avg       0.90      0.89      0.89      1000\n",
            "\n"
          ],
          "name": "stdout"
        }
      ]
    },
    {
      "cell_type": "markdown",
      "metadata": {
        "id": "J9jz-koUx-mn"
      },
      "source": [
        "# **4-XGBoost Random Forest Classifier**"
      ]
    },
    {
      "cell_type": "code",
      "metadata": {
        "colab": {
          "base_uri": "https://localhost:8080/"
        },
        "id": "UE9HMSfjukpG",
        "outputId": "81d04e7f-0012-4eec-e2fa-d532f02e4ead"
      },
      "source": [
        "from xgboost import XGBRFClassifier\n",
        "XGBRF = XGBRFClassifier()\n",
        "XGBRF.fit(X_train, Y_train)\n",
        "y_pred_XGBRF = XGBRF.predict(X_test)\n",
        "print('Accuracy of XGBoostRFClassifier on training set: {:.8f}'.format(XGBRF.score(X_train, Y_train)))\n",
        "print('Accuracy of XGBoostRFClassifier on test set: {:.8f}'.format(XGBRF.score(X_test, Y_test)))"
      ],
      "execution_count": null,
      "outputs": [
        {
          "output_type": "stream",
          "text": [
            "Accuracy of XGBoostRFClassifier on training set: 0.90825000\n",
            "Accuracy of XGBoostRFClassifier on test set: 0.89000000\n"
          ],
          "name": "stdout"
        }
      ]
    },
    {
      "cell_type": "code",
      "metadata": {
        "colab": {
          "base_uri": "https://localhost:8080/"
        },
        "id": "8zSPy1f1CefH",
        "outputId": "e9cf45b3-0d73-475f-e42e-6d2af710ccd4"
      },
      "source": [
        "print(classification_report(y_pred_XGBRF, Y_test))"
      ],
      "execution_count": null,
      "outputs": [
        {
          "output_type": "stream",
          "text": [
            "              precision    recall  f1-score   support\n",
            "\n",
            "           0       0.91      0.84      0.87       445\n",
            "           1       0.88      0.93      0.90       555\n",
            "\n",
            "    accuracy                           0.89      1000\n",
            "   macro avg       0.89      0.89      0.89      1000\n",
            "weighted avg       0.89      0.89      0.89      1000\n",
            "\n"
          ],
          "name": "stdout"
        }
      ]
    },
    {
      "cell_type": "markdown",
      "metadata": {
        "id": "9y6eFsVE5eiH"
      },
      "source": [
        "# **5-Support Vector Classifier**"
      ]
    },
    {
      "cell_type": "code",
      "metadata": {
        "colab": {
          "base_uri": "https://localhost:8080/"
        },
        "id": "myvPLaR44-Rm",
        "outputId": "3f5e48a4-8c60-4905-9934-e2f762945d6b"
      },
      "source": [
        "from sklearn.svm import SVC\n",
        "SVC = SVC()\n",
        "SVC.fit(X_train, Y_train)\n",
        "y_pred_SVC = SVC.predict(X_test)\n",
        "print('Accuracy of SupportVectorClassifier on training set: {:.8f}'.format(SVC.score(X_train, Y_train)))\n",
        "print('Accuracy of SupportVectorClassifier on test set: {:.8f}'.format(SVC.score(X_test, Y_test)))"
      ],
      "execution_count": null,
      "outputs": [
        {
          "output_type": "stream",
          "text": [
            "Accuracy of SupportVectorClassifier on training set: 0.96075000\n",
            "Accuracy of SupportVectorClassifier on test set: 0.94600000\n"
          ],
          "name": "stdout"
        }
      ]
    },
    {
      "cell_type": "code",
      "metadata": {
        "colab": {
          "base_uri": "https://localhost:8080/"
        },
        "id": "9sQGOGEPCmTg",
        "outputId": "de697959-c8a6-42b6-d593-6863bee7e370"
      },
      "source": [
        "print(classification_report(y_pred_SVC, Y_test))"
      ],
      "execution_count": null,
      "outputs": [
        {
          "output_type": "stream",
          "text": [
            "              precision    recall  f1-score   support\n",
            "\n",
            "           0       0.98      0.90      0.94       447\n",
            "           1       0.93      0.98      0.95       553\n",
            "\n",
            "    accuracy                           0.95      1000\n",
            "   macro avg       0.95      0.94      0.94      1000\n",
            "weighted avg       0.95      0.95      0.95      1000\n",
            "\n"
          ],
          "name": "stdout"
        }
      ]
    },
    {
      "cell_type": "markdown",
      "metadata": {
        "id": "0_bclkrE7ogv"
      },
      "source": [
        "# **III-Choix de modèle**"
      ]
    },
    {
      "cell_type": "code",
      "metadata": {
        "id": "m0t5VDs0ym_2"
      },
      "source": [
        "models = [\"DecisionTreeClassifier\",\"LogisticRegression\",\"GaussianNB\",\"XGBRFClassifier\",\"SupportVectorClassifier\"]"
      ],
      "execution_count": null,
      "outputs": []
    },
    {
      "cell_type": "code",
      "metadata": {
        "id": "X8J8x3nkzxPo"
      },
      "source": [
        "Accuracy_Train = [0.97300000,0.95350000,0.89550000,0.90825000,0.96075000]"
      ],
      "execution_count": null,
      "outputs": []
    },
    {
      "cell_type": "code",
      "metadata": {
        "id": "SARktS22zUSV"
      },
      "source": [
        "scores = { \"Model Name\" : models , \"Accuracy Score\" : Accuracy_Train}"
      ],
      "execution_count": null,
      "outputs": []
    },
    {
      "cell_type": "code",
      "metadata": {
        "id": "JN67hck71Uwm"
      },
      "source": [
        "df2 = pd.DataFrame(scores)"
      ],
      "execution_count": null,
      "outputs": []
    },
    {
      "cell_type": "code",
      "metadata": {
        "colab": {
          "base_uri": "https://localhost:8080/",
          "height": 194
        },
        "id": "_pMFlaG_1cb9",
        "outputId": "b7ab0d8d-4cd6-41df-ecd5-5635aee78272"
      },
      "source": [
        "df2"
      ],
      "execution_count": null,
      "outputs": [
        {
          "output_type": "execute_result",
          "data": {
            "text/html": [
              "<div>\n",
              "<style scoped>\n",
              "    .dataframe tbody tr th:only-of-type {\n",
              "        vertical-align: middle;\n",
              "    }\n",
              "\n",
              "    .dataframe tbody tr th {\n",
              "        vertical-align: top;\n",
              "    }\n",
              "\n",
              "    .dataframe thead th {\n",
              "        text-align: right;\n",
              "    }\n",
              "</style>\n",
              "<table border=\"1\" class=\"dataframe\">\n",
              "  <thead>\n",
              "    <tr style=\"text-align: right;\">\n",
              "      <th></th>\n",
              "      <th>Model Name</th>\n",
              "      <th>Accuracy Score</th>\n",
              "    </tr>\n",
              "  </thead>\n",
              "  <tbody>\n",
              "    <tr>\n",
              "      <th>0</th>\n",
              "      <td>DecisionTreeClassifier</td>\n",
              "      <td>0.97300</td>\n",
              "    </tr>\n",
              "    <tr>\n",
              "      <th>1</th>\n",
              "      <td>LogisticRegression</td>\n",
              "      <td>0.95350</td>\n",
              "    </tr>\n",
              "    <tr>\n",
              "      <th>2</th>\n",
              "      <td>GaussianNB</td>\n",
              "      <td>0.89550</td>\n",
              "    </tr>\n",
              "    <tr>\n",
              "      <th>3</th>\n",
              "      <td>XGBRFClassifier</td>\n",
              "      <td>0.90825</td>\n",
              "    </tr>\n",
              "    <tr>\n",
              "      <th>4</th>\n",
              "      <td>SupportVectorClassifier</td>\n",
              "      <td>0.96075</td>\n",
              "    </tr>\n",
              "  </tbody>\n",
              "</table>\n",
              "</div>"
            ],
            "text/plain": [
              "                Model Name  Accuracy Score\n",
              "0   DecisionTreeClassifier         0.97300\n",
              "1       LogisticRegression         0.95350\n",
              "2               GaussianNB         0.89550\n",
              "3          XGBRFClassifier         0.90825\n",
              "4  SupportVectorClassifier         0.96075"
            ]
          },
          "metadata": {
            "tags": []
          },
          "execution_count": 26
        }
      ]
    },
    {
      "cell_type": "code",
      "metadata": {
        "id": "PDgztfoE11bA"
      },
      "source": [
        "import matplotlib.pyplot as plt \n",
        "import seaborn as sns"
      ],
      "execution_count": null,
      "outputs": []
    },
    {
      "cell_type": "code",
      "metadata": {
        "colab": {
          "base_uri": "https://localhost:8080/",
          "height": 621
        },
        "id": "Y1WwbldI1rTo",
        "outputId": "e09c9dc2-9303-4f89-a01d-9304d79a7841"
      },
      "source": [
        "plt.figure(figsize = (20,10))\n",
        "sns.barplot(x = \"Model Name\", y = \"Accuracy Score\", data=df2)\n",
        "plt.title(\"Model Comparison accuracy\")\n",
        "plt.grid()"
      ],
      "execution_count": null,
      "outputs": [
        {
          "output_type": "display_data",
          "data": {
            "image/png": "[encoded data removed]",
            "text/plain": [
              "<Figure size 1440x720 with 1 Axes>"
            ]
          },
          "metadata": {
            "tags": [],
            "needs_background": "light"
          }
        }
      ]
    },
    {
      "cell_type": "markdown",
      "metadata": {
        "id": "WS-YdDuZ8Tzp"
      },
      "source": [
        "**Le modèle le plus performant dans notre cas est \"DecisionTreeClassifier\"**"
      ]
    }
  ]
}